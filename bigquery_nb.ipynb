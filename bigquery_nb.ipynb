{
 "cells": [
  {
   "cell_type": "markdown",
   "id": "24fe187c-f16a-493e-aa23-4ec056433924",
   "metadata": {
    "editable": true,
    "slideshow": {
     "slide_type": ""
    },
    "tags": []
   },
   "source": [
    "# SOCIAL MEDIA VS PRODUCTIVITY\n",
    "\n",
    "This dataset captures individual-level information related to demographics, social media habits, work behavior, and digital well-being. Below is a brief description of each column:\n",
    "\n",
    "- **age**: Participant's age.\n",
    "- **gender**: Gender identity.\n",
    "- **job_type**: Employment status or occupation.\n",
    "- **daily_social_media_time**: Hours spent on social media per day.\n",
    "- **social_platform_preference**: Most used or preferred social platform.\n",
    "- **number_of_notifications**: Daily average number of notifications received.\n",
    "- **work_hours_per_day**: Daily working hours.\n",
    "- **perceived_productivity_score**: Self-rated productivity score.\n",
    "- **actual_productivity_score**: Measured or externally assessed productivity.\n",
    "- **stress_level**: Reported stress level.\n",
    "- **sleep_hours**: Average nightly sleep duration.\n",
    "- **screen_time_before_sleep**: Screen time before sleep (in hours).\n",
    "- **breaks_during_work**: Number of work breaks per day.\n",
    "- **uses_focus_apps**: Whether focus/productivity apps are used (True/False).\n",
    "- **has_digital_wellbeing_enabled**: Whether digital wellbeing features are enabled (True/False).\n",
    "- **coffee_consumption_per_day**: Daily coffee intake (cups).\n",
    "- **days_feeling_burnout_per_month**: Monthly frequency of burnout days.\n",
    "- **weekly_offline_hours**: Hours spent offline per week.\n",
    "- **job_satisfaction_score**: Self-rated job satisfaction score.\n",
    "\n",
    "This structured data supports analysis of how digital habits and work-life balance impact productivity and well-being."
   ]
  },
  {
   "cell_type": "code",
   "execution_count": 1,
   "id": "e3b65183-fc84-4b36-88ae-2771406bbc35",
   "metadata": {
    "editable": true,
    "slideshow": {
     "slide_type": ""
    },
    "tags": [
     "hide_cell"
    ]
   },
   "outputs": [],
   "source": [
    "!pip install -q --upgrade google-cloud-bigquery pandas-gbq google-cloud-bigquery-storage bigquery-magics"
   ]
  },
  {
   "cell_type": "code",
   "execution_count": 2,
   "id": "24a2aafa-256b-489c-9080-c55cba07f141",
   "metadata": {
    "editable": true,
    "slideshow": {
     "slide_type": ""
    },
    "tags": [
     "hide_input"
    ]
   },
   "outputs": [],
   "source": [
    "%load_ext bigquery_magics"
   ]
  },
  {
   "cell_type": "code",
   "execution_count": 3,
   "id": "d70c647a-5684-45cf-b5f5-5a374423ecc5",
   "metadata": {
    "editable": true,
    "slideshow": {
     "slide_type": ""
    },
    "tags": [
     "hide_input"
    ]
   },
   "outputs": [],
   "source": [
    "import os\n",
    "from google.cloud import bigquery\n",
    "from google.cloud import storage\n",
    "from tabulate import tabulate\n",
    "import matplotlib.pyplot as plt\n",
    "import numpy as np\n",
    "import pandas as pd\n",
    "from IPython.display import display, Markdown\n",
    "\n",
    "os.environ[\"GOOGLE_APPLICATION_CREDENTIALS\"] = \"C:\\\\Users\\\\LENOVO\\\\Desktop\\\\Università\\\\DATA SCIENCE\\\\Cloud Computing & BigData\\\\project_CC\\\\ccbd-exam-2025-leonardi-2cb424d0b814.json\"\n",
    "\n",
    "client = bigquery.Client(project=\"ccbd-exam-2025-leonardi\")"
   ]
  },
  {
   "cell_type": "code",
   "execution_count": 4,
   "id": "c5921603-9bc5-478c-a415-7c7947c7f2f9",
   "metadata": {
    "editable": true,
    "slideshow": {
     "slide_type": ""
    },
    "tags": [
     "hide_input"
    ]
   },
   "outputs": [],
   "source": [
    "%%capture\n",
    "%%bigquery df \n",
    "SELECT *\n",
    "FROM `ccbd-exam-2025-leonardi.social_media_vs_productivity.productivity_data`"
   ]
  },
  {
   "cell_type": "code",
   "execution_count": 5,
   "id": "8ee966f5-cc46-4e4d-9de0-bcae1a4d6bf7",
   "metadata": {
    "editable": true,
    "slideshow": {
     "slide_type": ""
    },
    "tags": [
     "hide_cell"
    ]
   },
   "outputs": [
    {
     "data": {
      "text/html": [
       "<div>\n",
       "<style scoped>\n",
       "    .dataframe tbody tr th:only-of-type {\n",
       "        vertical-align: middle;\n",
       "    }\n",
       "\n",
       "    .dataframe tbody tr th {\n",
       "        vertical-align: top;\n",
       "    }\n",
       "\n",
       "    .dataframe thead th {\n",
       "        text-align: right;\n",
       "    }\n",
       "</style>\n",
       "<table border=\"1\" class=\"dataframe\">\n",
       "  <thead>\n",
       "    <tr style=\"text-align: right;\">\n",
       "      <th></th>\n",
       "      <th>age</th>\n",
       "      <th>gender</th>\n",
       "      <th>job_type</th>\n",
       "      <th>daily_social_media_time</th>\n",
       "      <th>social_platform_preference</th>\n",
       "      <th>number_of_notifications</th>\n",
       "      <th>work_hours_per_day</th>\n",
       "      <th>perceived_productivity_score</th>\n",
       "      <th>actual_productivity_score</th>\n",
       "      <th>stress_level</th>\n",
       "      <th>sleep_hours</th>\n",
       "      <th>screen_time_before_sleep</th>\n",
       "      <th>breaks_during_work</th>\n",
       "      <th>uses_focus_apps</th>\n",
       "      <th>has_digital_wellbeing_enabled</th>\n",
       "      <th>coffee_consumption_per_day</th>\n",
       "      <th>days_feeling_burnout_per_month</th>\n",
       "      <th>weekly_offline_hours</th>\n",
       "      <th>job_satisfaction_score</th>\n",
       "    </tr>\n",
       "  </thead>\n",
       "  <tbody>\n",
       "    <tr>\n",
       "      <th>0</th>\n",
       "      <td>18</td>\n",
       "      <td>Female</td>\n",
       "      <td>Student</td>\n",
       "      <td>1.572809</td>\n",
       "      <td>Twitter</td>\n",
       "      <td>54</td>\n",
       "      <td>6.424105</td>\n",
       "      <td>7.922042</td>\n",
       "      <td>7.191692</td>\n",
       "      <td>3.0</td>\n",
       "      <td>4.005938</td>\n",
       "      <td>0.309339</td>\n",
       "      <td>7</td>\n",
       "      <td>True</td>\n",
       "      <td>False</td>\n",
       "      <td>2</td>\n",
       "      <td>0</td>\n",
       "      <td>13.715483</td>\n",
       "      <td>7.772842</td>\n",
       "    </tr>\n",
       "    <tr>\n",
       "      <th>1</th>\n",
       "      <td>18</td>\n",
       "      <td>Female</td>\n",
       "      <td>Student</td>\n",
       "      <td>3.898538</td>\n",
       "      <td>Facebook</td>\n",
       "      <td>54</td>\n",
       "      <td>3.819271</td>\n",
       "      <td>3.675954</td>\n",
       "      <td>2.579505</td>\n",
       "      <td>10.0</td>\n",
       "      <td>7.406879</td>\n",
       "      <td>1.680079</td>\n",
       "      <td>8</td>\n",
       "      <td>False</td>\n",
       "      <td>False</td>\n",
       "      <td>0</td>\n",
       "      <td>0</td>\n",
       "      <td>14.963448</td>\n",
       "      <td>2.056963</td>\n",
       "    </tr>\n",
       "    <tr>\n",
       "      <th>2</th>\n",
       "      <td>18</td>\n",
       "      <td>Male</td>\n",
       "      <td>Unemployed</td>\n",
       "      <td>0.444768</td>\n",
       "      <td>Instagram</td>\n",
       "      <td>64</td>\n",
       "      <td>7.967439</td>\n",
       "      <td>5.058437</td>\n",
       "      <td>4.302344</td>\n",
       "      <td>1.0</td>\n",
       "      <td>NaN</td>\n",
       "      <td>2.049765</td>\n",
       "      <td>4</td>\n",
       "      <td>False</td>\n",
       "      <td>True</td>\n",
       "      <td>0</td>\n",
       "      <td>0</td>\n",
       "      <td>32.218338</td>\n",
       "      <td>6.433677</td>\n",
       "    </tr>\n",
       "    <tr>\n",
       "      <th>3</th>\n",
       "      <td>18</td>\n",
       "      <td>Male</td>\n",
       "      <td>IT</td>\n",
       "      <td>3.916889</td>\n",
       "      <td>Instagram</td>\n",
       "      <td>59</td>\n",
       "      <td>8.339486</td>\n",
       "      <td>2.096601</td>\n",
       "      <td>1.813856</td>\n",
       "      <td>5.0</td>\n",
       "      <td>7.639024</td>\n",
       "      <td>1.459525</td>\n",
       "      <td>6</td>\n",
       "      <td>False</td>\n",
       "      <td>False</td>\n",
       "      <td>1</td>\n",
       "      <td>0</td>\n",
       "      <td>22.205752</td>\n",
       "      <td>NaN</td>\n",
       "    </tr>\n",
       "    <tr>\n",
       "      <th>4</th>\n",
       "      <td>18</td>\n",
       "      <td>Male</td>\n",
       "      <td>Student</td>\n",
       "      <td>2.420757</td>\n",
       "      <td>Instagram</td>\n",
       "      <td>66</td>\n",
       "      <td>7.542464</td>\n",
       "      <td>NaN</td>\n",
       "      <td>2.555823</td>\n",
       "      <td>8.0</td>\n",
       "      <td>6.498614</td>\n",
       "      <td>1.467678</td>\n",
       "      <td>2</td>\n",
       "      <td>True</td>\n",
       "      <td>True</td>\n",
       "      <td>2</td>\n",
       "      <td>0</td>\n",
       "      <td>0.000000</td>\n",
       "      <td>1.137740</td>\n",
       "    </tr>\n",
       "  </tbody>\n",
       "</table>\n",
       "</div>"
      ],
      "text/plain": [
       "   age  gender    job_type  daily_social_media_time  \\\n",
       "0   18  Female     Student                 1.572809   \n",
       "1   18  Female     Student                 3.898538   \n",
       "2   18    Male  Unemployed                 0.444768   \n",
       "3   18    Male          IT                 3.916889   \n",
       "4   18    Male     Student                 2.420757   \n",
       "\n",
       "  social_platform_preference  number_of_notifications  work_hours_per_day  \\\n",
       "0                    Twitter                       54            6.424105   \n",
       "1                   Facebook                       54            3.819271   \n",
       "2                  Instagram                       64            7.967439   \n",
       "3                  Instagram                       59            8.339486   \n",
       "4                  Instagram                       66            7.542464   \n",
       "\n",
       "   perceived_productivity_score  actual_productivity_score  stress_level  \\\n",
       "0                      7.922042                   7.191692           3.0   \n",
       "1                      3.675954                   2.579505          10.0   \n",
       "2                      5.058437                   4.302344           1.0   \n",
       "3                      2.096601                   1.813856           5.0   \n",
       "4                           NaN                   2.555823           8.0   \n",
       "\n",
       "   sleep_hours  screen_time_before_sleep  breaks_during_work  uses_focus_apps  \\\n",
       "0     4.005938                  0.309339                   7             True   \n",
       "1     7.406879                  1.680079                   8            False   \n",
       "2          NaN                  2.049765                   4            False   \n",
       "3     7.639024                  1.459525                   6            False   \n",
       "4     6.498614                  1.467678                   2             True   \n",
       "\n",
       "   has_digital_wellbeing_enabled  coffee_consumption_per_day  \\\n",
       "0                          False                           2   \n",
       "1                          False                           0   \n",
       "2                           True                           0   \n",
       "3                          False                           1   \n",
       "4                           True                           2   \n",
       "\n",
       "   days_feeling_burnout_per_month  weekly_offline_hours  \\\n",
       "0                               0             13.715483   \n",
       "1                               0             14.963448   \n",
       "2                               0             32.218338   \n",
       "3                               0             22.205752   \n",
       "4                               0              0.000000   \n",
       "\n",
       "   job_satisfaction_score  \n",
       "0                7.772842  \n",
       "1                2.056963  \n",
       "2                6.433677  \n",
       "3                     NaN  \n",
       "4                1.137740  "
      ]
     },
     "execution_count": 5,
     "metadata": {},
     "output_type": "execute_result"
    }
   ],
   "source": [
    "df.head(5)"
   ]
  },
  {
   "cell_type": "code",
   "execution_count": 6,
   "id": "c71457c1-b7ab-4618-bc46-adc29902d418",
   "metadata": {
    "editable": true,
    "slideshow": {
     "slide_type": ""
    },
    "tags": [
     "hide_cell"
    ]
   },
   "outputs": [
    {
     "data": {
      "text/plain": [
       "pandas.core.frame.DataFrame"
      ]
     },
     "execution_count": 6,
     "metadata": {},
     "output_type": "execute_result"
    }
   ],
   "source": [
    "type(df)"
   ]
  },
  {
   "cell_type": "markdown",
   "id": "6a2dc2e9-917c-4929-960b-cef384b45410",
   "metadata": {
    "editable": true,
    "slideshow": {
     "slide_type": ""
    },
    "tags": []
   },
   "source": [
    "## Productivity by Job Type\n",
    "\n",
    "**Objective**:  \n",
    "This query analyzes how perceived and actual productivity vary across different job types.\n",
    "\n",
    "**How it works**:  \n",
    "- It selects the average *perceived* and *actual* productivity scores for each `job_type`.\n",
    "- It also counts the number of individuals in each group (`num_people`).\n",
    "- Results are grouped by job type and ordered by descending actual productivity.\n",
    "\n",
    "**Goal**:  \n",
    "To compare how people in different professions perceive their productivity versus how it is objectively measured, helping to identify potential mismatches or trends.\n",
    "\n",
    "**Results Summary**:  \n",
    "- People in **IT** report the highest actual productivity (5.01), followed by the **Unemployed** (4.99) and **Finance** professionals (4.97).\n",
    "- Across all job types, perceived productivity is slightly higher than actual productivity.\n",
    "- The differences are relatively small, suggesting consistent self-assessment across professions.\n",
    "\n",
    "This insight can support further analysis on work habits and the role of employment context in productivity.\n"
   ]
  },
  {
   "cell_type": "code",
   "execution_count": 24,
   "id": "5a3a9a53-ef05-449b-86ac-2c0e5dd82b93",
   "metadata": {},
   "outputs": [],
   "source": [
    "from google.cloud import bigquery\n",
    "\n",
    "q = \"\"\"\n",
    "SELECT\n",
    "  job_type,\n",
    "  AVG(perceived_productivity_score) AS avg_perceived,\n",
    "  AVG(actual_productivity_score) AS avg_actual,\n",
    "  COUNT(*) AS num_people\n",
    "FROM\n",
    "  `ccbd-exam-2025-leonardi.social_media_vs_productivity.productivity_data`\n",
    "GROUP BY job_type\n",
    "ORDER BY avg_actual DESC\n",
    "\"\"\"\n",
    "\n",
    "res = client.query(q).to_dataframe()"
   ]
  },
  {
   "cell_type": "code",
   "execution_count": 25,
   "id": "1bfc7423-a9c4-4f85-96e3-8f429b05f7b4",
   "metadata": {},
   "outputs": [
    {
     "data": {
      "text/html": [
       "<div>\n",
       "<style scoped>\n",
       "    .dataframe tbody tr th:only-of-type {\n",
       "        vertical-align: middle;\n",
       "    }\n",
       "\n",
       "    .dataframe tbody tr th {\n",
       "        vertical-align: top;\n",
       "    }\n",
       "\n",
       "    .dataframe thead th {\n",
       "        text-align: right;\n",
       "    }\n",
       "</style>\n",
       "<table border=\"1\" class=\"dataframe\">\n",
       "  <thead>\n",
       "    <tr style=\"text-align: right;\">\n",
       "      <th></th>\n",
       "      <th>job_type</th>\n",
       "      <th>avg_perceived</th>\n",
       "      <th>avg_actual</th>\n",
       "      <th>num_people</th>\n",
       "    </tr>\n",
       "  </thead>\n",
       "  <tbody>\n",
       "    <tr>\n",
       "      <th>0</th>\n",
       "      <td>IT</td>\n",
       "      <td>5.561552</td>\n",
       "      <td>5.007447</td>\n",
       "      <td>5026</td>\n",
       "    </tr>\n",
       "    <tr>\n",
       "      <th>1</th>\n",
       "      <td>Unemployed</td>\n",
       "      <td>5.541885</td>\n",
       "      <td>4.985443</td>\n",
       "      <td>4958</td>\n",
       "    </tr>\n",
       "    <tr>\n",
       "      <th>2</th>\n",
       "      <td>Finance</td>\n",
       "      <td>5.507428</td>\n",
       "      <td>4.965829</td>\n",
       "      <td>5017</td>\n",
       "    </tr>\n",
       "    <tr>\n",
       "      <th>3</th>\n",
       "      <td>Education</td>\n",
       "      <td>5.489487</td>\n",
       "      <td>4.925198</td>\n",
       "      <td>5055</td>\n",
       "    </tr>\n",
       "    <tr>\n",
       "      <th>4</th>\n",
       "      <td>Health</td>\n",
       "      <td>5.483341</td>\n",
       "      <td>4.922816</td>\n",
       "      <td>4932</td>\n",
       "    </tr>\n",
       "    <tr>\n",
       "      <th>5</th>\n",
       "      <td>Student</td>\n",
       "      <td>5.479340</td>\n",
       "      <td>4.904264</td>\n",
       "      <td>5012</td>\n",
       "    </tr>\n",
       "  </tbody>\n",
       "</table>\n",
       "</div>"
      ],
      "text/plain": [
       "     job_type  avg_perceived  avg_actual  num_people\n",
       "0          IT       5.561552    5.007447        5026\n",
       "1  Unemployed       5.541885    4.985443        4958\n",
       "2     Finance       5.507428    4.965829        5017\n",
       "3   Education       5.489487    4.925198        5055\n",
       "4      Health       5.483341    4.922816        4932\n",
       "5     Student       5.479340    4.904264        5012"
      ]
     },
     "execution_count": 25,
     "metadata": {},
     "output_type": "execute_result"
    }
   ],
   "source": [
    "res"
   ]
  },
  {
   "cell_type": "code",
   "execution_count": 7,
   "id": "e332f2aa-b30f-4265-8f70-b91a105b89e9",
   "metadata": {
    "editable": true,
    "slideshow": {
     "slide_type": ""
    }
   },
   "outputs": [],
   "source": [
    "%%capture\n",
    "%%bigquery query\n",
    "SELECT\n",
    "  job_type,\n",
    "  AVG(perceived_productivity_score) AS avg_perceived,\n",
    "  AVG(actual_productivity_score) AS avg_actual,\n",
    "  COUNT(*) AS num_people\n",
    "FROM\n",
    "  `ccbd-exam-2025-leonardi.social_media_vs_productivity.productivity_data`\n",
    "GROUP BY job_type\n",
    "ORDER BY avg_actual DESC"
   ]
  },
  {
   "cell_type": "code",
   "execution_count": 8,
   "id": "d50525bf-0d10-4269-b12a-ff13145d9e20",
   "metadata": {
    "editable": true,
    "slideshow": {
     "slide_type": ""
    },
    "tags": [
     "hide_input"
    ]
   },
   "outputs": [
    {
     "data": {
      "text/markdown": [
       "<div align='center'>\n",
       "\n",
       "| job_type   |   avg_perceived |   avg_actual |   num_people |\n",
       "|:-----------|----------------:|-------------:|-------------:|\n",
       "| IT         |         5.56155 |      5.00745 |         5026 |\n",
       "| Unemployed |         5.54189 |      4.98544 |         4958 |\n",
       "| Finance    |         5.50743 |      4.96583 |         5017 |\n",
       "| Education  |         5.48949 |      4.9252  |         5055 |\n",
       "| Health     |         5.48334 |      4.92282 |         4932 |\n",
       "| Student    |         5.47934 |      4.90426 |         5012 |\n",
       "\n",
       "</div>"
      ],
      "text/plain": [
       "<IPython.core.display.Markdown object>"
      ]
     },
     "metadata": {},
     "output_type": "display_data"
    }
   ],
   "source": [
    "table_md = query.to_markdown(index=False)\n",
    "display(Markdown(f\"<div align='center'>\\n\\n{table_md}\\n\\n</div>\"))"
   ]
  },
  {
   "cell_type": "code",
   "execution_count": 9,
   "id": "04cef78e-b151-4bf1-9b1a-4e4f8bfa768f",
   "metadata": {
    "editable": true,
    "slideshow": {
     "slide_type": ""
    },
    "tags": [
     "hide_input"
    ]
   },
   "outputs": [
    {
     "data": {
      "image/png": "[encoded data removed]",
      "text/plain": [
       "<Figure size 1000x600 with 1 Axes>"
      ]
     },
     "metadata": {},
     "output_type": "display_data"
    }
   ],
   "source": [
    "job_types = query['job_type']\n",
    "avg_perceived = query['avg_perceived']\n",
    "avg_actual = query['avg_actual']\n",
    "    \n",
    "x = np.arange(len(job_types))\n",
    "width = 0.35\n",
    "    \n",
    "fig, ax = plt.subplots(figsize=(10,6))\n",
    "bars1 = ax.bar(x - width/2, avg_perceived, width, label='Avg Perceived', color='skyblue')\n",
    "bars2 = ax.bar(x + width/2, avg_actual, width, label='Avg Actual', color='salmon')\n",
    "    \n",
    "ax.set_xlabel('Job Type')\n",
    "ax.set_ylabel('Average Scores')\n",
    "ax.set_title('Average Perceived vs Actual by Job Type')\n",
    "ax.set_xticks(x)\n",
    "ax.set_xticklabels(job_types, rotation=45, ha='right')\n",
    "ax.legend()\n",
    "ax.grid(axis='y', linestyle='--', alpha=0.7)\n",
    "\n",
    "for bars in [bars1, bars2]:\n",
    "    for bar in bars:\n",
    "        height = bar.get_height()\n",
    "        ax.annotate(f'{height:.2f}',\n",
    "                    xy=(bar.get_x() + bar.get_width() / 2, height),\n",
    "                    xytext=(0, 3),  # spostamento verticale\n",
    "                    textcoords=\"offset points\",\n",
    "                    ha='center', va='bottom', fontsize=7)\n",
    "    \n",
    "plt.tight_layout()\n",
    "plt.show()"
   ]
  },
  {
   "cell_type": "markdown",
   "id": "64ac9c8e-18f0-4d29-93c6-e415679df202",
   "metadata": {
    "editable": true,
    "slideshow": {
     "slide_type": ""
    },
    "tags": []
   },
   "source": [
    "## Social Platform Preferences\n",
    "\n",
    "**Objective**:  \n",
    "To identify the most popular social media platforms among users in the dataset.\n",
    "\n",
    "**How it works**:  \n",
    "- The query counts how many users prefer each `social_platform_preference`.\n",
    "- It groups the data by platform and sorts the result in descending order of user count.\n",
    "\n",
    "**Goal**:  \n",
    "To understand user distribution across platforms, which can help analyze platform-specific behaviors or impacts on productivity.\n",
    "\n",
    "**Results Summary**:  \n",
    "- **TikTok** is the most preferred platform with 6,096 users, followed by **Telegram** (6,013) and **Instagram** (6,006).\n",
    "- **Twitter** and **Facebook** also have substantial user bases but slightly lower numbers.\n",
    "\n",
    "These figures suggest TikTok leads in popularity among participants, which could have implications for digital behavior patterns and time use.\n"
   ]
  },
  {
   "cell_type": "code",
   "execution_count": 10,
   "id": "2db85c67-0a01-4ec9-bc06-f3ea86eeb5f1",
   "metadata": {
    "editable": true,
    "slideshow": {
     "slide_type": ""
    }
   },
   "outputs": [],
   "source": [
    "%%capture\n",
    "%%bigquery query2\n",
    "SELECT \n",
    "  social_platform_preference AS platform, COUNT(*) AS total_users\n",
    "FROM \n",
    "  `ccbd-exam-2025-leonardi.social_media_vs_productivity.productivity_data`\n",
    "GROUP BY platform\n",
    "ORDER BY total_users DESC"
   ]
  },
  {
   "cell_type": "code",
   "execution_count": 11,
   "id": "01b6cef5-ba03-4310-84e5-2e6b8c1b3780",
   "metadata": {
    "editable": true,
    "slideshow": {
     "slide_type": ""
    },
    "tags": [
     "hide_input"
    ]
   },
   "outputs": [
    {
     "data": {
      "text/markdown": [
       "<div align='center'>\n",
       "\n",
       "| platform   |   total_users |\n",
       "|:-----------|--------------:|\n",
       "| TikTok     |          6096 |\n",
       "| Telegram   |          6013 |\n",
       "| Instagram  |          6006 |\n",
       "| Twitter    |          5964 |\n",
       "| Facebook   |          5921 |\n",
       "\n",
       "</div>"
      ],
      "text/plain": [
       "<IPython.core.display.Markdown object>"
      ]
     },
     "metadata": {},
     "output_type": "display_data"
    }
   ],
   "source": [
    "table_md = query2.to_markdown(index=False)\n",
    "display(Markdown(f\"<div align='center'>\\n\\n{table_md}\\n\\n</div>\"))"
   ]
  },
  {
   "cell_type": "code",
   "execution_count": 12,
   "id": "c80a94d9-acb8-4c4f-a1ab-f9e1d81665ad",
   "metadata": {
    "editable": true,
    "slideshow": {
     "slide_type": ""
    },
    "tags": [
     "hide_input"
    ]
   },
   "outputs": [
    {
     "data": {
      "image/png": "[encoded data removed]",
      "text/plain": [
       "<Figure size 400x400 with 1 Axes>"
      ]
     },
     "metadata": {},
     "output_type": "display_data"
    }
   ],
   "source": [
    "plt.figure(figsize=(4,4))\n",
    "plt.pie(query2['total_users'], labels=query2['platform'], autopct='%1.1f%%', startangle=140, colors=plt.cm.Paired.colors)\n",
    "plt.title('User Distribution by Platform')\n",
    "plt.axis('equal')\n",
    "plt.show()"
   ]
  },
  {
   "cell_type": "markdown",
   "id": "6345b093-34c8-49a0-ad9a-2821b2dd88b1",
   "metadata": {},
   "source": [
    "## Social Media Time by Age Group\n",
    "\n",
    "**Objective**:  \n",
    "To examine how daily social media usage varies across different age groups.\n",
    "\n",
    "**How it works**:  \n",
    "- Ages are grouped into predefined ranges (e.g., 18–24, 25–34).\n",
    "- The average daily time spent on social media is calculated for each group.\n",
    "\n",
    "**Goal**:  \n",
    "To identify age-based patterns in social media usage.\n",
    "\n",
    "**Results Summary**:  \n",
    "- All age groups spend roughly 3.1 hours per day on social media.\n",
    "- The **35–44** group shows slightly higher usage (3.16 hours), while the **55+** group has the lowest (3.08).\n",
    "\n",
    "This suggests relatively consistent usage across age ranges, with minor differences.\n"
   ]
  },
  {
   "cell_type": "code",
   "execution_count": 13,
   "id": "164d5199-a990-47e3-8e85-eb7ae2fb8e37",
   "metadata": {
    "editable": true,
    "slideshow": {
     "slide_type": ""
    }
   },
   "outputs": [],
   "source": [
    "%%capture\n",
    "%%bigquery query3\n",
    "SELECT\n",
    "  CASE\n",
    "    WHEN age < 18 THEN 'Under 18'\n",
    "    WHEN age BETWEEN 18 AND 24 THEN '18-24'\n",
    "    WHEN age BETWEEN 25 AND 34 THEN '25-34'\n",
    "    WHEN age BETWEEN 35 AND 44 THEN '35-44'\n",
    "    WHEN age BETWEEN 45 AND 54 THEN '45-54'\n",
    "    ELSE '55+'\n",
    "  END AS age_group,\n",
    "  ROUND(AVG(daily_social_media_time), 2) AS avg_time_spent\n",
    "FROM `ccbd-exam-2025-leonardi.social_media_vs_productivity.productivity_data`\n",
    "GROUP BY age_group\n",
    "ORDER BY age_group"
   ]
  },
  {
   "cell_type": "code",
   "execution_count": 14,
   "id": "de6dc5b6-fe5f-453e-8aee-b9c2a7125631",
   "metadata": {
    "editable": true,
    "slideshow": {
     "slide_type": ""
    },
    "tags": [
     "hide_input"
    ]
   },
   "outputs": [
    {
     "data": {
      "text/markdown": [
       "<div align='center'>\n",
       "\n",
       "| age_group   |   avg_time_spent |\n",
       "|:------------|-----------------:|\n",
       "| 18-24       |             3.14 |\n",
       "| 25-34       |             3.09 |\n",
       "| 35-44       |             3.16 |\n",
       "| 45-54       |             3.11 |\n",
       "| 55+         |             3.08 |\n",
       "\n",
       "</div>"
      ],
      "text/plain": [
       "<IPython.core.display.Markdown object>"
      ]
     },
     "metadata": {},
     "output_type": "display_data"
    }
   ],
   "source": [
    "table_md = query3.to_markdown(index=False)\n",
    "display(Markdown(f\"<div align='center'>\\n\\n{table_md}\\n\\n</div>\"))"
   ]
  },
  {
   "cell_type": "code",
   "execution_count": 15,
   "id": "7ff5cc4a-b3f4-4d5d-9017-66add5e072c4",
   "metadata": {
    "editable": true,
    "slideshow": {
     "slide_type": ""
    },
    "tags": [
     "hide_input"
    ]
   },
   "outputs": [
    {
     "data": {
      "image/png": "[encoded data removed]",
      "text/plain": [
       "<Figure size 500x300 with 1 Axes>"
      ]
     },
     "metadata": {},
     "output_type": "display_data"
    }
   ],
   "source": [
    "plt.figure(figsize=(5,3))\n",
    "bars = plt.bar(query3['age_group'], query3['avg_time_spent'], color='mediumseagreen', width=0.4)\n",
    "\n",
    "plt.xlabel('Age Group')\n",
    "plt.ylabel('Average Time Spent (hours)')\n",
    "plt.title('Average Time Spent on Socials')\n",
    "plt.ylim(0, max(query3['avg_time_spent']) + 0.4)\n",
    "plt.grid(axis='y', linestyle='--', alpha=0.7)\n",
    "\n",
    "for bar in bars:\n",
    "    height = bar.get_height()\n",
    "    plt.text(bar.get_x() + bar.get_width()/2, height + 0.02, f'{height:.2f}', ha='center', va='bottom', fontsize=9)\n",
    "\n",
    "plt.show()"
   ]
  },
  {
   "cell_type": "markdown",
   "id": "07ea4667-da7e-47df-906e-49b24a7a80ab",
   "metadata": {},
   "source": [
    "## Social Media Time by Productivity Level\n",
    "\n",
    "**Objective**:  \n",
    "To explore the relationship between actual productivity and social media usage.\n",
    "\n",
    "**How it works**:  \n",
    "- Users are categorized into productivity levels (High, Medium, Low) based on their `actual_productivity_score`.\n",
    "- The average daily social media time is calculated for each group.\n",
    "\n",
    "**Goal**:  \n",
    "To assess whether higher productivity correlates with less time on social media.\n",
    "\n",
    "**Results Summary**:  \n",
    "- Surprisingly, the **High productivity** group spends the most time on social media (3.17 hours).\n",
    "- The **Medium** group spends the least (3.09 hours), with **Low** productivity users slightly higher (3.13).\n",
    "\n",
    "These results challenge assumptions and suggest that social media time alone may not directly impact productivity.\n"
   ]
  },
  {
   "cell_type": "code",
   "execution_count": 16,
   "id": "0ad77e06-d44a-46b7-862a-5c67d10ddf3b",
   "metadata": {
    "editable": true,
    "slideshow": {
     "slide_type": ""
    }
   },
   "outputs": [],
   "source": [
    "%%capture\n",
    "%%bigquery query4\n",
    "SELECT\n",
    "  CASE\n",
    "    WHEN actual_productivity_score >= 8 THEN 'High'\n",
    "    WHEN actual_productivity_score >= 5 THEN 'Medium'\n",
    "    ELSE 'Low'\n",
    "  END AS productivity_level,\n",
    "  ROUND(AVG(daily_social_media_time), 2) AS avg_time_social\n",
    "FROM `ccbd-exam-2025-leonardi.social_media_vs_productivity.productivity_data`\n",
    "GROUP BY productivity_level\n",
    "ORDER BY avg_time_social DESC"
   ]
  },
  {
   "cell_type": "code",
   "execution_count": 17,
   "id": "d6cdcee1-4c4a-4bfb-be84-26c10b8669aa",
   "metadata": {
    "editable": true,
    "slideshow": {
     "slide_type": ""
    },
    "tags": [
     "hide_input"
    ]
   },
   "outputs": [
    {
     "data": {
      "text/markdown": [
       "<div align='center'>\n",
       "\n",
       "| productivity_level   |   avg_time_social |\n",
       "|:---------------------|------------------:|\n",
       "| High                 |              3.17 |\n",
       "| Low                  |              3.13 |\n",
       "| Medium               |              3.09 |\n",
       "\n",
       "</div>"
      ],
      "text/plain": [
       "<IPython.core.display.Markdown object>"
      ]
     },
     "metadata": {},
     "output_type": "display_data"
    }
   ],
   "source": [
    "table_md = query4.to_markdown(index=False)\n",
    "display(Markdown(f\"<div align='center'>\\n\\n{table_md}\\n\\n</div>\"))"
   ]
  },
  {
   "cell_type": "code",
   "execution_count": 18,
   "id": "c5e39768-e0b1-4fd8-b752-5d2ee4aa958b",
   "metadata": {
    "editable": true,
    "slideshow": {
     "slide_type": ""
    },
    "tags": [
     "hide_input"
    ]
   },
   "outputs": [
    {
     "data": {
      "image/png": "[encoded data removed]",
      "text/plain": [
       "<Figure size 500x300 with 1 Axes>"
      ]
     },
     "metadata": {},
     "output_type": "display_data"
    }
   ],
   "source": [
    "plt.figure(figsize=(5,3))\n",
    "plt.bar(query4['productivity_level'], query4['avg_time_social'], color='coral', width=0.5)\n",
    "plt.xlabel('Productivity Level')\n",
    "plt.ylabel('Average Time on Social Media (hours)')\n",
    "plt.title('Average Time on Social Media by Productivity Level')\n",
    "plt.ylim(0, max(query4['avg_time_social']) + 0.4)\n",
    "plt.grid(axis='y', linestyle='--', alpha=0.7)\n",
    "\n",
    "for i, val in enumerate(query4['avg_time_social']):\n",
    "    plt.text(i, val + 0.02, f'{val:.2f}', ha='center', va='bottom', fontsize=9)\n",
    "\n",
    "plt.show()"
   ]
  },
  {
   "cell_type": "markdown",
   "id": "f0fa2ae0-deb6-4f71-8d43-576b1cbc892e",
   "metadata": {
    "editable": true,
    "slideshow": {
     "slide_type": ""
    },
    "tags": []
   },
   "source": [
    "## Function Overview: Exporting BigQuery Results to GCS\n",
    "\n",
    "This code defines two helper functions to run a BigQuery query and export its result as a file to Google Cloud Storage (GCS).\n",
    "\n",
    "**1. `ensure_dataset_exists(dataset_name)`**  \n",
    "Ensures that a temporary dataset exists in the project. If not, it creates one in the **EU** location.\n",
    "\n",
    "**2. `save_query_result_to_gcs(query, destination_uri)`**  \n",
    "- Creates the temp dataset (if needed).\n",
    "- Parses the GCS path (`gs://bucket/path/file.csv`).\n",
    "- Deletes any existing blob at the target path to allow overwrite.\n",
    "- Executes the BigQuery query and saves the result in a temporary table.\n",
    "- Exports that table to GCS in the specified location.\n",
    "- Deletes the temporary dataset after the export.\n",
    "\n",
    "This approach is useful for automating data exports from BigQuery to GCS as part of a data pipeline or for external analysis."
   ]
  },
  {
   "cell_type": "code",
   "execution_count": 19,
   "id": "8ec9f31d-f27e-4f01-8dd0-dc605423043f",
   "metadata": {
    "editable": true,
    "slideshow": {
     "slide_type": ""
    },
    "tags": []
   },
   "outputs": [],
   "source": [
    "def ensure_dataset_exists(dataset_name):\n",
    "    dataset_id = f\"{client.project}.{dataset_name}\"\n",
    "    try:\n",
    "        client.get_dataset(dataset_id)\n",
    "    except Exception:\n",
    "        dataset = bigquery.Dataset(dataset_id)\n",
    "        dataset.location = \"EU\"\n",
    "        client.create_dataset(dataset)\n",
    "\n",
    "def save_query_result_to_gcs(query, destination_uri):\n",
    "    dataset_name = \"temp_dataset\"\n",
    "    ensure_dataset_exists(dataset_name)\n",
    "\n",
    "    # Parsing bucket and blob path\n",
    "    path_parts = destination_uri.replace(\"gs://\", \"\").split(\"/\", 1)\n",
    "    bucket_name = path_parts[0]\n",
    "    blob_path = path_parts[1]\n",
    "\n",
    "    # Initialize storage client\n",
    "    storage_client = storage.Client()\n",
    "    bucket = storage_client.bucket(bucket_name)\n",
    "    blob = bucket.blob(blob_path)\n",
    "\n",
    "    # If blob exists, delete it to allow overwrite\n",
    "    if blob.exists():\n",
    "        print(f\"⚠️ File {destination_uri} already exists. Overwriting.\")\n",
    "        blob.delete()\n",
    "\n",
    "    # Run BigQuery job with temp table\n",
    "    job_config = bigquery.QueryJobConfig(\n",
    "        destination=client.dataset(dataset_name).table(\"temp_table\"),\n",
    "        write_disposition=\"WRITE_TRUNCATE\"\n",
    "    )\n",
    "\n",
    "    query_job = client.query(query, job_config=job_config)\n",
    "    query_job.result()\n",
    "\n",
    "    # Export to GCS\n",
    "    destination_table = query_job.destination\n",
    "    extract_job = client.extract_table(\n",
    "        destination_table,\n",
    "        destination_uri,\n",
    "        location=\"EU\"\n",
    "    )\n",
    "    extract_job.result()\n",
    "    print(f\"✅ Results saved in {destination_uri}\")\n",
    "\n",
    "    # Delete the temp dataset\n",
    "    client.delete_dataset(f\"{client.project}.{dataset_name}\", delete_contents=True, not_found_ok=True)"
   ]
  },
  {
   "cell_type": "code",
   "execution_count": 20,
   "id": "1c7cba25-2868-446f-bf7d-9ccfd026e014",
   "metadata": {},
   "outputs": [],
   "source": [
    "query = \"\"\"\n",
    "SELECT\n",
    "  job_type,\n",
    "  AVG(perceived_productivity_score) AS avg_perceived,\n",
    "  AVG(actual_productivity_score) AS avg_actual,\n",
    "  COUNT(*) AS num_people\n",
    "FROM\n",
    "  `ccbd-exam-2025-leonardi.social_media_vs_productivity.productivity_data`\n",
    "GROUP BY job_type\n",
    "ORDER BY avg_actual DESC\n",
    "\"\"\"\n",
    "\n",
    "query2 = \"\"\"\n",
    "SELECT social_platform_preference AS platform, COUNT(*) AS total_users\n",
    "FROM `ccbd-exam-2025-leonardi.social_media_vs_productivity.productivity_data`\n",
    "GROUP BY platform\n",
    "ORDER BY total_users DESC\n",
    "\"\"\"\n",
    "\n",
    "query3 = \"\"\"\n",
    "SELECT\n",
    "  CASE\n",
    "    WHEN age < 18 THEN 'Under 18'\n",
    "    WHEN age BETWEEN 18 AND 24 THEN '18-24'\n",
    "    WHEN age BETWEEN 25 AND 34 THEN '25-34'\n",
    "    WHEN age BETWEEN 35 AND 44 THEN '35-44'\n",
    "    WHEN age BETWEEN 45 AND 54 THEN '45-54'\n",
    "    ELSE '55+'\n",
    "  END AS age_group,\n",
    "  ROUND(AVG(daily_social_media_time), 2) AS avg_time_spent\n",
    "FROM `ccbd-exam-2025-leonardi.social_media_vs_productivity.productivity_data`\n",
    "GROUP BY age_group\n",
    "ORDER BY age_group\n",
    "\"\"\"\n",
    "\n",
    "query4 = \"\"\"\n",
    "SELECT\n",
    "  CASE\n",
    "    WHEN actual_productivity_score >= 8 THEN 'High'\n",
    "    WHEN actual_productivity_score >= 5 THEN 'Medium'\n",
    "    ELSE 'Low'\n",
    "  END AS productivity_level,\n",
    "  ROUND(AVG(daily_social_media_time), 2) AS avg_time_social\n",
    "FROM `ccbd-exam-2025-leonardi.social_media_vs_productivity.productivity_data`\n",
    "GROUP BY productivity_level\n",
    "ORDER BY avg_time_social DESC\n",
    "\"\"\""
   ]
  },
  {
   "cell_type": "code",
   "execution_count": 21,
   "id": "6bc26cc9-22fa-486d-aa83-602c462a8141",
   "metadata": {
    "editable": true,
    "slideshow": {
     "slide_type": ""
    },
    "tags": []
   },
   "outputs": [
    {
     "name": "stdout",
     "output_type": "stream",
     "text": [
      "⚠️ File gs://exam-gl-bucket/JL1.csv already exists. Overwriting.\n",
      "✅ Results saved in gs://exam-gl-bucket/JL1.csv\n",
      "⚠️ File gs://exam-gl-bucket/JL2.csv already exists. Overwriting.\n",
      "✅ Results saved in gs://exam-gl-bucket/JL2.csv\n",
      "⚠️ File gs://exam-gl-bucket/JL3.csv already exists. Overwriting.\n",
      "✅ Results saved in gs://exam-gl-bucket/JL3.csv\n",
      "⚠️ File gs://exam-gl-bucket/JL4.csv already exists. Overwriting.\n",
      "✅ Results saved in gs://exam-gl-bucket/JL4.csv\n"
     ]
    }
   ],
   "source": [
    "save_query_result_to_gcs(query, \"gs://exam-gl-bucket/JL1.csv\")\n",
    "save_query_result_to_gcs(query2, \"gs://exam-gl-bucket/JL2.csv\")\n",
    "save_query_result_to_gcs(query3, \"gs://exam-gl-bucket/JL3.csv\")\n",
    "save_query_result_to_gcs(query4, \"gs://exam-gl-bucket/JL4.csv\")"
   ]
  }
 ],
 "metadata": {
  "kernelspec": {
   "display_name": "Python 3 (ipykernel)",
   "language": "python",
   "name": "python3"
  },
  "language_info": {
   "codemirror_mode": {
    "name": "ipython",
    "version": 3
   },
   "file_extension": ".py",
   "mimetype": "text/x-python",
   "name": "python",
   "nbconvert_exporter": "python",
   "pygments_lexer": "ipython3",
   "version": "3.13.0"
  }
 },
 "nbformat": 4,
 "nbformat_minor": 5
}
