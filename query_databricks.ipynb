{
 "cells": [
  {
   "cell_type": "markdown",
   "metadata": {
    "application/vnd.databricks.v1+cell": {
     "cellMetadata": {
      "byteLimit": 2048000,
      "rowLimit": 10000
     },
     "inputWidgets": {},
     "nuid": "8f461ddd-3dc9-4d91-ba3b-6d3af8474625",
     "showTitle": false,
     "tableResultSettingsMap": {},
     "title": ""
    }
   },
   "source": [
    "# Productivity Vs Social Media"
   ]
  },
  {
   "cell_type": "markdown",
   "metadata": {
    "application/vnd.databricks.v1+cell": {
     "cellMetadata": {
      "byteLimit": 2048000,
      "rowLimit": 10000
     },
     "inputWidgets": {},
     "nuid": "1a5cc3e0-571d-4516-81d4-a7cae02bf0cc",
     "showTitle": false,
     "tableResultSettingsMap": {},
     "title": ""
    }
   },
   "source": [
    "### Interactive Data Exploration\n",
    "\n",
    "After sampling a small portion of the dataset (5%, to simplify the first visualizations), we display the data using the display() function in Databricks. This function not only shows the data in tabular format but also enables interactive visualizations through the \"Visualizations\" tab in the notebook UI.\n",
    "\n",
    "The goal of this step is to gain an initial understanding of the dataset's structure, identify relevant variables, and spot potential data quality issues such as missing values or outliers.\n",
    "\n",
    "By interacting with the visualizations (e.g., bar charts, scatter plots, histograms), we can explore relationships between variables such as:\n",
    "\n",
    "- Social media usage vs. productivity levels\n",
    "- Satisfaction & stress by job type\n",
    "- The relation between the productivity and the use of focus app"
   ]
  },
  {
   "cell_type": "code",
   "execution_count": 0,
   "metadata": {
    "application/vnd.databricks.v1+cell": {
     "cellMetadata": {
      "byteLimit": 2048000,
      "rowLimit": 10000
     },
     "inputWidgets": {},
     "nuid": "c380161a-1b8f-4553-8ec7-a15d897651a7",
     "showTitle": false,
     "tableResultSettingsMap": {},
     "title": ""
    }
   },
   "outputs": [],
   "source": [
    "from pyspark.sql.functions import avg, when, col, round"
   ]
  },
  {
   "cell_type": "code",
   "execution_count": 0,
   "metadata": {
    "application/vnd.databricks.v1+cell": {
     "cellMetadata": {
      "byteLimit": 2048000,
      "rowLimit": 10000
     },
     "inputWidgets": {},
     "nuid": "3e78d59e-92ae-4bc6-a393-f44b02529670",
     "showTitle": false,
     "tableResultSettingsMap": {},
     "title": ""
    }
   },
   "outputs": [
    {
     "output_type": "stream",
     "name": "stdout",
     "output_type": "stream",
     "text": [
      "root\n |-- age: integer (nullable = true)\n |-- gender: string (nullable = true)\n |-- job_type: string (nullable = true)\n |-- daily_social_media_time: double (nullable = true)\n |-- social_platform_preference: string (nullable = true)\n |-- number_of_notifications: integer (nullable = true)\n |-- work_hours_per_day: double (nullable = true)\n |-- perceived_productivity_score: double (nullable = true)\n |-- actual_productivity_score: double (nullable = true)\n |-- stress_level: double (nullable = true)\n |-- sleep_hours: double (nullable = true)\n |-- screen_time_before_sleep: double (nullable = true)\n |-- breaks_during_work: integer (nullable = true)\n |-- uses_focus_apps: boolean (nullable = true)\n |-- has_digital_wellbeing_enabled: boolean (nullable = true)\n |-- coffee_consumption_per_day: integer (nullable = true)\n |-- days_feeling_burnout_per_month: integer (nullable = true)\n |-- weekly_offline_hours: double (nullable = true)\n |-- job_satisfaction_score: double (nullable = true)\n\n"
     ]
    }
   ],
   "source": [
    "df = spark.read.option(\"header\", \"true\").option(\"inferSchema\", \"true\").csv(\"/FileStore/tables/social_media_vs_productivity.csv\")\n",
    "df.printSchema()"
   ]
  },
  {
   "cell_type": "code",
   "execution_count": 0,
   "metadata": {
    "application/vnd.databricks.v1+cell": {
     "cellMetadata": {
      "byteLimit": 2048000,
      "rowLimit": 10000
     },
     "inputWidgets": {},
     "nuid": "7944c6ae-a1f1-4b76-8517-3393c8aafcdf",
     "showTitle": false,
     "tableResultSettingsMap": {},
     "title": ""
    }
   },
   "outputs": [
    {
     "output_type": "display_data",
     "data": {
      "text/html": [
       "<style scoped>\n",
       "  .table-result-container {\n",
       "    max-height: 300px;\n",
       "    overflow: auto;\n",
       "  }\n",
       "  table, th, td {\n",
       "    border: 1px solid black;\n",
       "    border-collapse: collapse;\n",
       "  }\n",
       "  th, td {\n",
       "    padding: 5px;\n",
       "  }\n",
       "  th {\n",
       "    text-align: left;\n",
       "  }\n",
       "</style><div class='table-result-container'><table class='table-result'><thead style='background-color: white'><tr><th>age</th><th>gender</th><th>job_type</th><th>daily_social_media_time</th><th>social_platform_preference</th><th>number_of_notifications</th><th>work_hours_per_day</th><th>perceived_productivity_score</th><th>actual_productivity_score</th><th>stress_level</th><th>sleep_hours</th><th>screen_time_before_sleep</th><th>breaks_during_work</th><th>uses_focus_apps</th><th>has_digital_wellbeing_enabled</th><th>coffee_consumption_per_day</th><th>days_feeling_burnout_per_month</th><th>weekly_offline_hours</th><th>job_satisfaction_score</th></tr></thead><tbody><tr><td>18</td><td>Female</td><td>Health</td><td>5.659078614608321</td><td>TikTok</td><td>65</td><td>7.3332468576662455</td><td>8.304703449463503</td><td>7.310026707240588</td><td>null</td><td>5.273339723346087</td><td>1.8079637278599021</td><td>9</td><td>false</td><td>false</td><td>0</td><td>4</td><td>13.082073468582905</td><td>7.116519804798976</td></tr><tr><td>25</td><td>Male</td><td>Health</td><td>6.345161356865601</td><td>TikTok</td><td>52</td><td>7.168335395243357</td><td>7.471023859422708</td><td>6.5387608292565575</td><td>5.0</td><td>5.4386800265608075</td><td>0.6936731308087017</td><td>7</td><td>false</td><td>false</td><td>3</td><td>21</td><td>10.97088437774076</td><td>5.828433835557561</td></tr><tr><td>43</td><td>Female</td><td>Student</td><td>2.2825148557576425</td><td>TikTok</td><td>67</td><td>5.770109728661129</td><td>3.4468461375812782</td><td>3.111164145676169</td><td>3.0</td><td>5.178195281210454</td><td>0.9939242212238445</td><td>4</td><td>true</td><td>true</td><td>2</td><td>0</td><td>7.969828426302271</td><td>2.861255750426452</td></tr><tr><td>35</td><td>Male</td><td>Education</td><td>2.93816783553385</td><td>Instagram</td><td>55</td><td>3.340657781076772</td><td>7.643999138440644</td><td>7.000467319756621</td><td>6.0</td><td>6.564097920817326</td><td>0.0</td><td>4</td><td>false</td><td>false</td><td>3</td><td>19</td><td>1.5263815455723595</td><td>8.112963072957507</td></tr><tr><td>43</td><td>Male</td><td>Unemployed</td><td>3.6226429563701124</td><td>TikTok</td><td>50</td><td>7.765011380573414</td><td>4.870763459398686</td><td>4.731098971853583</td><td>6.0</td><td>7.313646348159524</td><td>0.5113214388375292</td><td>1</td><td>false</td><td>false</td><td>3</td><td>29</td><td>15.284583324845464</td><td>4.60663684932843</td></tr><tr><td>57</td><td>Other</td><td>Finance</td><td>6.4488072902372044</td><td>Telegram</td><td>54</td><td>5.368903601036229</td><td>8.83782192502926</td><td>7.899630676127052</td><td>3.0</td><td>4.980000182425008</td><td>0.0</td><td>3</td><td>false</td><td>false</td><td>3</td><td>12</td><td>29.846565010782683</td><td>8.149630832283293</td></tr><tr><td>44</td><td>Female</td><td>Education</td><td>4.26339143891848</td><td>Instagram</td><td>74</td><td>2.6643926180229274</td><td>7.454450133351536</td><td>7.14245789232518</td><td>4.0</td><td>3.319927044987196</td><td>0.11899181198772957</td><td>6</td><td>true</td><td>false</td><td>2</td><td>11</td><td>11.882487388023648</td><td>6.5936303846466355</td></tr><tr><td>25</td><td>Female</td><td>Unemployed</td><td>null</td><td>Telegram</td><td>51</td><td>7.2669545814303085</td><td>6.972452272083669</td><td>6.250957015536886</td><td>5.0</td><td>7.462151413495438</td><td>1.7117492194124533</td><td>2</td><td>false</td><td>false</td><td>4</td><td>26</td><td>18.413647277035885</td><td>7.241430960920308</td></tr><tr><td>60</td><td>Female</td><td>Education</td><td>4.093916958326051</td><td>TikTok</td><td>49</td><td>4.610452021800405</td><td>2.806957609331298</td><td>2.6609104443280063</td><td>9.0</td><td>6.896621695081095</td><td>1.134445758807273</td><td>1</td><td>true</td><td>false</td><td>3</td><td>27</td><td>24.620986288558427</td><td>3.8738353661934863</td></tr><tr><td>20</td><td>Female</td><td>IT</td><td>5.757258415032106</td><td>Instagram</td><td>72</td><td>7.889019253700879</td><td>6.538641751891853</td><td>5.41191562061684</td><td>4.0</td><td>3.6389825509690783</td><td>1.366161163768728</td><td>7</td><td>false</td><td>false</td><td>1</td><td>6</td><td>9.864942227543121</td><td>5.157456443109098</td></tr><tr><td>27</td><td>Female</td><td>Finance</td><td>0.5801884502644015</td><td>Facebook</td><td>63</td><td>7.151250536248876</td><td>3.070430402061148</td><td>2.9421333557895473</td><td>6.0</td><td>5.580094876459061</td><td>0.2339666608547326</td><td>0</td><td>false</td><td>true</td><td>1</td><td>14</td><td>9.643933270513761</td><td>2.393588172571575</td></tr><tr><td>55</td><td>Male</td><td>Health</td><td>3.1363795842225763</td><td>Telegram</td><td>57</td><td>9.468271244799464</td><td>7.016077673877219</td><td>6.499366273358829</td><td>6.0</td><td>8.260507596978295</td><td>null</td><td>10</td><td>false</td><td>false</td><td>3</td><td>28</td><td>15.267089921604832</td><td>6.612745574008713</td></tr><tr><td>36</td><td>Female</td><td>Finance</td><td>1.9560854794545017</td><td>Facebook</td><td>70</td><td>6.672715529216909</td><td>7.686047788337578</td><td>7.393882459841922</td><td>3.0</td><td>7.073275358992792</td><td>0.5817397457565257</td><td>5</td><td>true</td><td>false</td><td>1</td><td>19</td><td>0.0</td><td>6.031936044573434</td></tr><tr><td>45</td><td>Female</td><td>Student</td><td>2.500651380289924</td><td>Instagram</td><td>50</td><td>9.518836443876634</td><td>8.670883788106273</td><td>7.1589851349530615</td><td>10.0</td><td>6.2393134221086095</td><td>0.9993483020197543</td><td>7</td><td>false</td><td>false</td><td>1</td><td>4</td><td>9.52500711543496</td><td>null</td></tr><tr><td>51</td><td>Male</td><td>Finance</td><td>0.0</td><td>TikTok</td><td>61</td><td>10.686061525940739</td><td>7.8742192531680955</td><td>7.122821647615447</td><td>2.0</td><td>4.474008035630714</td><td>0.5845532594493036</td><td>1</td><td>true</td><td>false</td><td>3</td><td>29</td><td>7.546124641461821</td><td>5.453270181040007</td></tr><tr><td>45</td><td>Other</td><td>IT</td><td>3.442344321493652</td><td>Instagram</td><td>54</td><td>10.114804607208953</td><td>5.299785921705841</td><td>4.570270485253972</td><td>2.0</td><td>4.633490930523493</td><td>0.0</td><td>3</td><td>false</td><td>false</td><td>2</td><td>14</td><td>20.471389386909287</td><td>3.5110580351461342</td></tr><tr><td>55</td><td>Male</td><td>Education</td><td>6.146778002483055</td><td>Instagram</td><td>57</td><td>5.069658812122308</td><td>4.211046367025345</td><td>3.54726603832118</td><td>5.0</td><td>8.478066700709054</td><td>1.284664338713844</td><td>8</td><td>false</td><td>false</td><td>2</td><td>12</td><td>13.604001622546026</td><td>3.9176485362463596</td></tr><tr><td>28</td><td>Male</td><td>Student</td><td>2.1190366685185884</td><td>Twitter</td><td>47</td><td>2.2553554575680987</td><td>2.4141300532387215</td><td>2.326243704845853</td><td>3.0</td><td>6.418468900741321</td><td>0.859978162277433</td><td>5</td><td>false</td><td>false</td><td>2</td><td>8</td><td>28.926811158900737</td><td>2.140107658094211</td></tr><tr><td>58</td><td>Other</td><td>Health</td><td>2.5797972397061413</td><td>TikTok</td><td>55</td><td>6.507942754238187</td><td>2.8894060102466845</td><td>3.1268607358098235</td><td>8.0</td><td>7.820252077602377</td><td>0.5496164216265372</td><td>1</td><td>false</td><td>false</td><td>1</td><td>2</td><td>5.966860346020209</td><td>null</td></tr><tr><td>52</td><td>Male</td><td>Unemployed</td><td>2.9344352634370234</td><td>Telegram</td><td>56</td><td>11.789797506014871</td><td>5.467686364165236</td><td>5.2775227093330495</td><td>2.0</td><td>8.923428838729654</td><td>2.3174431115482705</td><td>8</td><td>true</td><td>false</td><td>4</td><td>25</td><td>0.0</td><td>null</td></tr><tr><td>42</td><td>Female</td><td>Student</td><td>1.1816440146429474</td><td>Twitter</td><td>69</td><td>7.636121703681176</td><td>3.3860801088967225</td><td>2.961312497695205</td><td>4.0</td><td>8.567127551516105</td><td>0.35838766326999816</td><td>5</td><td>false</td><td>false</td><td>2</td><td>18</td><td>21.6617523756739</td><td>1.6942089468270807</td></tr><tr><td>42</td><td>Male</td><td>Student</td><td>5.380519275263955</td><td>Facebook</td><td>54</td><td>7.632339224290333</td><td>7.469687435593739</td><td>7.367979237878178</td><td>5.0</td><td>null</td><td>1.1468469779933337</td><td>9</td><td>false</td><td>true</td><td>0</td><td>16</td><td>9.879952650962244</td><td>6.514303191426667</td></tr><tr><td>57</td><td>Male</td><td>IT</td><td>4.212199324441979</td><td>Instagram</td><td>71</td><td>6.772560187577973</td><td>null</td><td>3.551963541142189</td><td>4.0</td><td>7.995015413884436</td><td>null</td><td>5</td><td>false</td><td>false</td><td>2</td><td>29</td><td>10.88374701571402</td><td>1.6441932406288622</td></tr><tr><td>64</td><td>Male</td><td>Student</td><td>1.8487805060586149</td><td>Facebook</td><td>53</td><td>6.141303423128085</td><td>5.47683211563662</td><td>5.291920335853593</td><td>1.0</td><td>4.208986696948523</td><td>1.1731318113766016</td><td>4</td><td>false</td><td>false</td><td>2</td><td>13</td><td>9.29086397850499</td><td>5.374983953378528</td></tr><tr><td>26</td><td>Male</td><td>Unemployed</td><td>3.7454813690493984</td><td>Twitter</td><td>70</td><td>8.222465103505835</td><td>5.453303010589028</td><td>4.675980525420289</td><td>5.0</td><td>8.730032074057517</td><td>0.7501588223512569</td><td>10</td><td>false</td><td>false</td><td>1</td><td>19</td><td>9.627095438402526</td><td>4.642901377243701</td></tr><tr><td>22</td><td>Female</td><td>Finance</td><td>2.2478842240466075</td><td>TikTok</td><td>61</td><td>4.636229991492775</td><td>4.546382133573022</td><td>4.1044588534997155</td><td>9.0</td><td>null</td><td>1.1053467262878958</td><td>4</td><td>false</td><td>false</td><td>3</td><td>6</td><td>13.201322102243864</td><td>4.248202244411647</td></tr><tr><td>44</td><td>Female</td><td>Education</td><td>0.0</td><td>TikTok</td><td>66</td><td>6.3131199166758</td><td>2.126044289112301</td><td>2.4363747223415295</td><td>3.0</td><td>4.981478554530053</td><td>0.03696794801316472</td><td>7</td><td>false</td><td>false</td><td>1</td><td>25</td><td>20.458395271842214</td><td>0.21504719666952798</td></tr><tr><td>57</td><td>Male</td><td>Education</td><td>1.4677123333098538</td><td>Twitter</td><td>46</td><td>7.358749513114203</td><td>4.579502893343713</td><td>null</td><td>1.0</td><td>7.751345238036186</td><td>1.4006815329950573</td><td>4</td><td>false</td><td>false</td><td>1</td><td>6</td><td>12.503085292527093</td><td>3.772937497647644</td></tr><tr><td>26</td><td>Male</td><td>Education</td><td>3.3562021809167026</td><td>Instagram</td><td>43</td><td>6.793216186681816</td><td>2.8664956199514884</td><td>2.2938364479390274</td><td>10.0</td><td>5.116338688374532</td><td>0.26845970219150506</td><td>8</td><td>false</td><td>false</td><td>2</td><td>6</td><td>6.1899185219237305</td><td>0.7912496243478833</td></tr><tr><td>36</td><td>Female</td><td>Unemployed</td><td>1.6831736547433986</td><td>Telegram</td><td>60</td><td>4.76447015998005</td><td>7.272588051286119</td><td>6.925880329846222</td><td>1.0</td><td>7.4853963683614975</td><td>1.793566320616561</td><td>2</td><td>false</td><td>false</td><td>0</td><td>30</td><td>11.735926558414503</td><td>null</td></tr><tr><td>54</td><td>Male</td><td>IT</td><td>4.1561217165264</td><td>Facebook</td><td>67</td><td>5.308871463113344</td><td>3.5557681653969864</td><td>null</td><td>9.0</td><td>5.65199739988603</td><td>0.0</td><td>4</td><td>false</td><td>false</td><td>2</td><td>10</td><td>18.777745990067615</td><td>3.3168287072938742</td></tr><tr><td>60</td><td>Male</td><td>Student</td><td>7.149818572332666</td><td>Facebook</td><td>52</td><td>8.333741334088971</td><td>5.0560173728352105</td><td>4.855080048803312</td><td>1.0</td><td>8.067666960250481</td><td>0.3637583472452386</td><td>3</td><td>false</td><td>true</td><td>3</td><td>29</td><td>10.280345165322379</td><td>5.850253784161365</td></tr><tr><td>56</td><td>Male</td><td>Finance</td><td>0.8321027664638003</td><td>Instagram</td><td>56</td><td>5.045986537304218</td><td>8.490698041762183</td><td>7.21987014090012</td><td>9.0</td><td>3.979372683441692</td><td>0.8825470423784226</td><td>4</td><td>false</td><td>false</td><td>1</td><td>15</td><td>0.0</td><td>7.018607143896807</td></tr><tr><td>60</td><td>Female</td><td>Student</td><td>2.7647645730841455</td><td>Facebook</td><td>56</td><td>4.031730614966885</td><td>null</td><td>6.81508403283489</td><td>null</td><td>7.412354389812272</td><td>2.2989808575227917</td><td>8</td><td>false</td><td>true</td><td>4</td><td>7</td><td>11.289909886064109</td><td>8.901103031743853</td></tr><tr><td>45</td><td>Female</td><td>Health</td><td>2.8131625557776925</td><td>Telegram</td><td>48</td><td>6.700653947718248</td><td>5.096888722871069</td><td>4.581556173753327</td><td>6.0</td><td>8.172419025347548</td><td>0.0</td><td>4</td><td>true</td><td>false</td><td>0</td><td>3</td><td>6.744930574565469</td><td>3.832111563123547</td></tr><tr><td>62</td><td>Female</td><td>Finance</td><td>0.0</td><td>Instagram</td><td>58</td><td>5.5622015997211545</td><td>5.06160466492032</td><td>4.534811511832641</td><td>5.0</td><td>5.5846600715131105</td><td>0.0</td><td>2</td><td>false</td><td>false</td><td>3</td><td>29</td><td>14.680946212520528</td><td>2.898037698774501</td></tr><tr><td>37</td><td>Female</td><td>IT</td><td>5.343648739079271</td><td>Telegram</td><td>59</td><td>9.623254725980797</td><td>7.438854583484976</td><td>6.7114733812273055</td><td>5.0</td><td>null</td><td>0.09363025490527499</td><td>6</td><td>false</td><td>false</td><td>3</td><td>30</td><td>6.060064844506854</td><td>7.910593214629367</td></tr><tr><td>60</td><td>Male</td><td>IT</td><td>3.6703720062724505</td><td>Twitter</td><td>41</td><td>8.009874483462298</td><td>8.790114117661393</td><td>8.639421876746688</td><td>5.0</td><td>null</td><td>1.8735174666868746</td><td>10</td><td>false</td><td>false</td><td>2</td><td>1</td><td>2.482831973716223</td><td>8.391522687527909</td></tr><tr><td>34</td><td>Male</td><td>Finance</td><td>4.806872312144488</td><td>Twitter</td><td>58</td><td>7.5157113398831115</td><td>2.9354392164469716</td><td>3.1172424735177495</td><td>5.0</td><td>null</td><td>0.21536852732235534</td><td>7</td><td>false</td><td>false</td><td>1</td><td>30</td><td>11.72961839074128</td><td>4.106825486493529</td></tr><tr><td>35</td><td>Female</td><td>IT</td><td>3.647914364100178</td><td>TikTok</td><td>67</td><td>8.40696370401333</td><td>3.9715354674334526</td><td>3.681284517816839</td><td>5.0</td><td>7.846506334643305</td><td>0.9436080653022696</td><td>6</td><td>false</td><td>false</td><td>1</td><td>14</td><td>0.0</td><td>4.526292073955517</td></tr><tr><td>43</td><td>Female</td><td>Education</td><td>5.677586188633926</td><td>Telegram</td><td>68</td><td>2.9696984699041638</td><td>4.689359471943767</td><td>3.969005302654135</td><td>5.0</td><td>5.710132929727311</td><td>1.82260918921362</td><td>4</td><td>false</td><td>false</td><td>4</td><td>4</td><td>0.0</td><td>3.82252358064302</td></tr><tr><td>24</td><td>Female</td><td>Health</td><td>5.5294503179774885</td><td>TikTok</td><td>64</td><td>4.863363771423732</td><td>3.0099835737983827</td><td>2.107681336376766</td><td>10.0</td><td>7.193132020498359</td><td>1.7265367794538975</td><td>7</td><td>false</td><td>true</td><td>1</td><td>2</td><td>0.0</td><td>1.1174762084872238</td></tr><tr><td>50</td><td>Male</td><td>Finance</td><td>2.102028791125455</td><td>Facebook</td><td>64</td><td>7.491644731232108</td><td>5.885088621692502</td><td>5.553810669809705</td><td>2.0</td><td>7.151382554485384</td><td>1.3388487293596958</td><td>0</td><td>false</td><td>false</td><td>0</td><td>19</td><td>3.4662342303626588</td><td>4.908533588986757</td></tr><tr><td>38</td><td>Female</td><td>Health</td><td>1.6634385730173962</td><td>Telegram</td><td>60</td><td>3.882346212428935</td><td>7.8364574443838535</td><td>7.787522438873025</td><td>6.0</td><td>7.494353897522842</td><td>0.28747800627943787</td><td>1</td><td>false</td><td>false</td><td>1</td><td>13</td><td>9.954604619498532</td><td>7.625565026319874</td></tr><tr><td>35</td><td>Female</td><td>Unemployed</td><td>null</td><td>Instagram</td><td>67</td><td>6.293217043571529</td><td>2.5697624058985067</td><td>null</td><td>5.0</td><td>6.246199153228453</td><td>0.8182462558797763</td><td>2</td><td>false</td><td>false</td><td>1</td><td>19</td><td>10.030975917527554</td><td>null</td></tr><tr><td>36</td><td>Male</td><td>IT</td><td>3.3860961991909133</td><td>Telegram</td><td>52</td><td>4.292501006202924</td><td>5.115728752968883</td><td>4.224113800361493</td><td>9.0</td><td>null</td><td>1.6840652556366125</td><td>1</td><td>false</td><td>false</td><td>3</td><td>31</td><td>0.0</td><td>5.028813114758297</td></tr><tr><td>60</td><td>Other</td><td>Health</td><td>1.5220930637679078</td><td>Twitter</td><td>50</td><td>6.345352161372997</td><td>2.8108159367204735</td><td>1.9275091668483841</td><td>5.0</td><td>5.483785506059453</td><td>2.4058658461029436</td><td>8</td><td>false</td><td>true</td><td>2</td><td>23</td><td>9.997048166121873</td><td>0.6961189154922041</td></tr><tr><td>52</td><td>Male</td><td>Education</td><td>null</td><td>Twitter</td><td>62</td><td>8.318124814146197</td><td>null</td><td>null</td><td>8.0</td><td>6.199141510406517</td><td>0.3824399523771085</td><td>0</td><td>false</td><td>false</td><td>3</td><td>17</td><td>16.112111784158728</td><td>1.5559602590812107</td></tr><tr><td>56</td><td>Male</td><td>Student</td><td>2.882700828135707</td><td>Twitter</td><td>56</td><td>8.240094838427904</td><td>8.357365954379734</td><td>7.227241109721926</td><td>2.0</td><td>7.726734611939179</td><td>0.0</td><td>8</td><td>false</td><td>true</td><td>1</td><td>0</td><td>11.087738013614121</td><td>null</td></tr><tr><td>20</td><td>Female</td><td>Unemployed</td><td>2.2171922926482655</td><td>Telegram</td><td>63</td><td>7.8865836062790855</td><td>null</td><td>1.963201339508602</td><td>5.0</td><td>6.541747050942338</td><td>0.37485474896094506</td><td>8</td><td>false</td><td>false</td><td>4</td><td>12</td><td>10.414838270433707</td><td>1.9663897901077019</td></tr><tr><td>22</td><td>Female</td><td>Student</td><td>null</td><td>Instagram</td><td>60</td><td>9.831440864870569</td><td>3.50709434404072</td><td>3.413815846262893</td><td>3.0</td><td>7.903251586521424</td><td>0.017180641292269372</td><td>7</td><td>false</td><td>false</td><td>1</td><td>11</td><td>7.649149243744343</td><td>3.624949533207019</td></tr><tr><td>63</td><td>Male</td><td>Unemployed</td><td>0.0</td><td>Facebook</td><td>72</td><td>9.639445995310519</td><td>5.955699472764078</td><td>4.9253861070646</td><td>5.0</td><td>6.256344852715236</td><td>1.3006829350587594</td><td>5</td><td>false</td><td>false</td><td>4</td><td>30</td><td>13.658200365731847</td><td>4.807120997323827</td></tr><tr><td>27</td><td>Female</td><td>Education</td><td>0.0</td><td>Facebook</td><td>58</td><td>5.50832809326273</td><td>5.028464843374097</td><td>4.4830918950653516</td><td>10.0</td><td>5.1946145619602095</td><td>1.1991498665140197</td><td>0</td><td>true</td><td>true</td><td>0</td><td>5</td><td>10.093407926148695</td><td>5.718010536710067</td></tr><tr><td>28</td><td>Male</td><td>Finance</td><td>2.019615042697179</td><td>TikTok</td><td>65</td><td>8.217684413281315</td><td>6.4437485607787615</td><td>6.196481340392963</td><td>10.0</td><td>5.336390809512838</td><td>0.29150477651789986</td><td>6</td><td>false</td><td>false</td><td>1</td><td>20</td><td>6.950533280848147</td><td>6.77898506691214</td></tr><tr><td>62</td><td>Female</td><td>Unemployed</td><td>2.5905946315987314</td><td>Telegram</td><td>65</td><td>3.6340472588130637</td><td>null</td><td>5.545931956507791</td><td>6.0</td><td>4.177661822936392</td><td>1.585051543321243</td><td>5</td><td>false</td><td>false</td><td>7</td><td>23</td><td>0.0</td><td>5.129945499643029</td></tr><tr><td>48</td><td>Female</td><td>Health</td><td>4.536852079281205</td><td>Telegram</td><td>59</td><td>7.246024583089659</td><td>7.885012226938261</td><td>6.998275655954113</td><td>5.0</td><td>5.527391191303719</td><td>null</td><td>1</td><td>true</td><td>true</td><td>2</td><td>22</td><td>0.0</td><td>6.7212750835872495</td></tr><tr><td>33</td><td>Male</td><td>Student</td><td>3.2696637008146765</td><td>Twitter</td><td>56</td><td>5.207320845866193</td><td>2.2251964599800567</td><td>1.90214791165944</td><td>3.0</td><td>null</td><td>0.6335174892769989</td><td>8</td><td>true</td><td>true</td><td>0</td><td>27</td><td>3.8113327788692004</td><td>1.0924336056862354</td></tr><tr><td>30</td><td>Male</td><td>IT</td><td>5.328552265253688</td><td>Twitter</td><td>54</td><td>8.417153062600574</td><td>null</td><td>5.760130765816947</td><td>1.0</td><td>5.400287959081558</td><td>1.41375904023457</td><td>8</td><td>true</td><td>true</td><td>3</td><td>28</td><td>10.194033850971765</td><td>5.9169062053033095</td></tr><tr><td>35</td><td>Male</td><td>Education</td><td>2.0319167297604332</td><td>Telegram</td><td>71</td><td>5.781134186979199</td><td>8.263844541310888</td><td>7.813704246690538</td><td>8.0</td><td>4.870460974030795</td><td>1.5387222758624302</td><td>8</td><td>false</td><td>false</td><td>2</td><td>4</td><td>9.4320843388192</td><td>7.832658523180678</td></tr><tr><td>19</td><td>Female</td><td>Finance</td><td>1.234088874446318</td><td>Twitter</td><td>53</td><td>7.043566070441382</td><td>5.057140566318564</td><td>5.147299459476132</td><td>3.0</td><td>5.82721479719021</td><td>1.9799477857009435</td><td>5</td><td>false</td><td>false</td><td>2</td><td>29</td><td>0.0</td><td>null</td></tr><tr><td>61</td><td>Male</td><td>Unemployed</td><td>5.33649630230617</td><td>Instagram</td><td>62</td><td>6.346653542673388</td><td>7.890054454782247</td><td>7.173987913834351</td><td>7.0</td><td>4.704791460228585</td><td>0.6630699557376882</td><td>2</td><td>true</td><td>false</td><td>1</td><td>7</td><td>11.76722744141324</td><td>8.056097199012896</td></tr><tr><td>61</td><td>Female</td><td>Unemployed</td><td>4.676559817474584</td><td>Telegram</td><td>64</td><td>7.409481111781503</td><td>7.809333118979692</td><td>6.359702552018711</td><td>10.0</td><td>3.3587162500044654</td><td>0.9661632450700322</td><td>1</td><td>false</td><td>false</td><td>0</td><td>2</td><td>0.0</td><td>7.28052309653859</td></tr><tr><td>32</td><td>Male</td><td>Education</td><td>6.858570736858208</td><td>TikTok</td><td>58</td><td>9.109429649607137</td><td>6.231466682350414</td><td>6.005864620359662</td><td>2.0</td><td>5.6275758555574145</td><td>0.7796277850718869</td><td>6</td><td>false</td><td>false</td><td>1</td><td>22</td><td>0.0</td><td>6.130367373945343</td></tr><tr><td>29</td><td>Male</td><td>Education</td><td>2.5174311891280965</td><td>Twitter</td><td>66</td><td>4.900922741403377</td><td>3.639221912854547</td><td>3.825377574268356</td><td>10.0</td><td>5.550717819149167</td><td>0.4826777078377097</td><td>2</td><td>false</td><td>true</td><td>1</td><td>26</td><td>7.363343654029069</td><td>3.37765202719366</td></tr><tr><td>64</td><td>Other</td><td>Health</td><td>1.2709213595924616</td><td>Instagram</td><td>64</td><td>9.362129202906626</td><td>5.938856388494027</td><td>6.571889482027961</td><td>3.0</td><td>null</td><td>null</td><td>0</td><td>true</td><td>false</td><td>1</td><td>24</td><td>4.43644490953957</td><td>7.444643738193539</td></tr><tr><td>29</td><td>Male</td><td>IT</td><td>3.4395190857608258</td><td>Twitter</td><td>56</td><td>10.64092900454279</td><td>5.818621988475545</td><td>4.255500683060378</td><td>8.0</td><td>6.988440961427948</td><td>1.161229934766289</td><td>10</td><td>true</td><td>false</td><td>2</td><td>6</td><td>11.730934444656656</td><td>4.302899636649267</td></tr><tr><td>57</td><td>Male</td><td>Unemployed</td><td>0.0</td><td>TikTok</td><td>68</td><td>6.206261810749235</td><td>4.060461007638374</td><td>null</td><td>5.0</td><td>null</td><td>1.4072393231403446</td><td>5</td><td>false</td><td>false</td><td>1</td><td>15</td><td>8.443046562471086</td><td>3.0819259674389174</td></tr><tr><td>64</td><td>Female</td><td>IT</td><td>2.2016012552835607</td><td>Telegram</td><td>69</td><td>5.412821016568566</td><td>3.201390851666588</td><td>3.1297173137479435</td><td>8.0</td><td>4.326122329749162</td><td>1.0954855315515797</td><td>3</td><td>true</td><td>false</td><td>4</td><td>19</td><td>20.446973532376422</td><td>3.0831379633079026</td></tr><tr><td>49</td><td>Male</td><td>Education</td><td>4.053072275624525</td><td>Facebook</td><td>71</td><td>4.343678650493109</td><td>7.647315259331025</td><td>7.122570362446816</td><td>2.0</td><td>7.38124192611661</td><td>1.787552355760079</td><td>8</td><td>false</td><td>true</td><td>1</td><td>31</td><td>12.837515451189727</td><td>6.070946446265725</td></tr><tr><td>21</td><td>Male</td><td>IT</td><td>null</td><td>Instagram</td><td>76</td><td>10.422361895912502</td><td>2.559782982362751</td><td>2.0952089170814983</td><td>7.0</td><td>6.713231058586078</td><td>1.7523865891952866</td><td>7</td><td>false</td><td>true</td><td>0</td><td>22</td><td>5.893489985104323</td><td>3.793868555729534</td></tr><tr><td>46</td><td>Female</td><td>Unemployed</td><td>4.300500910000146</td><td>Instagram</td><td>58</td><td>7.273408103666695</td><td>7.352197606434709</td><td>6.320215907484535</td><td>1.0</td><td>7.78414886881058</td><td>1.0539743749835695</td><td>5</td><td>false</td><td>true</td><td>2</td><td>16</td><td>11.858251511520953</td><td>6.667912175763736</td></tr><tr><td>49</td><td>Male</td><td>Finance</td><td>2.6328847764091754</td><td>Facebook</td><td>67</td><td>7.60575298393198</td><td>3.815394444269544</td><td>3.105646154008703</td><td>3.0</td><td>5.067808640847377</td><td>0.8146241580908837</td><td>5</td><td>true</td><td>false</td><td>5</td><td>11</td><td>18.8502447084659</td><td>3.48445274314873</td></tr><tr><td>40</td><td>Female</td><td>Student</td><td>1.5164537036123753</td><td>Facebook</td><td>58</td><td>6.992868205068342</td><td>6.875797200647868</td><td>6.9193245238921515</td><td>7.0</td><td>6.174235069048335</td><td>1.5132644334634286</td><td>0</td><td>true</td><td>true</td><td>0</td><td>10</td><td>9.29614146961733</td><td>7.787291567371023</td></tr><tr><td>25</td><td>Female</td><td>Finance</td><td>3.2940938355047478</td><td>Instagram</td><td>58</td><td>2.2579700886343135</td><td>5.337109764430201</td><td>5.144756472348018</td><td>6.0</td><td>7.197709794350869</td><td>1.2180522097293947</td><td>4</td><td>false</td><td>false</td><td>6</td><td>30</td><td>0.0</td><td>5.377308544427634</td></tr><tr><td>39</td><td>Female</td><td>Health</td><td>0.5664947210180671</td><td>Telegram</td><td>54</td><td>5.2215964294256345</td><td>5.916550011905036</td><td>5.337973718225676</td><td>8.0</td><td>6.419687085445226</td><td>0.9634438574595279</td><td>5</td><td>false</td><td>false</td><td>1</td><td>25</td><td>0.0</td><td>6.228699217853358</td></tr><tr><td>18</td><td>Female</td><td>Unemployed</td><td>2.5977998157411823</td><td>TikTok</td><td>60</td><td>5.9896234118883305</td><td>6.470812081257681</td><td>5.1511971516450945</td><td>4.0</td><td>5.958715785965486</td><td>0.6505761540231016</td><td>3</td><td>false</td><td>false</td><td>5</td><td>16</td><td>25.486390349787335</td><td>5.671455946187731</td></tr><tr><td>39</td><td>Male</td><td>Finance</td><td>1.1956762515613653</td><td>Facebook</td><td>67</td><td>8.68274386284414</td><td>7.9907122468447</td><td>6.281734528797495</td><td>4.0</td><td>null</td><td>1.366292599530172</td><td>7</td><td>true</td><td>true</td><td>0</td><td>4</td><td>6.115463934411847</td><td>5.650079515392377</td></tr><tr><td>60</td><td>Male</td><td>Education</td><td>0.9878334217032445</td><td>Instagram</td><td>60</td><td>7.98223136728622</td><td>7.216094567124348</td><td>6.638373943357415</td><td>4.0</td><td>4.913128081005244</td><td>1.7859190109049181</td><td>1</td><td>false</td><td>false</td><td>1</td><td>2</td><td>0.0</td><td>7.223328551867238</td></tr><tr><td>37</td><td>Male</td><td>Student</td><td>3.6746471610250246</td><td>Telegram</td><td>63</td><td>8.553090450678546</td><td>5.375366183266787</td><td>4.5624262498512635</td><td>4.0</td><td>3.205379869503653</td><td>1.9779478000794208</td><td>3</td><td>false</td><td>false</td><td>3</td><td>13</td><td>23.84875271883953</td><td>5.2113142868713105</td></tr><tr><td>34</td><td>Female</td><td>IT</td><td>0.4785205710556908</td><td>Instagram</td><td>57</td><td>11.611953863461753</td><td>4.947739828214582</td><td>3.697892890445339</td><td>2.0</td><td>null</td><td>2.3714455217202985</td><td>6</td><td>false</td><td>false</td><td>2</td><td>26</td><td>15.033793925929928</td><td>2.8916344087376524</td></tr><tr><td>42</td><td>Female</td><td>Unemployed</td><td>2.821679201377531</td><td>Facebook</td><td>64</td><td>8.007316229636402</td><td>4.871397502560761</td><td>null</td><td>6.0</td><td>5.630241851650816</td><td>1.2827374771657045</td><td>10</td><td>false</td><td>false</td><td>3</td><td>18</td><td>14.460942335959267</td><td>3.8530699566539974</td></tr><tr><td>55</td><td>Male</td><td>Health</td><td>1.4097271679251782</td><td>Facebook</td><td>53</td><td>6.61876252548793</td><td>6.517495455921727</td><td>5.8379932461935145</td><td>4.0</td><td>3.9092099664458466</td><td>1.039617069306797</td><td>1</td><td>true</td><td>false</td><td>3</td><td>10</td><td>6.415051708485356</td><td>6.113810235057831</td></tr><tr><td>23</td><td>Female</td><td>Education</td><td>0.0</td><td>TikTok</td><td>62</td><td>6.283683668253439</td><td>null</td><td>4.46549861211361</td><td>5.0</td><td>4.482617597531046</td><td>1.029741001835569</td><td>7</td><td>false</td><td>false</td><td>2</td><td>16</td><td>0.0</td><td>null</td></tr><tr><td>38</td><td>Male</td><td>Health</td><td>4.300332395318133</td><td>Twitter</td><td>60</td><td>2.980878256613953</td><td>8.02587251731845</td><td>6.885735822005114</td><td>4.0</td><td>6.916293406478827</td><td>0.7473972625605154</td><td>10</td><td>true</td><td>false</td><td>0</td><td>24</td><td>16.544403008344545</td><td>8.42252589974048</td></tr><tr><td>35</td><td>Female</td><td>Finance</td><td>2.023516148193082</td><td>Telegram</td><td>46</td><td>8.723218779605743</td><td>4.032876556264764</td><td>4.137112675195189</td><td>1.0</td><td>8.117712320829542</td><td>1.4922243381401816</td><td>5</td><td>true</td><td>false</td><td>0</td><td>7</td><td>14.94721149005795</td><td>6.080217024775186</td></tr><tr><td>21</td><td>Female</td><td>Health</td><td>3.6539430398662027</td><td>Telegram</td><td>52</td><td>10.429301639125251</td><td>5.502391666817234</td><td>null</td><td>7.0</td><td>8.33173565654871</td><td>1.5122861459523815</td><td>3</td><td>true</td><td>true</td><td>2</td><td>28</td><td>9.591125227580978</td><td>5.598017615366531</td></tr><tr><td>62</td><td>Male</td><td>Education</td><td>2.3151854802723086</td><td>Facebook</td><td>61</td><td>6.601174076828151</td><td>3.224498771553649</td><td>1.841612300121352</td><td>3.0</td><td>5.432046248412983</td><td>0.4889716618694263</td><td>5</td><td>false</td><td>true</td><td>3</td><td>17</td><td>24.17486920593469</td><td>2.131160205080177</td></tr><tr><td>60</td><td>Female</td><td>Finance</td><td>4.415693140342273</td><td>Telegram</td><td>69</td><td>5.476215921198859</td><td>8.641874249916356</td><td>6.947639455133393</td><td>2.0</td><td>6.992494998803272</td><td>1.0715164287867633</td><td>5</td><td>true</td><td>false</td><td>2</td><td>19</td><td>0.0</td><td>8.157691055366438</td></tr><tr><td>21</td><td>Male</td><td>Health</td><td>1.5621014125902182</td><td>Telegram</td><td>58</td><td>8.441669914284226</td><td>5.33892636194358</td><td>4.229069792661532</td><td>8.0</td><td>null</td><td>1.7145667323631573</td><td>6</td><td>false</td><td>false</td><td>1</td><td>3</td><td>19.92921953299036</td><td>5.540048097700296</td></tr><tr><td>53</td><td>Female</td><td>Education</td><td>2.6182853779628896</td><td>Facebook</td><td>59</td><td>7.416311554263473</td><td>3.7395510499444335</td><td>3.6417224794182</td><td>9.0</td><td>4.585075031204943</td><td>0.10856350512279211</td><td>2</td><td>true</td><td>false</td><td>4</td><td>30</td><td>14.122300520307018</td><td>3.552781912353985</td></tr><tr><td>19</td><td>Male</td><td>Unemployed</td><td>3.973512475809006</td><td>Instagram</td><td>44</td><td>10.008098730176245</td><td>5.373066802764386</td><td>4.567304141003736</td><td>3.0</td><td>6.389167275860033</td><td>1.0071968573418306</td><td>0</td><td>false</td><td>false</td><td>3</td><td>27</td><td>15.683738346722869</td><td>3.5093093206878807</td></tr><tr><td>57</td><td>Male</td><td>Unemployed</td><td>5.9056612522057215</td><td>TikTok</td><td>55</td><td>8.126406165013728</td><td>6.047384814600234</td><td>5.1857645937144135</td><td>5.0</td><td>3.9179660447552784</td><td>2.07733818054332</td><td>0</td><td>false</td><td>false</td><td>3</td><td>9</td><td>20.44029552549449</td><td>5.328268347504443</td></tr><tr><td>26</td><td>Male</td><td>Health</td><td>0.0</td><td>Twitter</td><td>39</td><td>8.002179822381077</td><td>5.651981842406793</td><td>5.707952900517222</td><td>7.0</td><td>6.12943632657062</td><td>1.5035601859910734</td><td>9</td><td>false</td><td>false</td><td>3</td><td>31</td><td>0.0</td><td>5.344119942707328</td></tr><tr><td>46</td><td>Female</td><td>Student</td><td>4.1213093102015534</td><td>Instagram</td><td>71</td><td>7.443521930203096</td><td>6.853175135507077</td><td>6.379738472052245</td><td>5.0</td><td>7.641952081792112</td><td>0.9937920564108168</td><td>7</td><td>false</td><td>false</td><td>1</td><td>8</td><td>8.677256640630235</td><td>5.592415126422295</td></tr><tr><td>23</td><td>Female</td><td>Student</td><td>1.3888015888547753</td><td>Twitter</td><td>53</td><td>6.969024429901447</td><td>6.283225962746973</td><td>6.104888831923594</td><td>9.0</td><td>6.193568858969025</td><td>0.381181620900241</td><td>0</td><td>false</td><td>false</td><td>4</td><td>27</td><td>6.159869011161131</td><td>4.097254782558416</td></tr><tr><td>43</td><td>Female</td><td>Finance</td><td>2.910238061615581</td><td>TikTok</td><td>62</td><td>8.782473548873</td><td>6.917361078871325</td><td>5.752555802717584</td><td>3.0</td><td>5.522474967684048</td><td>1.1668473661678773</td><td>10</td><td>false</td><td>false</td><td>5</td><td>3</td><td>0.0</td><td>6.15726983141164</td></tr><tr><td>25</td><td>Female</td><td>Student</td><td>null</td><td>Instagram</td><td>59</td><td>3.506613008046655</td><td>3.9376605581821806</td><td>3.5925343216266854</td><td>3.0</td><td>6.0513980089257124</td><td>1.400564309696549</td><td>6</td><td>false</td><td>false</td><td>5</td><td>21</td><td>22.602459162518983</td><td>5.070561163289572</td></tr><tr><td>21</td><td>Male</td><td>Unemployed</td><td>0.7826681471671222</td><td>Telegram</td><td>63</td><td>8.394188681920673</td><td>5.666935276918336</td><td>4.935853400380466</td><td>null</td><td>7.5363681462844845</td><td>null</td><td>4</td><td>false</td><td>true</td><td>2</td><td>7</td><td>18.579757195104033</td><td>5.950487538578879</td></tr><tr><td>32</td><td>Other</td><td>IT</td><td>null</td><td>Telegram</td><td>67</td><td>5.525729417446942</td><td>4.051618579949114</td><td>2.6855507555301523</td><td>7.0</td><td>6.292323951793862</td><td>0.9235349512545902</td><td>8</td><td>false</td><td>false</td><td>4</td><td>10</td><td>4.084721978430123</td><td>3.624576233036091</td></tr><tr><td>22</td><td>Female</td><td>Unemployed</td><td>null</td><td>Telegram</td><td>66</td><td>7.164407832807185</td><td>2.744421167384133</td><td>1.9805011504747696</td><td>10.0</td><td>null</td><td>0.25454862006781886</td><td>4</td><td>true</td><td>false</td><td>1</td><td>18</td><td>19.259911070669155</td><td>2.9736303724210766</td></tr><tr><td>61</td><td>Male</td><td>Finance</td><td>3.75890033495074</td><td>Facebook</td><td>60</td><td>7.289599896615866</td><td>8.232292008512106</td><td>7.49170554031694</td><td>3.0</td><td>6.696222352770686</td><td>0.22322810687893713</td><td>6</td><td>false</td><td>false</td><td>3</td><td>11</td><td>9.790547382032944</td><td>8.290727603588856</td></tr><tr><td>41</td><td>Male</td><td>Education</td><td>1.7249557629437409</td><td>Telegram</td><td>54</td><td>8.568058457096681</td><td>6.753016279074329</td><td>5.494413902107665</td><td>6.0</td><td>4.546682520033205</td><td>0.1926934170535406</td><td>4</td><td>true</td><td>true</td><td>1</td><td>13</td><td>11.084484924546311</td><td>4.9466682997788585</td></tr><tr><td>47</td><td>Female</td><td>Unemployed</td><td>3.5082243352283458</td><td>Twitter</td><td>70</td><td>4.033158296340304</td><td>5.264522857667565</td><td>4.914834219660643</td><td>5.0</td><td>5.055443503710344</td><td>0.14904420413481256</td><td>0</td><td>false</td><td>false</td><td>1</td><td>6</td><td>16.86589134094664</td><td>6.077272342818413</td></tr><tr><td>28</td><td>Male</td><td>Finance</td><td>4.4100755723687985</td><td>TikTok</td><td>67</td><td>6.367585446670676</td><td>5.83892995863081</td><td>4.760971272938159</td><td>4.0</td><td>8.00025485808245</td><td>1.2579637444474505</td><td>4</td><td>false</td><td>false</td><td>3</td><td>11</td><td>14.084205877200144</td><td>2.506058729410327</td></tr><tr><td>42</td><td>Male</td><td>Finance</td><td>null</td><td>TikTok</td><td>63</td><td>10.148091545421043</td><td>6.844194387048455</td><td>5.791207879369249</td><td>3.0</td><td>7.031030670621518</td><td>1.8382810621042251</td><td>2</td><td>false</td><td>false</td><td>0</td><td>26</td><td>3.1676528155135486</td><td>4.496062585197374</td></tr><tr><td>42</td><td>Female</td><td>Finance</td><td>3.9881077288638416</td><td>Twitter</td><td>59</td><td>8.030775667549054</td><td>8.136860148722452</td><td>null</td><td>4.0</td><td>8.732599573681101</td><td>0.0</td><td>4</td><td>true</td><td>false</td><td>3</td><td>6</td><td>16.34259576883157</td><td>5.976249957307378</td></tr><tr><td>65</td><td>Male</td><td>Finance</td><td>4.4058875299746685</td><td>Twitter</td><td>56</td><td>8.802992300617436</td><td>2.9878686929508076</td><td>2.850532992747275</td><td>10.0</td><td>7.651011412899273</td><td>1.8529568096700952</td><td>0</td><td>false</td><td>false</td><td>1</td><td>28</td><td>23.82097743810796</td><td>3.308532484193886</td></tr><tr><td>50</td><td>Male</td><td>Student</td><td>1.2739438816178772</td><td>Instagram</td><td>67</td><td>2.7475388033293475</td><td>8.574325176318181</td><td>7.501350413819894</td><td>6.0</td><td>7.096143990059309</td><td>3.0</td><td>0</td><td>false</td><td>false</td><td>4</td><td>26</td><td>13.162576565124722</td><td>null</td></tr><tr><td>24</td><td>Female</td><td>IT</td><td>3.3900313728574254</td><td>Instagram</td><td>64</td><td>7.519906141500536</td><td>6.807253867765457</td><td>null</td><td>9.0</td><td>6.125788362045955</td><td>2.5362725361080796</td><td>7</td><td>false</td><td>false</td><td>1</td><td>11</td><td>18.91150078775855</td><td>7.589517716869686</td></tr><tr><td>48</td><td>Female</td><td>Student</td><td>null</td><td>Telegram</td><td>79</td><td>7.089572951771577</td><td>2.6048941997546544</td><td>2.0445551461866005</td><td>10.0</td><td>4.267678594964312</td><td>1.9143439433150762</td><td>5</td><td>false</td><td>true</td><td>1</td><td>30</td><td>11.519474093046487</td><td>2.6242647847200917</td></tr><tr><td>39</td><td>Female</td><td>Education</td><td>3.7987950735358593</td><td>Telegram</td><td>56</td><td>5.178426889454476</td><td>5.132596491072309</td><td>4.832916529432817</td><td>7.0</td><td>7.531100550186598</td><td>1.3263248575060556</td><td>10</td><td>false</td><td>false</td><td>2</td><td>21</td><td>5.748843886493342</td><td>5.849919401614249</td></tr><tr><td>20</td><td>Female</td><td>Student</td><td>5.222929347653951</td><td>Twitter</td><td>65</td><td>9.105872080829208</td><td>6.785392262910875</td><td>5.57957675059068</td><td>10.0</td><td>6.486081639655619</td><td>null</td><td>5</td><td>false</td><td>true</td><td>3</td><td>4</td><td>10.338870642164906</td><td>5.308644866685541</td></tr><tr><td>53</td><td>Female</td><td>Education</td><td>0.0</td><td>Instagram</td><td>68</td><td>9.815598311813968</td><td>8.967255711579176</td><td>7.890195307515495</td><td>7.0</td><td>8.581593789486757</td><td>0.03443313655468494</td><td>9</td><td>false</td><td>false</td><td>2</td><td>1</td><td>8.95838449273355</td><td>6.507013870885079</td></tr><tr><td>43</td><td>Female</td><td>Unemployed</td><td>null</td><td>Instagram</td><td>66</td><td>5.741753347890488</td><td>6.294179196496435</td><td>5.849332195673789</td><td>9.0</td><td>null</td><td>1.4134443013940299</td><td>0</td><td>false</td><td>false</td><td>0</td><td>6</td><td>16.579582123486713</td><td>5.078723847214673</td></tr><tr><td>20</td><td>Male</td><td>Finance</td><td>3.599211691168572</td><td>Twitter</td><td>59</td><td>6.389195873914213</td><td>2.7984905006647116</td><td>2.0407741269776363</td><td>4.0</td><td>4.447081318509848</td><td>0.9983204359016634</td><td>0</td><td>false</td><td>false</td><td>1</td><td>22</td><td>3.6246974998955306</td><td>1.1015774498272912</td></tr><tr><td>24</td><td>Female</td><td>IT</td><td>1.8927073068892986</td><td>Instagram</td><td>68</td><td>6.038190828529635</td><td>4.406462900840531</td><td>3.0445879948176793</td><td>5.0</td><td>6.683289402572808</td><td>1.0914644006930085</td><td>8</td><td>true</td><td>false</td><td>5</td><td>30</td><td>12.729141074890748</td><td>2.822124538530615</td></tr><tr><td>32</td><td>Female</td><td>Health</td><td>7.7310947955836955</td><td>Instagram</td><td>58</td><td>5.70425811672389</td><td>3.3477883142514373</td><td>3.126953789420275</td><td>3.0</td><td>null</td><td>1.23655033510552</td><td>1</td><td>true</td><td>false</td><td>2</td><td>19</td><td>23.956185279848874</td><td>3.1333198721120796</td></tr><tr><td>64</td><td>Male</td><td>Education</td><td>0.0</td><td>Facebook</td><td>62</td><td>6.455969878472865</td><td>5.833521016223277</td><td>4.784331348777504</td><td>1.0</td><td>8.777205969700265</td><td>0.2797641397143873</td><td>6</td><td>false</td><td>false</td><td>3</td><td>5</td><td>7.897815912839368</td><td>3.1523221098572574</td></tr><tr><td>58</td><td>Male</td><td>Student</td><td>3.0870534417443887</td><td>Instagram</td><td>58</td><td>6.974366976830064</td><td>4.02765716330215</td><td>2.8096751304767995</td><td>8.0</td><td>7.669856115104585</td><td>0.9999011842941329</td><td>1</td><td>true</td><td>false</td><td>0</td><td>21</td><td>11.34520577966843</td><td>2.7759808354498205</td></tr><tr><td>37</td><td>Male</td><td>IT</td><td>null</td><td>TikTok</td><td>65</td><td>7.107677583669252</td><td>3.954212524456716</td><td>3.3124036610961998</td><td>10.0</td><td>7.1489423476288785</td><td>0.9675470509291733</td><td>10</td><td>false</td><td>true</td><td>2</td><td>19</td><td>17.650392540847058</td><td>2.244682430933331</td></tr><tr><td>41</td><td>Other</td><td>Health</td><td>8.594737436073997</td><td>Telegram</td><td>61</td><td>4.301583397258057</td><td>5.567230648747795</td><td>5.551675455182217</td><td>6.0</td><td>6.17081480031042</td><td>1.7137856524517634</td><td>5</td><td>false</td><td>false</td><td>0</td><td>5</td><td>18.381497914688076</td><td>4.298927884885487</td></tr><tr><td>19</td><td>Male</td><td>Finance</td><td>2.0400304327908025</td><td>TikTok</td><td>58</td><td>4.104822926942892</td><td>7.972678475081884</td><td>6.915406745789004</td><td>4.0</td><td>7.262782332289867</td><td>0.8642792220275348</td><td>8</td><td>true</td><td>false</td><td>2</td><td>30</td><td>7.924311306824191</td><td>6.5501740661711105</td></tr><tr><td>40</td><td>Female</td><td>Student</td><td>null</td><td>TikTok</td><td>59</td><td>5.228279848291565</td><td>2.7688386369445177</td><td>2.5638962266015506</td><td>6.0</td><td>5.914549727719854</td><td>1.4087473002857624</td><td>7</td><td>false</td><td>false</td><td>2</td><td>23</td><td>11.755643246742908</td><td>1.3283878641595315</td></tr><tr><td>65</td><td>Male</td><td>Unemployed</td><td>2.6223277968842598</td><td>Instagram</td><td>56</td><td>5.696594170236523</td><td>4.586064078661517</td><td>3.6742937252798153</td><td>8.0</td><td>6.825971444885661</td><td>0.3713954161145271</td><td>10</td><td>false</td><td>false</td><td>3</td><td>18</td><td>3.199244574076065</td><td>3.058620978166745</td></tr><tr><td>29</td><td>Male</td><td>Finance</td><td>1.370893590097327</td><td>Instagram</td><td>59</td><td>8.541784275934456</td><td>7.165053943183934</td><td>6.677577500118409</td><td>3.0</td><td>5.650751478512184</td><td>0.6798452114161055</td><td>3</td><td>true</td><td>false</td><td>0</td><td>9</td><td>3.459304483919251</td><td>6.800140734635827</td></tr><tr><td>45</td><td>Female</td><td>Student</td><td>null</td><td>TikTok</td><td>52</td><td>8.116384807321328</td><td>null</td><td>2.979299226176281</td><td>4.0</td><td>6.682260785108571</td><td>0.9755108531720791</td><td>10</td><td>false</td><td>true</td><td>2</td><td>16</td><td>20.21932657210036</td><td>3.6359725253791924</td></tr><tr><td>28</td><td>Male</td><td>Unemployed</td><td>5.9294244484021075</td><td>Twitter</td><td>57</td><td>6.676576763783035</td><td>6.778866950805706</td><td>5.6055283591703535</td><td>7.0</td><td>6.147672342850927</td><td>0.0</td><td>1</td><td>false</td><td>false</td><td>5</td><td>10</td><td>16.849531522882774</td><td>5.022771225472397</td></tr><tr><td>56</td><td>Female</td><td>Unemployed</td><td>null</td><td>Twitter</td><td>74</td><td>6.8426986953006494</td><td>2.6629343206721994</td><td>null</td><td>10.0</td><td>4.866453713867093</td><td>0.47160192223167563</td><td>2</td><td>true</td><td>false</td><td>0</td><td>6</td><td>13.999055281878576</td><td>1.5289702172085626</td></tr><tr><td>52</td><td>Female</td><td>Unemployed</td><td>null</td><td>Twitter</td><td>45</td><td>6.212960745924827</td><td>2.837669699908882</td><td>2.564820623722814</td><td>1.0</td><td>8.602631181274027</td><td>0.93131043112481</td><td>9</td><td>true</td><td>true</td><td>1</td><td>3</td><td>4.933021292696137</td><td>2.150612362117092</td></tr><tr><td>45</td><td>Female</td><td>IT</td><td>2.9107267449997645</td><td>Telegram</td><td>55</td><td>5.560149451543122</td><td>null</td><td>5.979346734530015</td><td>1.0</td><td>7.907425488005955</td><td>0.8335464476377649</td><td>9</td><td>false</td><td>false</td><td>1</td><td>23</td><td>12.438785541254369</td><td>5.713627884875387</td></tr><tr><td>49</td><td>Female</td><td>Health</td><td>2.868865916183183</td><td>Instagram</td><td>54</td><td>6.680655439284404</td><td>8.510285895714532</td><td>7.731293988275663</td><td>10.0</td><td>8.780923873067366</td><td>1.3349831630129754</td><td>2</td><td>true</td><td>false</td><td>2</td><td>22</td><td>10.427621241763841</td><td>7.03231803615414</td></tr><tr><td>61</td><td>Female</td><td>IT</td><td>1.6360665713319695</td><td>Twitter</td><td>54</td><td>4.784694383261937</td><td>8.586851838326197</td><td>8.05725709932545</td><td>8.0</td><td>7.799673542612443</td><td>0.9199313049711005</td><td>0</td><td>false</td><td>false</td><td>2</td><td>21</td><td>24.458963029203076</td><td>8.47916950577069</td></tr><tr><td>65</td><td>Male</td><td>Student</td><td>null</td><td>Facebook</td><td>67</td><td>4.935463207885625</td><td>3.1452069698866607</td><td>2.750399935745156</td><td>5.0</td><td>7.2275389814087</td><td>0.24011509867687408</td><td>0</td><td>false</td><td>false</td><td>3</td><td>4</td><td>13.167227343942539</td><td>0.8133579598879552</td></tr><tr><td>47</td><td>Male</td><td>IT</td><td>4.1253742755128275</td><td>Facebook</td><td>60</td><td>2.4004002995703635</td><td>4.97644999342284</td><td>4.527416068702034</td><td>7.0</td><td>4.855056084621355</td><td>0.0</td><td>7</td><td>false</td><td>false</td><td>0</td><td>16</td><td>15.082278859410664</td><td>4.992849696121253</td></tr><tr><td>57</td><td>Female</td><td>IT</td><td>6.062253985863427</td><td>Facebook</td><td>52</td><td>6.284599542572142</td><td>7.1474880484579355</td><td>5.66529632244753</td><td>8.0</td><td>4.677571725278517</td><td>2.4121026677129507</td><td>9</td><td>false</td><td>false</td><td>0</td><td>22</td><td>13.819306225876959</td><td>7.134142859801824</td></tr><tr><td>50</td><td>Female</td><td>Education</td><td>null</td><td>Facebook</td><td>67</td><td>5.130772120814939</td><td>null</td><td>2.870634072790468</td><td>2.0</td><td>5.829084026229285</td><td>0.6466340506614783</td><td>4</td><td>false</td><td>false</td><td>1</td><td>5</td><td>10.09518164729355</td><td>4.297997406886321</td></tr><tr><td>63</td><td>Male</td><td>Student</td><td>null</td><td>TikTok</td><td>61</td><td>7.251236360984364</td><td>7.876164455740065</td><td>6.721752297966902</td><td>8.0</td><td>5.630787032720397</td><td>0.7393032705229716</td><td>9</td><td>false</td><td>false</td><td>5</td><td>14</td><td>0.0</td><td>5.121550987813063</td></tr><tr><td>40</td><td>Male</td><td>Student</td><td>0.871562503646016</td><td>TikTok</td><td>59</td><td>7.871010692169225</td><td>5.848490762321765</td><td>5.7406508347648675</td><td>6.0</td><td>6.077396904834243</td><td>1.0286068735687817</td><td>4</td><td>true</td><td>false</td><td>0</td><td>17</td><td>6.5056074772818</td><td>5.882050804826273</td></tr><tr><td>42</td><td>Male</td><td>Finance</td><td>2.0526709142417285</td><td>Twitter</td><td>65</td><td>7.526871729707145</td><td>4.792992762274844</td><td>4.740934497299959</td><td>6.0</td><td>5.619730103198511</td><td>0.4769230819468473</td><td>4</td><td>true</td><td>false</td><td>3</td><td>2</td><td>5.952316948466308</td><td>4.813843277936144</td></tr><tr><td>60</td><td>Male</td><td>IT</td><td>1.2829705857468783</td><td>Facebook</td><td>82</td><td>11.89774506841156</td><td>2.2073385754000787</td><td>1.9491537860043928</td><td>2.0</td><td>4.790088555653149</td><td>0.1363262039959443</td><td>3</td><td>false</td><td>true</td><td>3</td><td>21</td><td>8.640872519108378</td><td>2.3096416688086276</td></tr><tr><td>23</td><td>Female</td><td>Health</td><td>5.368467289040527</td><td>Telegram</td><td>49</td><td>4.7914444906003535</td><td>4.479888904767595</td><td>3.872242560037197</td><td>4.0</td><td>5.355409223741733</td><td>0.6580540919873661</td><td>7</td><td>false</td><td>false</td><td>1</td><td>13</td><td>15.048963536390687</td><td>2.579547756044729</td></tr><tr><td>34</td><td>Female</td><td>Education</td><td>0.0</td><td>Twitter</td><td>68</td><td>2.7586111889529716</td><td>4.239341650490584</td><td>2.9712097144727383</td><td>2.0</td><td>6.308429569442819</td><td>2.7138945329960817</td><td>8</td><td>false</td><td>false</td><td>0</td><td>15</td><td>2.616959260713429</td><td>3.652316063552996</td></tr><tr><td>23</td><td>Female</td><td>Student</td><td>6.976344317461297</td><td>Twitter</td><td>57</td><td>8.748094392129833</td><td>null</td><td>5.230866102219244</td><td>9.0</td><td>4.83860891398601</td><td>0.0</td><td>7</td><td>true</td><td>false</td><td>2</td><td>14</td><td>6.970831431735338</td><td>null</td></tr><tr><td>51</td><td>Female</td><td>Student</td><td>0.0</td><td>Telegram</td><td>60</td><td>8.045787434377573</td><td>8.012226258723807</td><td>6.828568065914769</td><td>8.0</td><td>7.49923472517849</td><td>2.6840668937255576</td><td>9</td><td>true</td><td>false</td><td>4</td><td>31</td><td>21.706309470497025</td><td>6.178870103197799</td></tr><tr><td>59</td><td>Female</td><td>Unemployed</td><td>null</td><td>TikTok</td><td>74</td><td>5.258640584552573</td><td>null</td><td>7.536375490831984</td><td>10.0</td><td>5.913443886670149</td><td>1.8035518243510507</td><td>1</td><td>true</td><td>false</td><td>3</td><td>1</td><td>18.416199371699705</td><td>6.837773950110413</td></tr><tr><td>28</td><td>Male</td><td>Student</td><td>1.2287205059615083</td><td>TikTok</td><td>47</td><td>8.6582459603621</td><td>4.639817958171589</td><td>4.57179250330484</td><td>6.0</td><td>7.248502448046667</td><td>0.3618828763808859</td><td>1</td><td>false</td><td>true</td><td>1</td><td>10</td><td>0.0</td><td>5.136254298494873</td></tr><tr><td>53</td><td>Male</td><td>Education</td><td>1.0657922011516987</td><td>Facebook</td><td>60</td><td>5.564555207936731</td><td>4.230028676891489</td><td>3.0227454084030434</td><td>8.0</td><td>9.74035584214214</td><td>null</td><td>1</td><td>false</td><td>true</td><td>1</td><td>19</td><td>13.04887081725492</td><td>1.9248798651937153</td></tr><tr><td>54</td><td>Female</td><td>Finance</td><td>3.631481963609037</td><td>Twitter</td><td>67</td><td>6.819206208402442</td><td>2.733447303426212</td><td>2.656508128459895</td><td>10.0</td><td>6.401724771779126</td><td>1.7834791761033204</td><td>0</td><td>false</td><td>false</td><td>2</td><td>19</td><td>14.691215405379388</td><td>2.389282376732864</td></tr><tr><td>61</td><td>Male</td><td>Student</td><td>10.391001954517503</td><td>Instagram</td><td>61</td><td>7.289135350124287</td><td>7.664910631205737</td><td>6.736042330485493</td><td>4.0</td><td>9.120351808017642</td><td>1.7297278512289633</td><td>7</td><td>false</td><td>false</td><td>1</td><td>29</td><td>9.953943798700331</td><td>8.104276959642668</td></tr><tr><td>42</td><td>Female</td><td>Student</td><td>0.3414452905090628</td><td>Telegram</td><td>57</td><td>5.869253641852207</td><td>7.214815886439808</td><td>6.981530233563513</td><td>3.0</td><td>6.413187161759192</td><td>1.7987214993812626</td><td>8</td><td>false</td><td>false</td><td>4</td><td>29</td><td>8.169384666582486</td><td>7.3467385120299</td></tr><tr><td>35</td><td>Female</td><td>Education</td><td>0.650197884569681</td><td>Telegram</td><td>48</td><td>6.750224032157926</td><td>4.953180838829011</td><td>4.937149444260191</td><td>2.0</td><td>7.137950471113549</td><td>1.3063176771863572</td><td>5</td><td>false</td><td>false</td><td>0</td><td>0</td><td>8.11915922585299</td><td>4.698374346479008</td></tr><tr><td>44</td><td>Male</td><td>Unemployed</td><td>3.940672330334878</td><td>Telegram</td><td>62</td><td>8.038594549892291</td><td>2.0590041090461595</td><td>1.4040031281253333</td><td>9.0</td><td>10.0</td><td>0.8898800126714188</td><td>1</td><td>false</td><td>false</td><td>2</td><td>14</td><td>17.433764091957773</td><td>2.0291041676843187</td></tr><tr><td>41</td><td>Female</td><td>Student</td><td>1.4763783149154355</td><td>Twitter</td><td>55</td><td>5.970401691001131</td><td>2.081112590025727</td><td>2.221569743480909</td><td>1.0</td><td>9.18566723482439</td><td>0.33213584500769444</td><td>1</td><td>false</td><td>false</td><td>2</td><td>8</td><td>8.436783255626848</td><td>2.4406689098881493</td></tr><tr><td>62</td><td>Female</td><td>Education</td><td>4.288078668119951</td><td>Twitter</td><td>60</td><td>4.259219557046226</td><td>8.631279204099155</td><td>8.05639274042031</td><td>7.0</td><td>5.185237843792448</td><td>0.0</td><td>8</td><td>true</td><td>false</td><td>5</td><td>14</td><td>19.0705958458251</td><td>8.170516892443178</td></tr><tr><td>43</td><td>Female</td><td>Health</td><td>2.770050847858781</td><td>TikTok</td><td>57</td><td>4.9686248017828465</td><td>null</td><td>4.327620754029856</td><td>5.0</td><td>null</td><td>0.8185209260519142</td><td>8</td><td>false</td><td>false</td><td>2</td><td>2</td><td>18.44850315386381</td><td>4.547660258366315</td></tr><tr><td>65</td><td>Female</td><td>IT</td><td>null</td><td>Facebook</td><td>67</td><td>6.381305459821826</td><td>3.0124089554892217</td><td>2.5827119626865787</td><td>9.0</td><td>6.41494306956955</td><td>0.9746713600173118</td><td>8</td><td>false</td><td>true</td><td>3</td><td>23</td><td>19.510511937649255</td><td>1.0450900698806571</td></tr><tr><td>57</td><td>Female</td><td>Student</td><td>1.2816697212636596</td><td>Telegram</td><td>80</td><td>9.530685441724819</td><td>8.108493206696918</td><td>null</td><td>7.0</td><td>4.816039356366224</td><td>1.0624207066921876</td><td>4</td><td>false</td><td>false</td><td>1</td><td>1</td><td>13.616548297136225</td><td>6.535757943133833</td></tr><tr><td>55</td><td>Male</td><td>Education</td><td>3.6457242088927853</td><td>Telegram</td><td>56</td><td>8.11985100619964</td><td>4.840785358690539</td><td>4.510464777243069</td><td>4.0</td><td>7.156406037288701</td><td>null</td><td>4</td><td>true</td><td>false</td><td>1</td><td>14</td><td>10.517615739076156</td><td>null</td></tr><tr><td>45</td><td>Female</td><td>Health</td><td>0.0</td><td>TikTok</td><td>65</td><td>5.531856244842775</td><td>5.325288004261222</td><td>4.420072519203365</td><td>10.0</td><td>7.516399891989025</td><td>1.5578289236849578</td><td>5</td><td>false</td><td>false</td><td>3</td><td>27</td><td>0.0</td><td>2.761501272299648</td></tr><tr><td>58</td><td>Female</td><td>Unemployed</td><td>0.6568631095818183</td><td>Telegram</td><td>40</td><td>5.802113061817698</td><td>8.125459713749189</td><td>7.522911725213096</td><td>6.0</td><td>5.530878741508099</td><td>0.9012805014054195</td><td>1</td><td>true</td><td>true</td><td>2</td><td>7</td><td>17.353397442849406</td><td>7.091113214993694</td></tr><tr><td>48</td><td>Female</td><td>Student</td><td>3.067352379495316</td><td>Facebook</td><td>72</td><td>8.214724274873818</td><td>8.619149997961799</td><td>8.218240143123115</td><td>1.0</td><td>5.204271453133332</td><td>1.3497280831704728</td><td>4</td><td>true</td><td>false</td><td>5</td><td>23</td><td>21.208629211089352</td><td>null</td></tr><tr><td>27</td><td>Female</td><td>IT</td><td>null</td><td>Telegram</td><td>68</td><td>4.695714976181431</td><td>3.8669660671725126</td><td>2.889260442915048</td><td>1.0</td><td>null</td><td>0.032539189924737255</td><td>6</td><td>false</td><td>false</td><td>1</td><td>21</td><td>9.434591287787022</td><td>4.184118126035145</td></tr><tr><td>29</td><td>Male</td><td>Finance</td><td>0.0</td><td>Instagram</td><td>59</td><td>9.025114178515054</td><td>2.2188609828409565</td><td>1.7699372808367255</td><td>4.0</td><td>8.05200241770015</td><td>1.1512453068888961</td><td>2</td><td>false</td><td>true</td><td>5</td><td>30</td><td>7.368981941001014</td><td>1.6740902157595352</td></tr><tr><td>27</td><td>Female</td><td>Finance</td><td>null</td><td>Instagram</td><td>60</td><td>8.372851562449297</td><td>2.5174655618441326</td><td>1.085188130067202</td><td>null</td><td>3.9778072483210414</td><td>0.6936159427721944</td><td>4</td><td>false</td><td>false</td><td>1</td><td>0</td><td>19.23472021255592</td><td>0.510798740604558</td></tr></tbody></table></div>"
      ]
     },
     "metadata": {
      "application/vnd.databricks.v1+output": {
       "addedWidgets": {},
       "aggData": [],
       "aggError": "",
       "aggOverflow": false,
       "aggSchema": [],
       "aggSeriesLimitReached": false,
       "aggType": "",
       "arguments": {},
       "columnCustomDisplayInfos": {},
       "data": [
        [
         18,
         "Female",
         "Health",
         5.659078614608321,
         "TikTok",
         65,
         7.3332468576662455,
         8.304703449463503,
         7.310026707240588,
         null,
         5.273339723346087,
         1.8079637278599021,
         9,
         false,
         false,
         0,
         4,
         13.082073468582905,
         7.116519804798976
        ],
        [
         25,
         "Male",
         "Health",
         6.345161356865601,
         "TikTok",
         52,
         7.168335395243357,
         7.471023859422708,
         6.5387608292565575,
         5.0,
         5.4386800265608075,
         0.6936731308087017,
         7,
         false,
         false,
         3,
         21,
         10.97088437774076,
         5.828433835557561
        ],
        [
         43,
         "Female",
         "Student",
         2.2825148557576425,
         "TikTok",
         67,
         5.770109728661129,
         3.4468461375812782,
         3.111164145676169,
         3.0,
         5.178195281210454,
         0.9939242212238445,
         4,
         true,
         true,
         2,
         0,
         7.969828426302271,
         2.861255750426452
        ],
        [
         35,
         "Male",
         "Education",
         2.93816783553385,
         "Instagram",
         55,
         3.340657781076772,
         7.643999138440644,
         7.000467319756621,
         6.0,
         6.564097920817326,
         0.0,
         4,
         false,
         false,
         3,
         19,
         1.5263815455723595,
         8.112963072957507
        ],
        [
         43,
         "Male",
         "Unemployed",
         3.6226429563701124,
         "TikTok",
         50,
         7.765011380573414,
         4.870763459398686,
         4.731098971853583,
         6.0,
         7.313646348159524,
         0.5113214388375292,
         1,
         false,
         false,
         3,
         29,
         15.284583324845464,
         4.60663684932843
        ],
        [
         57,
         "Other",
         "Finance",
         6.4488072902372044,
         "Telegram",
         54,
         5.368903601036229,
         8.83782192502926,
         7.899630676127052,
         3.0,
         4.980000182425008,
         0.0,
         3,
         false,
         false,
         3,
         12,
         29.846565010782683,
         8.149630832283293
        ],
        [
         44,
         "Female",
         "Education",
         4.26339143891848,
         "Instagram",
         74,
         2.6643926180229274,
         7.454450133351536,
         7.14245789232518,
         4.0,
         3.319927044987196,
         0.11899181198772957,
         6,
         true,
         false,
         2,
         11,
         11.882487388023648,
         6.5936303846466355
        ],
        [
         25,
         "Female",
         "Unemployed",
         null,
         "Telegram",
         51,
         7.2669545814303085,
         6.972452272083669,
         6.250957015536886,
         5.0,
         7.462151413495438,
         1.7117492194124533,
         2,
         false,
         false,
         4,
         26,
         18.413647277035885,
         7.241430960920308
        ],
        [
         60,
         "Female",
         "Education",
         4.093916958326051,
         "TikTok",
         49,
         4.610452021800405,
         2.806957609331298,
         2.6609104443280063,
         9.0,
         6.896621695081095,
         1.134445758807273,
         1,
         true,
         false,
         3,
         27,
         24.620986288558427,
         3.8738353661934863
        ],
        [
         20,
         "Female",
         "IT",
         5.757258415032106,
         "Instagram",
         72,
         7.889019253700879,
         6.538641751891853,
         5.41191562061684,
         4.0,
         3.6389825509690783,
         1.366161163768728,
         7,
         false,
         false,
         1,
         6,
         9.864942227543121,
         5.157456443109098
        ],
        [
         27,
         "Female",
         "Finance",
         0.5801884502644015,
         "Facebook",
         63,
         7.151250536248876,
         3.070430402061148,
         2.9421333557895473,
         6.0,
         5.580094876459061,
         0.2339666608547326,
         0,
         false,
         true,
         1,
         14,
         9.643933270513761,
         2.393588172571575
        ],
        [
         55,
         "Male",
         "Health",
         3.1363795842225763,
         "Telegram",
         57,
         9.468271244799464,
         7.016077673877219,
         6.499366273358829,
         6.0,
         8.260507596978295,
         null,
         10,
         false,
         false,
         3,
         28,
         15.267089921604832,
         6.612745574008713
        ],
        [
         36,
         "Female",
         "Finance",
         1.9560854794545017,
         "Facebook",
         70,
         6.672715529216909,
         7.686047788337578,
         7.393882459841922,
         3.0,
         7.073275358992792,
         0.5817397457565257,
         5,
         true,
         false,
         1,
         19,
         0.0,
         6.031936044573434
        ],
        [
         45,
         "Female",
         "Student",
         2.500651380289924,
         "Instagram",
         50,
         9.518836443876634,
         8.670883788106273,
         7.1589851349530615,
         10.0,
         6.2393134221086095,
         0.9993483020197543,
         7,
         false,
         false,
         1,
         4,
         9.52500711543496,
         null
        ],
        [
         51,
         "Male",
         "Finance",
         0.0,
         "TikTok",
         61,
         10.686061525940739,
         7.8742192531680955,
         7.122821647615447,
         2.0,
         4.474008035630714,
         0.5845532594493036,
         1,
         true,
         false,
         3,
         29,
         7.546124641461821,
         5.453270181040007
        ],
        [
         45,
         "Other",
         "IT",
         3.442344321493652,
         "Instagram",
         54,
         10.114804607208953,
         5.299785921705841,
         4.570270485253972,
         2.0,
         4.633490930523493,
         0.0,
         3,
         false,
         false,
         2,
         14,
         20.471389386909287,
         3.5110580351461342
        ],
        [
         55,
         "Male",
         "Education",
         6.146778002483055,
         "Instagram",
         57,
         5.069658812122308,
         4.211046367025345,
         3.54726603832118,
         5.0,
         8.478066700709054,
         1.284664338713844,
         8,
         false,
         false,
         2,
         12,
         13.604001622546026,
         3.9176485362463596
        ],
        [
         28,
         "Male",
         "Student",
         2.1190366685185884,
         "Twitter",
         47,
         2.2553554575680987,
         2.4141300532387215,
         2.326243704845853,
         3.0,
         6.418468900741321,
         0.859978162277433,
         5,
         false,
         false,
         2,
         8,
         28.926811158900737,
         2.140107658094211
        ],
        [
         58,
         "Other",
         "Health",
         2.5797972397061413,
         "TikTok",
         55,
         6.507942754238187,
         2.8894060102466845,
         3.1268607358098235,
         8.0,
         7.820252077602377,
         0.5496164216265372,
         1,
         false,
         false,
         1,
         2,
         5.966860346020209,
         null
        ],
        [
         52,
         "Male",
         "Unemployed",
         2.9344352634370234,
         "Telegram",
         56,
         11.789797506014871,
         5.467686364165236,
         5.2775227093330495,
         2.0,
         8.923428838729654,
         2.3174431115482705,
         8,
         true,
         false,
         4,
         25,
         0.0,
         null
        ],
        [
         42,
         "Female",
         "Student",
         1.1816440146429474,
         "Twitter",
         69,
         7.636121703681176,
         3.3860801088967225,
         2.961312497695205,
         4.0,
         8.567127551516105,
         0.35838766326999816,
         5,
         false,
         false,
         2,
         18,
         21.6617523756739,
         1.6942089468270807
        ],
        [
         42,
         "Male",
         "Student",
         5.380519275263955,
         "Facebook",
         54,
         7.632339224290333,
         7.469687435593739,
         7.367979237878178,
         5.0,
         null,
         1.1468469779933337,
         9,
         false,
         true,
         0,
         16,
         9.879952650962244,
         6.514303191426667
        ],
        [
         57,
         "Male",
         "IT",
         4.212199324441979,
         "Instagram",
         71,
         6.772560187577973,
         null,
         3.551963541142189,
         4.0,
         7.995015413884436,
         null,
         5,
         false,
         false,
         2,
         29,
         10.88374701571402,
         1.6441932406288622
        ],
        [
         64,
         "Male",
         "Student",
         1.8487805060586149,
         "Facebook",
         53,
         6.141303423128085,
         5.47683211563662,
         5.291920335853593,
         1.0,
         4.208986696948523,
         1.1731318113766016,
         4,
         false,
         false,
         2,
         13,
         9.29086397850499,
         5.374983953378528
        ],
        [
         26,
         "Male",
         "Unemployed",
         3.7454813690493984,
         "Twitter",
         70,
         8.222465103505835,
         5.453303010589028,
         4.675980525420289,
         5.0,
         8.730032074057517,
         0.7501588223512569,
         10,
         false,
         false,
         1,
         19,
         9.627095438402526,
         4.642901377243701
        ],
        [
         22,
         "Female",
         "Finance",
         2.2478842240466075,
         "TikTok",
         61,
         4.636229991492775,
         4.546382133573022,
         4.1044588534997155,
         9.0,
         null,
         1.1053467262878958,
         4,
         false,
         false,
         3,
         6,
         13.201322102243864,
         4.248202244411647
        ],
        [
         44,
         "Female",
         "Education",
         0.0,
         "TikTok",
         66,
         6.3131199166758,
         2.126044289112301,
         2.4363747223415295,
         3.0,
         4.981478554530053,
         0.03696794801316472,
         7,
         false,
         false,
         1,
         25,
         20.458395271842214,
         0.21504719666952798
        ],
        [
         57,
         "Male",
         "Education",
         1.4677123333098538,
         "Twitter",
         46,
         7.358749513114203,
         4.579502893343713,
         null,
         1.0,
         7.751345238036186,
         1.4006815329950573,
         4,
         false,
         false,
         1,
         6,
         12.503085292527093,
         3.772937497647644
        ],
        [
         26,
         "Male",
         "Education",
         3.3562021809167026,
         "Instagram",
         43,
         6.793216186681816,
         2.8664956199514884,
         2.2938364479390274,
         10.0,
         5.116338688374532,
         0.26845970219150506,
         8,
         false,
         false,
         2,
         6,
         6.1899185219237305,
         0.7912496243478833
        ],
        [
         36,
         "Female",
         "Unemployed",
         1.6831736547433986,
         "Telegram",
         60,
         4.76447015998005,
         7.272588051286119,
         6.925880329846222,
         1.0,
         7.4853963683614975,
         1.793566320616561,
         2,
         false,
         false,
         0,
         30,
         11.735926558414503,
         null
        ],
        [
         54,
         "Male",
         "IT",
         4.1561217165264,
         "Facebook",
         67,
         5.308871463113344,
         3.5557681653969864,
         null,
         9.0,
         5.65199739988603,
         0.0,
         4,
         false,
         false,
         2,
         10,
         18.777745990067615,
         3.3168287072938742
        ],
        [
         60,
         "Male",
         "Student",
         7.149818572332666,
         "Facebook",
         52,
         8.333741334088971,
         5.0560173728352105,
         4.855080048803312,
         1.0,
         8.067666960250481,
         0.3637583472452386,
         3,
         false,
         true,
         3,
         29,
         10.280345165322379,
         5.850253784161365
        ],
        [
         56,
         "Male",
         "Finance",
         0.8321027664638003,
         "Instagram",
         56,
         5.045986537304218,
         8.490698041762183,
         7.21987014090012,
         9.0,
         3.979372683441692,
         0.8825470423784226,
         4,
         false,
         false,
         1,
         15,
         0.0,
         7.018607143896807
        ],
        [
         60,
         "Female",
         "Student",
         2.7647645730841455,
         "Facebook",
         56,
         4.031730614966885,
         null,
         6.81508403283489,
         null,
         7.412354389812272,
         2.2989808575227917,
         8,
         false,
         true,
         4,
         7,
         11.289909886064109,
         8.901103031743853
        ],
        [
         45,
         "Female",
         "Health",
         2.8131625557776925,
         "Telegram",
         48,
         6.700653947718248,
         5.096888722871069,
         4.581556173753327,
         6.0,
         8.172419025347548,
         0.0,
         4,
         true,
         false,
         0,
         3,
         6.744930574565469,
         3.832111563123547
        ],
        [
         62,
         "Female",
         "Finance",
         0.0,
         "Instagram",
         58,
         5.5622015997211545,
         5.06160466492032,
         4.534811511832641,
         5.0,
         5.5846600715131105,
         0.0,
         2,
         false,
         false,
         3,
         29,
         14.680946212520528,
         2.898037698774501
        ],
        [
         37,
         "Female",
         "IT",
         5.343648739079271,
         "Telegram",
         59,
         9.623254725980797,
         7.438854583484976,
         6.7114733812273055,
         5.0,
         null,
         0.09363025490527499,
         6,
         false,
         false,
         3,
         30,
         6.060064844506854,
         7.910593214629367
        ],
        [
         60,
         "Male",
         "IT",
         3.6703720062724505,
         "Twitter",
         41,
         8.009874483462298,
         8.790114117661393,
         8.639421876746688,
         5.0,
         null,
         1.8735174666868746,
         10,
         false,
         false,
         2,
         1,
         2.482831973716223,
         8.391522687527909
        ],
        [
         34,
         "Male",
         "Finance",
         4.806872312144488,
         "Twitter",
         58,
         7.5157113398831115,
         2.9354392164469716,
         3.1172424735177495,
         5.0,
         null,
         0.21536852732235534,
         7,
         false,
         false,
         1,
         30,
         11.72961839074128,
         4.106825486493529
        ],
        [
         35,
         "Female",
         "IT",
         3.647914364100178,
         "TikTok",
         67,
         8.40696370401333,
         3.9715354674334526,
         3.681284517816839,
         5.0,
         7.846506334643305,
         0.9436080653022696,
         6,
         false,
         false,
         1,
         14,
         0.0,
         4.526292073955517
        ],
        [
         43,
         "Female",
         "Education",
         5.677586188633926,
         "Telegram",
         68,
         2.9696984699041638,
         4.689359471943767,
         3.969005302654135,
         5.0,
         5.710132929727311,
         1.82260918921362,
         4,
         false,
         false,
         4,
         4,
         0.0,
         3.82252358064302
        ],
        [
         24,
         "Female",
         "Health",
         5.5294503179774885,
         "TikTok",
         64,
         4.863363771423732,
         3.0099835737983827,
         2.107681336376766,
         10.0,
         7.193132020498359,
         1.7265367794538975,
         7,
         false,
         true,
         1,
         2,
         0.0,
         1.1174762084872238
        ],
        [
         50,
         "Male",
         "Finance",
         2.102028791125455,
         "Facebook",
         64,
         7.491644731232108,
         5.885088621692502,
         5.553810669809705,
         2.0,
         7.151382554485384,
         1.3388487293596958,
         0,
         false,
         false,
         0,
         19,
         3.4662342303626588,
         4.908533588986757
        ],
        [
         38,
         "Female",
         "Health",
         1.6634385730173962,
         "Telegram",
         60,
         3.882346212428935,
         7.8364574443838535,
         7.787522438873025,
         6.0,
         7.494353897522842,
         0.28747800627943787,
         1,
         false,
         false,
         1,
         13,
         9.954604619498532,
         7.625565026319874
        ],
        [
         35,
         "Female",
         "Unemployed",
         null,
         "Instagram",
         67,
         6.293217043571529,
         2.5697624058985067,
         null,
         5.0,
         6.246199153228453,
         0.8182462558797763,
         2,
         false,
         false,
         1,
         19,
         10.030975917527554,
         null
        ],
        [
         36,
         "Male",
         "IT",
         3.3860961991909133,
         "Telegram",
         52,
         4.292501006202924,
         5.115728752968883,
         4.224113800361493,
         9.0,
         null,
         1.6840652556366125,
         1,
         false,
         false,
         3,
         31,
         0.0,
         5.028813114758297
        ],
        [
         60,
         "Other",
         "Health",
         1.5220930637679078,
         "Twitter",
         50,
         6.345352161372997,
         2.8108159367204735,
         1.9275091668483841,
         5.0,
         5.483785506059453,
         2.4058658461029436,
         8,
         false,
         true,
         2,
         23,
         9.997048166121873,
         0.6961189154922041
        ],
        [
         52,
         "Male",
         "Education",
         null,
         "Twitter",
         62,
         8.318124814146197,
         null,
         null,
         8.0,
         6.199141510406517,
         0.3824399523771085,
         0,
         false,
         false,
         3,
         17,
         16.112111784158728,
         1.5559602590812107
        ],
        [
         56,
         "Male",
         "Student",
         2.882700828135707,
         "Twitter",
         56,
         8.240094838427904,
         8.357365954379734,
         7.227241109721926,
         2.0,
         7.726734611939179,
         0.0,
         8,
         false,
         true,
         1,
         0,
         11.087738013614121,
         null
        ],
        [
         20,
         "Female",
         "Unemployed",
         2.2171922926482655,
         "Telegram",
         63,
         7.8865836062790855,
         null,
         1.963201339508602,
         5.0,
         6.541747050942338,
         0.37485474896094506,
         8,
         false,
         false,
         4,
         12,
         10.414838270433707,
         1.9663897901077019
        ],
        [
         22,
         "Female",
         "Student",
         null,
         "Instagram",
         60,
         9.831440864870569,
         3.50709434404072,
         3.413815846262893,
         3.0,
         7.903251586521424,
         0.017180641292269372,
         7,
         false,
         false,
         1,
         11,
         7.649149243744343,
         3.624949533207019
        ],
        [
         63,
         "Male",
         "Unemployed",
         0.0,
         "Facebook",
         72,
         9.639445995310519,
         5.955699472764078,
         4.9253861070646,
         5.0,
         6.256344852715236,
         1.3006829350587594,
         5,
         false,
         false,
         4,
         30,
         13.658200365731847,
         4.807120997323827
        ],
        [
         27,
         "Female",
         "Education",
         0.0,
         "Facebook",
         58,
         5.50832809326273,
         5.028464843374097,
         4.4830918950653516,
         10.0,
         5.1946145619602095,
         1.1991498665140197,
         0,
         true,
         true,
         0,
         5,
         10.093407926148695,
         5.718010536710067
        ],
        [
         28,
         "Male",
         "Finance",
         2.019615042697179,
         "TikTok",
         65,
         8.217684413281315,
         6.4437485607787615,
         6.196481340392963,
         10.0,
         5.336390809512838,
         0.29150477651789986,
         6,
         false,
         false,
         1,
         20,
         6.950533280848147,
         6.77898506691214
        ],
        [
         62,
         "Female",
         "Unemployed",
         2.5905946315987314,
         "Telegram",
         65,
         3.6340472588130637,
         null,
         5.545931956507791,
         6.0,
         4.177661822936392,
         1.585051543321243,
         5,
         false,
         false,
         7,
         23,
         0.0,
         5.129945499643029
        ],
        [
         48,
         "Female",
         "Health",
         4.536852079281205,
         "Telegram",
         59,
         7.246024583089659,
         7.885012226938261,
         6.998275655954113,
         5.0,
         5.527391191303719,
         null,
         1,
         true,
         true,
         2,
         22,
         0.0,
         6.7212750835872495
        ],
        [
         33,
         "Male",
         "Student",
         3.2696637008146765,
         "Twitter",
         56,
         5.207320845866193,
         2.2251964599800567,
         1.90214791165944,
         3.0,
         null,
         0.6335174892769989,
         8,
         true,
         true,
         0,
         27,
         3.8113327788692004,
         1.0924336056862354
        ],
        [
         30,
         "Male",
         "IT",
         5.328552265253688,
         "Twitter",
         54,
         8.417153062600574,
         null,
         5.760130765816947,
         1.0,
         5.400287959081558,
         1.41375904023457,
         8,
         true,
         true,
         3,
         28,
         10.194033850971765,
         5.9169062053033095
        ],
        [
         35,
         "Male",
         "Education",
         2.0319167297604332,
         "Telegram",
         71,
         5.781134186979199,
         8.263844541310888,
         7.813704246690538,
         8.0,
         4.870460974030795,
         1.5387222758624302,
         8,
         false,
         false,
         2,
         4,
         9.4320843388192,
         7.832658523180678
        ],
        [
         19,
         "Female",
         "Finance",
         1.234088874446318,
         "Twitter",
         53,
         7.043566070441382,
         5.057140566318564,
         5.147299459476132,
         3.0,
         5.82721479719021,
         1.9799477857009435,
         5,
         false,
         false,
         2,
         29,
         0.0,
         null
        ],
        [
         61,
         "Male",
         "Unemployed",
         5.33649630230617,
         "Instagram",
         62,
         6.346653542673388,
         7.890054454782247,
         7.173987913834351,
         7.0,
         4.704791460228585,
         0.6630699557376882,
         2,
         true,
         false,
         1,
         7,
         11.76722744141324,
         8.056097199012896
        ],
        [
         61,
         "Female",
         "Unemployed",
         4.676559817474584,
         "Telegram",
         64,
         7.409481111781503,
         7.809333118979692,
         6.359702552018711,
         10.0,
         3.3587162500044654,
         0.9661632450700322,
         1,
         false,
         false,
         0,
         2,
         0.0,
         7.28052309653859
        ],
        [
         32,
         "Male",
         "Education",
         6.858570736858208,
         "TikTok",
         58,
         9.109429649607137,
         6.231466682350414,
         6.005864620359662,
         2.0,
         5.6275758555574145,
         0.7796277850718869,
         6,
         false,
         false,
         1,
         22,
         0.0,
         6.130367373945343
        ],
        [
         29,
         "Male",
         "Education",
         2.5174311891280965,
         "Twitter",
         66,
         4.900922741403377,
         3.639221912854547,
         3.825377574268356,
         10.0,
         5.550717819149167,
         0.4826777078377097,
         2,
         false,
         true,
         1,
         26,
         7.363343654029069,
         3.37765202719366
        ],
        [
         64,
         "Other",
         "Health",
         1.2709213595924616,
         "Instagram",
         64,
         9.362129202906626,
         5.938856388494027,
         6.571889482027961,
         3.0,
         null,
         null,
         0,
         true,
         false,
         1,
         24,
         4.43644490953957,
         7.444643738193539
        ],
        [
         29,
         "Male",
         "IT",
         3.4395190857608258,
         "Twitter",
         56,
         10.64092900454279,
         5.818621988475545,
         4.255500683060378,
         8.0,
         6.988440961427948,
         1.161229934766289,
         10,
         true,
         false,
         2,
         6,
         11.730934444656656,
         4.302899636649267
        ],
        [
         57,
         "Male",
         "Unemployed",
         0.0,
         "TikTok",
         68,
         6.206261810749235,
         4.060461007638374,
         null,
         5.0,
         null,
         1.4072393231403446,
         5,
         false,
         false,
         1,
         15,
         8.443046562471086,
         3.0819259674389174
        ],
        [
         64,
         "Female",
         "IT",
         2.2016012552835607,
         "Telegram",
         69,
         5.412821016568566,
         3.201390851666588,
         3.1297173137479435,
         8.0,
         4.326122329749162,
         1.0954855315515797,
         3,
         true,
         false,
         4,
         19,
         20.446973532376422,
         3.0831379633079026
        ],
        [
         49,
         "Male",
         "Education",
         4.053072275624525,
         "Facebook",
         71,
         4.343678650493109,
         7.647315259331025,
         7.122570362446816,
         2.0,
         7.38124192611661,
         1.787552355760079,
         8,
         false,
         true,
         1,
         31,
         12.837515451189727,
         6.070946446265725
        ],
        [
         21,
         "Male",
         "IT",
         null,
         "Instagram",
         76,
         10.422361895912502,
         2.559782982362751,
         2.0952089170814983,
         7.0,
         6.713231058586078,
         1.7523865891952866,
         7,
         false,
         true,
         0,
         22,
         5.893489985104323,
         3.793868555729534
        ],
        [
         46,
         "Female",
         "Unemployed",
         4.300500910000146,
         "Instagram",
         58,
         7.273408103666695,
         7.352197606434709,
         6.320215907484535,
         1.0,
         7.78414886881058,
         1.0539743749835695,
         5,
         false,
         true,
         2,
         16,
         11.858251511520953,
         6.667912175763736
        ],
        [
         49,
         "Male",
         "Finance",
         2.6328847764091754,
         "Facebook",
         67,
         7.60575298393198,
         3.815394444269544,
         3.105646154008703,
         3.0,
         5.067808640847377,
         0.8146241580908837,
         5,
         true,
         false,
         5,
         11,
         18.8502447084659,
         3.48445274314873
        ],
        [
         40,
         "Female",
         "Student",
         1.5164537036123753,
         "Facebook",
         58,
         6.992868205068342,
         6.875797200647868,
         6.9193245238921515,
         7.0,
         6.174235069048335,
         1.5132644334634286,
         0,
         true,
         true,
         0,
         10,
         9.29614146961733,
         7.787291567371023
        ],
        [
         25,
         "Female",
         "Finance",
         3.2940938355047478,
         "Instagram",
         58,
         2.2579700886343135,
         5.337109764430201,
         5.144756472348018,
         6.0,
         7.197709794350869,
         1.2180522097293947,
         4,
         false,
         false,
         6,
         30,
         0.0,
         5.377308544427634
        ],
        [
         39,
         "Female",
         "Health",
         0.5664947210180671,
         "Telegram",
         54,
         5.2215964294256345,
         5.916550011905036,
         5.337973718225676,
         8.0,
         6.419687085445226,
         0.9634438574595279,
         5,
         false,
         false,
         1,
         25,
         0.0,
         6.228699217853358
        ],
        [
         18,
         "Female",
         "Unemployed",
         2.5977998157411823,
         "TikTok",
         60,
         5.9896234118883305,
         6.470812081257681,
         5.1511971516450945,
         4.0,
         5.958715785965486,
         0.6505761540231016,
         3,
         false,
         false,
         5,
         16,
         25.486390349787335,
         5.671455946187731
        ],
        [
         39,
         "Male",
         "Finance",
         1.1956762515613653,
         "Facebook",
         67,
         8.68274386284414,
         7.9907122468447,
         6.281734528797495,
         4.0,
         null,
         1.366292599530172,
         7,
         true,
         true,
         0,
         4,
         6.115463934411847,
         5.650079515392377
        ],
        [
         60,
         "Male",
         "Education",
         0.9878334217032445,
         "Instagram",
         60,
         7.98223136728622,
         7.216094567124348,
         6.638373943357415,
         4.0,
         4.913128081005244,
         1.7859190109049181,
         1,
         false,
         false,
         1,
         2,
         0.0,
         7.223328551867238
        ],
        [
         37,
         "Male",
         "Student",
         3.6746471610250246,
         "Telegram",
         63,
         8.553090450678546,
         5.375366183266787,
         4.5624262498512635,
         4.0,
         3.205379869503653,
         1.9779478000794208,
         3,
         false,
         false,
         3,
         13,
         23.84875271883953,
         5.2113142868713105
        ],
        [
         34,
         "Female",
         "IT",
         0.4785205710556908,
         "Instagram",
         57,
         11.611953863461753,
         4.947739828214582,
         3.697892890445339,
         2.0,
         null,
         2.3714455217202985,
         6,
         false,
         false,
         2,
         26,
         15.033793925929928,
         2.8916344087376524
        ],
        [
         42,
         "Female",
         "Unemployed",
         2.821679201377531,
         "Facebook",
         64,
         8.007316229636402,
         4.871397502560761,
         null,
         6.0,
         5.630241851650816,
         1.2827374771657045,
         10,
         false,
         false,
         3,
         18,
         14.460942335959267,
         3.8530699566539974
        ],
        [
         55,
         "Male",
         "Health",
         1.4097271679251782,
         "Facebook",
         53,
         6.61876252548793,
         6.517495455921727,
         5.8379932461935145,
         4.0,
         3.9092099664458466,
         1.039617069306797,
         1,
         true,
         false,
         3,
         10,
         6.415051708485356,
         6.113810235057831
        ],
        [
         23,
         "Female",
         "Education",
         0.0,
         "TikTok",
         62,
         6.283683668253439,
         null,
         4.46549861211361,
         5.0,
         4.482617597531046,
         1.029741001835569,
         7,
         false,
         false,
         2,
         16,
         0.0,
         null
        ],
        [
         38,
         "Male",
         "Health",
         4.300332395318133,
         "Twitter",
         60,
         2.980878256613953,
         8.02587251731845,
         6.885735822005114,
         4.0,
         6.916293406478827,
         0.7473972625605154,
         10,
         true,
         false,
         0,
         24,
         16.544403008344545,
         8.42252589974048
        ],
        [
         35,
         "Female",
         "Finance",
         2.023516148193082,
         "Telegram",
         46,
         8.723218779605743,
         4.032876556264764,
         4.137112675195189,
         1.0,
         8.117712320829542,
         1.4922243381401816,
         5,
         true,
         false,
         0,
         7,
         14.94721149005795,
         6.080217024775186
        ],
        [
         21,
         "Female",
         "Health",
         3.6539430398662027,
         "Telegram",
         52,
         10.429301639125251,
         5.502391666817234,
         null,
         7.0,
         8.33173565654871,
         1.5122861459523815,
         3,
         true,
         true,
         2,
         28,
         9.591125227580978,
         5.598017615366531
        ],
        [
         62,
         "Male",
         "Education",
         2.3151854802723086,
         "Facebook",
         61,
         6.601174076828151,
         3.224498771553649,
         1.841612300121352,
         3.0,
         5.432046248412983,
         0.4889716618694263,
         5,
         false,
         true,
         3,
         17,
         24.17486920593469,
         2.131160205080177
        ],
        [
         60,
         "Female",
         "Finance",
         4.415693140342273,
         "Telegram",
         69,
         5.476215921198859,
         8.641874249916356,
         6.947639455133393,
         2.0,
         6.992494998803272,
         1.0715164287867633,
         5,
         true,
         false,
         2,
         19,
         0.0,
         8.157691055366438
        ],
        [
         21,
         "Male",
         "Health",
         1.5621014125902182,
         "Telegram",
         58,
         8.441669914284226,
         5.33892636194358,
         4.229069792661532,
         8.0,
         null,
         1.7145667323631573,
         6,
         false,
         false,
         1,
         3,
         19.92921953299036,
         5.540048097700296
        ],
        [
         53,
         "Female",
         "Education",
         2.6182853779628896,
         "Facebook",
         59,
         7.416311554263473,
         3.7395510499444335,
         3.6417224794182,
         9.0,
         4.585075031204943,
         0.10856350512279211,
         2,
         true,
         false,
         4,
         30,
         14.122300520307018,
         3.552781912353985
        ],
        [
         19,
         "Male",
         "Unemployed",
         3.973512475809006,
         "Instagram",
         44,
         10.008098730176245,
         5.373066802764386,
         4.567304141003736,
         3.0,
         6.389167275860033,
         1.0071968573418306,
         0,
         false,
         false,
         3,
         27,
         15.683738346722869,
         3.5093093206878807
        ],
        [
         57,
         "Male",
         "Unemployed",
         5.9056612522057215,
         "TikTok",
         55,
         8.126406165013728,
         6.047384814600234,
         5.1857645937144135,
         5.0,
         3.9179660447552784,
         2.07733818054332,
         0,
         false,
         false,
         3,
         9,
         20.44029552549449,
         5.328268347504443
        ],
        [
         26,
         "Male",
         "Health",
         0.0,
         "Twitter",
         39,
         8.002179822381077,
         5.651981842406793,
         5.707952900517222,
         7.0,
         6.12943632657062,
         1.5035601859910734,
         9,
         false,
         false,
         3,
         31,
         0.0,
         5.344119942707328
        ],
        [
         46,
         "Female",
         "Student",
         4.1213093102015534,
         "Instagram",
         71,
         7.443521930203096,
         6.853175135507077,
         6.379738472052245,
         5.0,
         7.641952081792112,
         0.9937920564108168,
         7,
         false,
         false,
         1,
         8,
         8.677256640630235,
         5.592415126422295
        ],
        [
         23,
         "Female",
         "Student",
         1.3888015888547753,
         "Twitter",
         53,
         6.969024429901447,
         6.283225962746973,
         6.104888831923594,
         9.0,
         6.193568858969025,
         0.381181620900241,
         0,
         false,
         false,
         4,
         27,
         6.159869011161131,
         4.097254782558416
        ],
        [
         43,
         "Female",
         "Finance",
         2.910238061615581,
         "TikTok",
         62,
         8.782473548873,
         6.917361078871325,
         5.752555802717584,
         3.0,
         5.522474967684048,
         1.1668473661678773,
         10,
         false,
         false,
         5,
         3,
         0.0,
         6.15726983141164
        ],
        [
         25,
         "Female",
         "Student",
         null,
         "Instagram",
         59,
         3.506613008046655,
         3.9376605581821806,
         3.5925343216266854,
         3.0,
         6.0513980089257124,
         1.400564309696549,
         6,
         false,
         false,
         5,
         21,
         22.602459162518983,
         5.070561163289572
        ],
        [
         21,
         "Male",
         "Unemployed",
         0.7826681471671222,
         "Telegram",
         63,
         8.394188681920673,
         5.666935276918336,
         4.935853400380466,
         null,
         7.5363681462844845,
         null,
         4,
         false,
         true,
         2,
         7,
         18.579757195104033,
         5.950487538578879
        ],
        [
         32,
         "Other",
         "IT",
         null,
         "Telegram",
         67,
         5.525729417446942,
         4.051618579949114,
         2.6855507555301523,
         7.0,
         6.292323951793862,
         0.9235349512545902,
         8,
         false,
         false,
         4,
         10,
         4.084721978430123,
         3.624576233036091
        ],
        [
         22,
         "Female",
         "Unemployed",
         null,
         "Telegram",
         66,
         7.164407832807185,
         2.744421167384133,
         1.9805011504747696,
         10.0,
         null,
         0.25454862006781886,
         4,
         true,
         false,
         1,
         18,
         19.259911070669155,
         2.9736303724210766
        ],
        [
         61,
         "Male",
         "Finance",
         3.75890033495074,
         "Facebook",
         60,
         7.289599896615866,
         8.232292008512106,
         7.49170554031694,
         3.0,
         6.696222352770686,
         0.22322810687893713,
         6,
         false,
         false,
         3,
         11,
         9.790547382032944,
         8.290727603588856
        ],
        [
         41,
         "Male",
         "Education",
         1.7249557629437409,
         "Telegram",
         54,
         8.568058457096681,
         6.753016279074329,
         5.494413902107665,
         6.0,
         4.546682520033205,
         0.1926934170535406,
         4,
         true,
         true,
         1,
         13,
         11.084484924546311,
         4.9466682997788585
        ],
        [
         47,
         "Female",
         "Unemployed",
         3.5082243352283458,
         "Twitter",
         70,
         4.033158296340304,
         5.264522857667565,
         4.914834219660643,
         5.0,
         5.055443503710344,
         0.14904420413481256,
         0,
         false,
         false,
         1,
         6,
         16.86589134094664,
         6.077272342818413
        ],
        [
         28,
         "Male",
         "Finance",
         4.4100755723687985,
         "TikTok",
         67,
         6.367585446670676,
         5.83892995863081,
         4.760971272938159,
         4.0,
         8.00025485808245,
         1.2579637444474505,
         4,
         false,
         false,
         3,
         11,
         14.084205877200144,
         2.506058729410327
        ],
        [
         42,
         "Male",
         "Finance",
         null,
         "TikTok",
         63,
         10.148091545421043,
         6.844194387048455,
         5.791207879369249,
         3.0,
         7.031030670621518,
         1.8382810621042251,
         2,
         false,
         false,
         0,
         26,
         3.1676528155135486,
         4.496062585197374
        ],
        [
         42,
         "Female",
         "Finance",
         3.9881077288638416,
         "Twitter",
         59,
         8.030775667549054,
         8.136860148722452,
         null,
         4.0,
         8.732599573681101,
         0.0,
         4,
         true,
         false,
         3,
         6,
         16.34259576883157,
         5.976249957307378
        ],
        [
         65,
         "Male",
         "Finance",
         4.4058875299746685,
         "Twitter",
         56,
         8.802992300617436,
         2.9878686929508076,
         2.850532992747275,
         10.0,
         7.651011412899273,
         1.8529568096700952,
         0,
         false,
         false,
         1,
         28,
         23.82097743810796,
         3.308532484193886
        ],
        [
         50,
         "Male",
         "Student",
         1.2739438816178772,
         "Instagram",
         67,
         2.7475388033293475,
         8.574325176318181,
         7.501350413819894,
         6.0,
         7.096143990059309,
         3.0,
         0,
         false,
         false,
         4,
         26,
         13.162576565124722,
         null
        ],
        [
         24,
         "Female",
         "IT",
         3.3900313728574254,
         "Instagram",
         64,
         7.519906141500536,
         6.807253867765457,
         null,
         9.0,
         6.125788362045955,
         2.5362725361080796,
         7,
         false,
         false,
         1,
         11,
         18.91150078775855,
         7.589517716869686
        ],
        [
         48,
         "Female",
         "Student",
         null,
         "Telegram",
         79,
         7.089572951771577,
         2.6048941997546544,
         2.0445551461866005,
         10.0,
         4.267678594964312,
         1.9143439433150762,
         5,
         false,
         true,
         1,
         30,
         11.519474093046487,
         2.6242647847200917
        ],
        [
         39,
         "Female",
         "Education",
         3.7987950735358593,
         "Telegram",
         56,
         5.178426889454476,
         5.132596491072309,
         4.832916529432817,
         7.0,
         7.531100550186598,
         1.3263248575060556,
         10,
         false,
         false,
         2,
         21,
         5.748843886493342,
         5.849919401614249
        ],
        [
         20,
         "Female",
         "Student",
         5.222929347653951,
         "Twitter",
         65,
         9.105872080829208,
         6.785392262910875,
         5.57957675059068,
         10.0,
         6.486081639655619,
         null,
         5,
         false,
         true,
         3,
         4,
         10.338870642164906,
         5.308644866685541
        ],
        [
         53,
         "Female",
         "Education",
         0.0,
         "Instagram",
         68,
         9.815598311813968,
         8.967255711579176,
         7.890195307515495,
         7.0,
         8.581593789486757,
         0.03443313655468494,
         9,
         false,
         false,
         2,
         1,
         8.95838449273355,
         6.507013870885079
        ],
        [
         43,
         "Female",
         "Unemployed",
         null,
         "Instagram",
         66,
         5.741753347890488,
         6.294179196496435,
         5.849332195673789,
         9.0,
         null,
         1.4134443013940299,
         0,
         false,
         false,
         0,
         6,
         16.579582123486713,
         5.078723847214673
        ],
        [
         20,
         "Male",
         "Finance",
         3.599211691168572,
         "Twitter",
         59,
         6.389195873914213,
         2.7984905006647116,
         2.0407741269776363,
         4.0,
         4.447081318509848,
         0.9983204359016634,
         0,
         false,
         false,
         1,
         22,
         3.6246974998955306,
         1.1015774498272912
        ],
        [
         24,
         "Female",
         "IT",
         1.8927073068892986,
         "Instagram",
         68,
         6.038190828529635,
         4.406462900840531,
         3.0445879948176793,
         5.0,
         6.683289402572808,
         1.0914644006930085,
         8,
         true,
         false,
         5,
         30,
         12.729141074890748,
         2.822124538530615
        ],
        [
         32,
         "Female",
         "Health",
         7.7310947955836955,
         "Instagram",
         58,
         5.70425811672389,
         3.3477883142514373,
         3.126953789420275,
         3.0,
         null,
         1.23655033510552,
         1,
         true,
         false,
         2,
         19,
         23.956185279848874,
         3.1333198721120796
        ],
        [
         64,
         "Male",
         "Education",
         0.0,
         "Facebook",
         62,
         6.455969878472865,
         5.833521016223277,
         4.784331348777504,
         1.0,
         8.777205969700265,
         0.2797641397143873,
         6,
         false,
         false,
         3,
         5,
         7.897815912839368,
         3.1523221098572574
        ],
        [
         58,
         "Male",
         "Student",
         3.0870534417443887,
         "Instagram",
         58,
         6.974366976830064,
         4.02765716330215,
         2.8096751304767995,
         8.0,
         7.669856115104585,
         0.9999011842941329,
         1,
         true,
         false,
         0,
         21,
         11.34520577966843,
         2.7759808354498205
        ],
        [
         37,
         "Male",
         "IT",
         null,
         "TikTok",
         65,
         7.107677583669252,
         3.954212524456716,
         3.3124036610961998,
         10.0,
         7.1489423476288785,
         0.9675470509291733,
         10,
         false,
         true,
         2,
         19,
         17.650392540847058,
         2.244682430933331
        ],
        [
         41,
         "Other",
         "Health",
         8.594737436073997,
         "Telegram",
         61,
         4.301583397258057,
         5.567230648747795,
         5.551675455182217,
         6.0,
         6.17081480031042,
         1.7137856524517634,
         5,
         false,
         false,
         0,
         5,
         18.381497914688076,
         4.298927884885487
        ],
        [
         19,
         "Male",
         "Finance",
         2.0400304327908025,
         "TikTok",
         58,
         4.104822926942892,
         7.972678475081884,
         6.915406745789004,
         4.0,
         7.262782332289867,
         0.8642792220275348,
         8,
         true,
         false,
         2,
         30,
         7.924311306824191,
         6.5501740661711105
        ],
        [
         40,
         "Female",
         "Student",
         null,
         "TikTok",
         59,
         5.228279848291565,
         2.7688386369445177,
         2.5638962266015506,
         6.0,
         5.914549727719854,
         1.4087473002857624,
         7,
         false,
         false,
         2,
         23,
         11.755643246742908,
         1.3283878641595315
        ],
        [
         65,
         "Male",
         "Unemployed",
         2.6223277968842598,
         "Instagram",
         56,
         5.696594170236523,
         4.586064078661517,
         3.6742937252798153,
         8.0,
         6.825971444885661,
         0.3713954161145271,
         10,
         false,
         false,
         3,
         18,
         3.199244574076065,
         3.058620978166745
        ],
        [
         29,
         "Male",
         "Finance",
         1.370893590097327,
         "Instagram",
         59,
         8.541784275934456,
         7.165053943183934,
         6.677577500118409,
         3.0,
         5.650751478512184,
         0.6798452114161055,
         3,
         true,
         false,
         0,
         9,
         3.459304483919251,
         6.800140734635827
        ],
        [
         45,
         "Female",
         "Student",
         null,
         "TikTok",
         52,
         8.116384807321328,
         null,
         2.979299226176281,
         4.0,
         6.682260785108571,
         0.9755108531720791,
         10,
         false,
         true,
         2,
         16,
         20.21932657210036,
         3.6359725253791924
        ],
        [
         28,
         "Male",
         "Unemployed",
         5.9294244484021075,
         "Twitter",
         57,
         6.676576763783035,
         6.778866950805706,
         5.6055283591703535,
         7.0,
         6.147672342850927,
         0.0,
         1,
         false,
         false,
         5,
         10,
         16.849531522882774,
         5.022771225472397
        ],
        [
         56,
         "Female",
         "Unemployed",
         null,
         "Twitter",
         74,
         6.8426986953006494,
         2.6629343206721994,
         null,
         10.0,
         4.866453713867093,
         0.47160192223167563,
         2,
         true,
         false,
         0,
         6,
         13.999055281878576,
         1.5289702172085626
        ],
        [
         52,
         "Female",
         "Unemployed",
         null,
         "Twitter",
         45,
         6.212960745924827,
         2.837669699908882,
         2.564820623722814,
         1.0,
         8.602631181274027,
         0.93131043112481,
         9,
         true,
         true,
         1,
         3,
         4.933021292696137,
         2.150612362117092
        ],
        [
         45,
         "Female",
         "IT",
         2.9107267449997645,
         "Telegram",
         55,
         5.560149451543122,
         null,
         5.979346734530015,
         1.0,
         7.907425488005955,
         0.8335464476377649,
         9,
         false,
         false,
         1,
         23,
         12.438785541254369,
         5.713627884875387
        ],
        [
         49,
         "Female",
         "Health",
         2.868865916183183,
         "Instagram",
         54,
         6.680655439284404,
         8.510285895714532,
         7.731293988275663,
         10.0,
         8.780923873067366,
         1.3349831630129754,
         2,
         true,
         false,
         2,
         22,
         10.427621241763841,
         7.03231803615414
        ],
        [
         61,
         "Female",
         "IT",
         1.6360665713319695,
         "Twitter",
         54,
         4.784694383261937,
         8.586851838326197,
         8.05725709932545,
         8.0,
         7.799673542612443,
         0.9199313049711005,
         0,
         false,
         false,
         2,
         21,
         24.458963029203076,
         8.47916950577069
        ],
        [
         65,
         "Male",
         "Student",
         null,
         "Facebook",
         67,
         4.935463207885625,
         3.1452069698866607,
         2.750399935745156,
         5.0,
         7.2275389814087,
         0.24011509867687408,
         0,
         false,
         false,
         3,
         4,
         13.167227343942539,
         0.8133579598879552
        ],
        [
         47,
         "Male",
         "IT",
         4.1253742755128275,
         "Facebook",
         60,
         2.4004002995703635,
         4.97644999342284,
         4.527416068702034,
         7.0,
         4.855056084621355,
         0.0,
         7,
         false,
         false,
         0,
         16,
         15.082278859410664,
         4.992849696121253
        ],
        [
         57,
         "Female",
         "IT",
         6.062253985863427,
         "Facebook",
         52,
         6.284599542572142,
         7.1474880484579355,
         5.66529632244753,
         8.0,
         4.677571725278517,
         2.4121026677129507,
         9,
         false,
         false,
         0,
         22,
         13.819306225876959,
         7.134142859801824
        ],
        [
         50,
         "Female",
         "Education",
         null,
         "Facebook",
         67,
         5.130772120814939,
         null,
         2.870634072790468,
         2.0,
         5.829084026229285,
         0.6466340506614783,
         4,
         false,
         false,
         1,
         5,
         10.09518164729355,
         4.297997406886321
        ],
        [
         63,
         "Male",
         "Student",
         null,
         "TikTok",
         61,
         7.251236360984364,
         7.876164455740065,
         6.721752297966902,
         8.0,
         5.630787032720397,
         0.7393032705229716,
         9,
         false,
         false,
         5,
         14,
         0.0,
         5.121550987813063
        ],
        [
         40,
         "Male",
         "Student",
         0.871562503646016,
         "TikTok",
         59,
         7.871010692169225,
         5.848490762321765,
         5.7406508347648675,
         6.0,
         6.077396904834243,
         1.0286068735687817,
         4,
         true,
         false,
         0,
         17,
         6.5056074772818,
         5.882050804826273
        ],
        [
         42,
         "Male",
         "Finance",
         2.0526709142417285,
         "Twitter",
         65,
         7.526871729707145,
         4.792992762274844,
         4.740934497299959,
         6.0,
         5.619730103198511,
         0.4769230819468473,
         4,
         true,
         false,
         3,
         2,
         5.952316948466308,
         4.813843277936144
        ],
        [
         60,
         "Male",
         "IT",
         1.2829705857468783,
         "Facebook",
         82,
         11.89774506841156,
         2.2073385754000787,
         1.9491537860043928,
         2.0,
         4.790088555653149,
         0.1363262039959443,
         3,
         false,
         true,
         3,
         21,
         8.640872519108378,
         2.3096416688086276
        ],
        [
         23,
         "Female",
         "Health",
         5.368467289040527,
         "Telegram",
         49,
         4.7914444906003535,
         4.479888904767595,
         3.872242560037197,
         4.0,
         5.355409223741733,
         0.6580540919873661,
         7,
         false,
         false,
         1,
         13,
         15.048963536390687,
         2.579547756044729
        ],
        [
         34,
         "Female",
         "Education",
         0.0,
         "Twitter",
         68,
         2.7586111889529716,
         4.239341650490584,
         2.9712097144727383,
         2.0,
         6.308429569442819,
         2.7138945329960817,
         8,
         false,
         false,
         0,
         15,
         2.616959260713429,
         3.652316063552996
        ],
        [
         23,
         "Female",
         "Student",
         6.976344317461297,
         "Twitter",
         57,
         8.748094392129833,
         null,
         5.230866102219244,
         9.0,
         4.83860891398601,
         0.0,
         7,
         true,
         false,
         2,
         14,
         6.970831431735338,
         null
        ],
        [
         51,
         "Female",
         "Student",
         0.0,
         "Telegram",
         60,
         8.045787434377573,
         8.012226258723807,
         6.828568065914769,
         8.0,
         7.49923472517849,
         2.6840668937255576,
         9,
         true,
         false,
         4,
         31,
         21.706309470497025,
         6.178870103197799
        ],
        [
         59,
         "Female",
         "Unemployed",
         null,
         "TikTok",
         74,
         5.258640584552573,
         null,
         7.536375490831984,
         10.0,
         5.913443886670149,
         1.8035518243510507,
         1,
         true,
         false,
         3,
         1,
         18.416199371699705,
         6.837773950110413
        ],
        [
         28,
         "Male",
         "Student",
         1.2287205059615083,
         "TikTok",
         47,
         8.6582459603621,
         4.639817958171589,
         4.57179250330484,
         6.0,
         7.248502448046667,
         0.3618828763808859,
         1,
         false,
         true,
         1,
         10,
         0.0,
         5.136254298494873
        ],
        [
         53,
         "Male",
         "Education",
         1.0657922011516987,
         "Facebook",
         60,
         5.564555207936731,
         4.230028676891489,
         3.0227454084030434,
         8.0,
         9.74035584214214,
         null,
         1,
         false,
         true,
         1,
         19,
         13.04887081725492,
         1.9248798651937153
        ],
        [
         54,
         "Female",
         "Finance",
         3.631481963609037,
         "Twitter",
         67,
         6.819206208402442,
         2.733447303426212,
         2.656508128459895,
         10.0,
         6.401724771779126,
         1.7834791761033204,
         0,
         false,
         false,
         2,
         19,
         14.691215405379388,
         2.389282376732864
        ],
        [
         61,
         "Male",
         "Student",
         10.391001954517503,
         "Instagram",
         61,
         7.289135350124287,
         7.664910631205737,
         6.736042330485493,
         4.0,
         9.120351808017642,
         1.7297278512289633,
         7,
         false,
         false,
         1,
         29,
         9.953943798700331,
         8.104276959642668
        ],
        [
         42,
         "Female",
         "Student",
         0.3414452905090628,
         "Telegram",
         57,
         5.869253641852207,
         7.214815886439808,
         6.981530233563513,
         3.0,
         6.413187161759192,
         1.7987214993812626,
         8,
         false,
         false,
         4,
         29,
         8.169384666582486,
         7.3467385120299
        ],
        [
         35,
         "Female",
         "Education",
         0.650197884569681,
         "Telegram",
         48,
         6.750224032157926,
         4.953180838829011,
         4.937149444260191,
         2.0,
         7.137950471113549,
         1.3063176771863572,
         5,
         false,
         false,
         0,
         0,
         8.11915922585299,
         4.698374346479008
        ],
        [
         44,
         "Male",
         "Unemployed",
         3.940672330334878,
         "Telegram",
         62,
         8.038594549892291,
         2.0590041090461595,
         1.4040031281253333,
         9.0,
         10.0,
         0.8898800126714188,
         1,
         false,
         false,
         2,
         14,
         17.433764091957773,
         2.0291041676843187
        ],
        [
         41,
         "Female",
         "Student",
         1.4763783149154355,
         "Twitter",
         55,
         5.970401691001131,
         2.081112590025727,
         2.221569743480909,
         1.0,
         9.18566723482439,
         0.33213584500769444,
         1,
         false,
         false,
         2,
         8,
         8.436783255626848,
         2.4406689098881493
        ],
        [
         62,
         "Female",
         "Education",
         4.288078668119951,
         "Twitter",
         60,
         4.259219557046226,
         8.631279204099155,
         8.05639274042031,
         7.0,
         5.185237843792448,
         0.0,
         8,
         true,
         false,
         5,
         14,
         19.0705958458251,
         8.170516892443178
        ],
        [
         43,
         "Female",
         "Health",
         2.770050847858781,
         "TikTok",
         57,
         4.9686248017828465,
         null,
         4.327620754029856,
         5.0,
         null,
         0.8185209260519142,
         8,
         false,
         false,
         2,
         2,
         18.44850315386381,
         4.547660258366315
        ],
        [
         65,
         "Female",
         "IT",
         null,
         "Facebook",
         67,
         6.381305459821826,
         3.0124089554892217,
         2.5827119626865787,
         9.0,
         6.41494306956955,
         0.9746713600173118,
         8,
         false,
         true,
         3,
         23,
         19.510511937649255,
         1.0450900698806571
        ],
        [
         57,
         "Female",
         "Student",
         1.2816697212636596,
         "Telegram",
         80,
         9.530685441724819,
         8.108493206696918,
         null,
         7.0,
         4.816039356366224,
         1.0624207066921876,
         4,
         false,
         false,
         1,
         1,
         13.616548297136225,
         6.535757943133833
        ],
        [
         55,
         "Male",
         "Education",
         3.6457242088927853,
         "Telegram",
         56,
         8.11985100619964,
         4.840785358690539,
         4.510464777243069,
         4.0,
         7.156406037288701,
         null,
         4,
         true,
         false,
         1,
         14,
         10.517615739076156,
         null
        ],
        [
         45,
         "Female",
         "Health",
         0.0,
         "TikTok",
         65,
         5.531856244842775,
         5.325288004261222,
         4.420072519203365,
         10.0,
         7.516399891989025,
         1.5578289236849578,
         5,
         false,
         false,
         3,
         27,
         0.0,
         2.761501272299648
        ],
        [
         58,
         "Female",
         "Unemployed",
         0.6568631095818183,
         "Telegram",
         40,
         5.802113061817698,
         8.125459713749189,
         7.522911725213096,
         6.0,
         5.530878741508099,
         0.9012805014054195,
         1,
         true,
         true,
         2,
         7,
         17.353397442849406,
         7.091113214993694
        ],
        [
         48,
         "Female",
         "Student",
         3.067352379495316,
         "Facebook",
         72,
         8.214724274873818,
         8.619149997961799,
         8.218240143123115,
         1.0,
         5.204271453133332,
         1.3497280831704728,
         4,
         true,
         false,
         5,
         23,
         21.208629211089352,
         null
        ],
        [
         27,
         "Female",
         "IT",
         null,
         "Telegram",
         68,
         4.695714976181431,
         3.8669660671725126,
         2.889260442915048,
         1.0,
         null,
         0.032539189924737255,
         6,
         false,
         false,
         1,
         21,
         9.434591287787022,
         4.184118126035145
        ],
        [
         29,
         "Male",
         "Finance",
         0.0,
         "Instagram",
         59,
         9.025114178515054,
         2.2188609828409565,
         1.7699372808367255,
         4.0,
         8.05200241770015,
         1.1512453068888961,
         2,
         false,
         true,
         5,
         30,
         7.368981941001014,
         1.6740902157595352
        ],
        [
         27,
         "Female",
         "Finance",
         null,
         "Instagram",
         60,
         8.372851562449297,
         2.5174655618441326,
         1.085188130067202,
         null,
         3.9778072483210414,
         0.6936159427721944,
         4,
         false,
         false,
         1,
         0,
         19.23472021255592,
         0.510798740604558
        ]
       ],
       "datasetInfos": [],
       "dbfsResultPath": null,
       "isJsonSchema": true,
       "metadata": {},
       "overflow": false,
       "plotOptions": {
        "customPlotOptions": {},
        "displayType": "table",
        "pivotAggregation": null,
        "pivotColumns": null,
        "xColumns": null,
        "yColumns": null
       },
       "removedWidgets": [],
       "schema": [
        {
         "metadata": "{}",
         "name": "age",
         "type": "\"integer\""
        },
        {
         "metadata": "{}",
         "name": "gender",
         "type": "\"string\""
        },
        {
         "metadata": "{}",
         "name": "job_type",
         "type": "\"string\""
        },
        {
         "metadata": "{}",
         "name": "daily_social_media_time",
         "type": "\"double\""
        },
        {
         "metadata": "{}",
         "name": "social_platform_preference",
         "type": "\"string\""
        },
        {
         "metadata": "{}",
         "name": "number_of_notifications",
         "type": "\"integer\""
        },
        {
         "metadata": "{}",
         "name": "work_hours_per_day",
         "type": "\"double\""
        },
        {
         "metadata": "{}",
         "name": "perceived_productivity_score",
         "type": "\"double\""
        },
        {
         "metadata": "{}",
         "name": "actual_productivity_score",
         "type": "\"double\""
        },
        {
         "metadata": "{}",
         "name": "stress_level",
         "type": "\"double\""
        },
        {
         "metadata": "{}",
         "name": "sleep_hours",
         "type": "\"double\""
        },
        {
         "metadata": "{}",
         "name": "screen_time_before_sleep",
         "type": "\"double\""
        },
        {
         "metadata": "{}",
         "name": "breaks_during_work",
         "type": "\"integer\""
        },
        {
         "metadata": "{}",
         "name": "uses_focus_apps",
         "type": "\"boolean\""
        },
        {
         "metadata": "{}",
         "name": "has_digital_wellbeing_enabled",
         "type": "\"boolean\""
        },
        {
         "metadata": "{}",
         "name": "coffee_consumption_per_day",
         "type": "\"integer\""
        },
        {
         "metadata": "{}",
         "name": "days_feeling_burnout_per_month",
         "type": "\"integer\""
        },
        {
         "metadata": "{}",
         "name": "weekly_offline_hours",
         "type": "\"double\""
        },
        {
         "metadata": "{}",
         "name": "job_satisfaction_score",
         "type": "\"double\""
        }
       ],
       "type": "table"
      }
     },
     "output_type": "display_data"
    },
    {
     "output_type": "display_data",
     "data": {
      "text/plain": [
       "Databricks visualization. Run in Databricks to view."
      ]
     },
     "metadata": {
      "application/vnd.databricks.v1.subcommand+json": {
       "baseErrorDetails": null,
       "bindings": {},
       "collapsed": false,
       "command": "%python\n__backend_agg_display_orig = display\n__backend_agg_dfs = []\ndef __backend_agg_display_new(df):\n    __backend_agg_df_modules = [\"pandas.core.frame\", \"databricks.koalas.frame\", \"pyspark.sql.dataframe\", \"pyspark.pandas.frame\", \"pyspark.sql.connect.dataframe\"]\n    if (type(df).__module__ in __backend_agg_df_modules and type(df).__name__ == 'DataFrame') or isinstance(df, list):\n        __backend_agg_dfs.append(df)\n\ndisplay = __backend_agg_display_new\n\ndef __backend_agg_user_code_fn():\n    import base64\n    exec(base64.standard_b64decode(\"ZGZfc2FtcGxlID0gZGYuc2FtcGxlKHdpdGhSZXBsYWNlbWVudD1GYWxzZSwgZnJhY3Rpb249MC4wMDUsIHNlZWQ9NDIpCmRpc3BsYXkoZGZfc2FtcGxlKQ==\").decode())\n\ntry:\n    # run user code\n    __backend_agg_user_code_fn()\n\n    #reset display function\n    display = __backend_agg_display_orig\n\n    if len(__backend_agg_dfs) > 0:\n        # create a temp view\n        if type(__backend_agg_dfs[0]).__module__ == \"databricks.koalas.frame\":\n            # koalas dataframe\n            __backend_agg_dfs[0].to_spark().createOrReplaceTempView(\"DatabricksViewe6f57ea\")\n        elif type(__backend_agg_dfs[0]).__module__ == \"pandas.core.frame\" or isinstance(__backend_agg_dfs[0], list):\n            # pandas dataframe\n            spark.createDataFrame(__backend_agg_dfs[0]).createOrReplaceTempView(\"DatabricksViewe6f57ea\")\n        else:\n            __backend_agg_dfs[0].createOrReplaceTempView(\"DatabricksViewe6f57ea\")\n        #run backend agg\n        display(spark.sql(\"\"\"WITH q AS (select * from DatabricksViewe6f57ea) SELECT `job_type`,AVG(`job_satisfaction_score`) `column_b68c3074106`,AVG(`stress_level`) `column_2ed53c15129` FROM q GROUP BY `job_type`\"\"\"))\n    else:\n        displayHTML(\"dataframe no longer exists. If you're using dataframe.display(), use display(dataframe) instead.\")\n\n\nfinally:\n    spark.sql(\"drop view if exists DatabricksViewe6f57ea\")\n    display = __backend_agg_display_orig\n    del __backend_agg_display_new\n    del __backend_agg_display_orig\n    del __backend_agg_dfs\n    del __backend_agg_user_code_fn\n\n",
       "commandTitle": "job_satisfaction&stress",
       "commandType": "auto",
       "commandVersion": 0,
       "commentThread": [],
       "commentsVisible": false,
       "contentSha256Hex": null,
       "customPlotOptions": {
        "redashChart": [
         {
          "key": "type",
          "value": "CHART"
         },
         {
          "key": "options",
          "value": {
           "alignYAxesAtZero": false,
           "coefficient": 1,
           "columnConfigurationMap": {
            "x": {
             "column": "job_type",
             "id": "column_b68c3074104"
            },
            "y": [
             {
              "column": "job_satisfaction_score",
              "id": "column_b68c3074106",
              "transform": "AVG"
             },
             {
              "column": "stress_level",
              "id": "column_2ed53c15129",
              "transform": "AVG"
             }
            ]
           },
           "dateTimeFormat": "DD/MM/YYYY HH:mm",
           "direction": {
            "type": "counterclockwise"
           },
           "error_y": {
            "type": "data",
            "visible": true
           },
           "globalSeriesType": "column",
           "isAggregationOn": true,
           "legend": {
            "traceorder": "normal"
           },
           "missingValuesAsZero": true,
           "numberFormat": "0,0.[00000]",
           "percentFormat": "0[.]00%",
           "reverseX": false,
           "series": {
            "error_y": {
             "type": "data",
             "visible": true
            },
            "percentValues": false,
            "stacking": null
           },
           "seriesOptions": {
            "column_2ed53c15129": {
             "type": "column",
             "yAxis": 0
            },
            "column_b68c3074102": {
             "type": "column",
             "yAxis": 0
            },
            "column_b68c3074106": {
             "color": "#17BF51",
             "type": "column",
             "yAxis": 0
            }
           },
           "showDataLabels": true,
           "sizemode": "diameter",
           "sortX": true,
           "sortY": true,
           "swappedAxes": false,
           "textFormat": "",
           "useAggregationsUi": true,
           "valuesOptions": {},
           "version": 2,
           "xAxis": {
            "labels": {
             "enabled": true
            },
            "type": "-"
           },
           "yAxis": [
            {
             "rangeMax": 6.3,
             "rangeMin": 4.1,
             "type": "-"
            },
            {
             "opposite": true,
             "type": "-"
            }
           ]
          }
         }
        ]
       },
       "datasetPreviewNameToCmdIdMap": {},
       "diffDeletes": [],
       "diffInserts": [],
       "displayType": "redashChart",
       "error": null,
       "errorDetails": null,
       "errorSummary": null,
       "errorTraceType": null,
       "finishTime": 0,
       "globalVars": {},
       "guid": "",
       "height": "auto",
       "hideCommandCode": false,
       "hideCommandResult": false,
       "iPythonMetadata": null,
       "inputWidgets": {},
       "isLockedInExamMode": false,
       "latestUser": "a user",
       "latestUserId": null,
       "listResultMetadata": null,
       "metadata": {
        "byteLimit": 2048000,
        "rowLimit": 10000
       },
       "nuid": "042d3611-5c7c-4355-8f63-ae77d9d4503e",
       "origId": 0,
       "parentHierarchy": [],
       "pivotAggregation": null,
       "pivotColumns": null,
       "position": 3.25,
       "resultDbfsErrorMessage": null,
       "resultDbfsStatus": "INLINED_IN_TREE",
       "results": null,
       "showCommandTitle": false,
       "startTime": 0,
       "state": "finished",
       "streamStates": {},
       "subcommandOptions": {
        "queryPlan": {
         "groups": [
          {
           "column": "job_type",
           "type": "column"
          }
         ],
         "selects": [
          {
           "column": "job_type",
           "type": "column"
          },
          {
           "alias": "column_b68c3074106",
           "args": [
            {
             "column": "job_satisfaction_score",
             "type": "column"
            }
           ],
           "function": "AVG",
           "type": "function"
          },
          {
           "alias": "column_2ed53c15129",
           "args": [
            {
             "column": "stress_level",
             "type": "column"
            }
           ],
           "function": "AVG",
           "type": "function"
          }
         ]
        }
       },
       "submitTime": 0,
       "subtype": "tableResultSubCmd.visualization",
       "tableResultIndex": 0,
       "tableResultSettingsMap": {},
       "useConsistentColors": false,
       "version": "CommandV1",
       "width": "auto",
       "workflows": [],
       "xColumns": null,
       "yColumns": null
      }
     },
     "output_type": "display_data"
    },
    {
     "output_type": "display_data",
     "data": {
      "text/plain": [
       "Databricks visualization. Run in Databricks to view."
      ]
     },
     "metadata": {
      "application/vnd.databricks.v1.subcommand+json": {
       "baseErrorDetails": null,
       "bindings": {},
       "collapsed": false,
       "command": "%python\n__backend_agg_display_orig = display\n__backend_agg_dfs = []\ndef __backend_agg_display_new(df):\n    __backend_agg_df_modules = [\"pandas.core.frame\", \"databricks.koalas.frame\", \"pyspark.sql.dataframe\", \"pyspark.pandas.frame\", \"pyspark.sql.connect.dataframe\"]\n    if (type(df).__module__ in __backend_agg_df_modules and type(df).__name__ == 'DataFrame') or isinstance(df, list):\n        __backend_agg_dfs.append(df)\n\ndisplay = __backend_agg_display_new\n\ndef __backend_agg_user_code_fn():\n    import base64\n    exec(base64.standard_b64decode(\"ZGZfc2FtcGxlID0gZGYuc2FtcGxlKHdpdGhSZXBsYWNlbWVudD1GYWxzZSwgZnJhY3Rpb249MC4wMDUsIHNlZWQ9NDIpCmRpc3BsYXkoZGZfc2FtcGxlKQ==\").decode())\n\ntry:\n    # run user code\n    __backend_agg_user_code_fn()\n\n    #reset display function\n    display = __backend_agg_display_orig\n\n    if len(__backend_agg_dfs) > 0:\n        # create a temp view\n        if type(__backend_agg_dfs[0]).__module__ == \"databricks.koalas.frame\":\n            # koalas dataframe\n            __backend_agg_dfs[0].to_spark().createOrReplaceTempView(\"DatabricksView70a46ad\")\n        elif type(__backend_agg_dfs[0]).__module__ == \"pandas.core.frame\" or isinstance(__backend_agg_dfs[0], list):\n            # pandas dataframe\n            spark.createDataFrame(__backend_agg_dfs[0]).createOrReplaceTempView(\"DatabricksView70a46ad\")\n        else:\n            __backend_agg_dfs[0].createOrReplaceTempView(\"DatabricksView70a46ad\")\n        #run backend agg\n        display(spark.sql(\"\"\"WITH q AS (select * from DatabricksView70a46ad) SELECT `uses_focus_apps`,AVG(`actual_productivity_score`) `column_b68c3074112` FROM q GROUP BY `uses_focus_apps`\"\"\"))\n    else:\n        displayHTML(\"dataframe no longer exists. If you're using dataframe.display(), use display(dataframe) instead.\")\n\n\nfinally:\n    spark.sql(\"drop view if exists DatabricksView70a46ad\")\n    display = __backend_agg_display_orig\n    del __backend_agg_display_new\n    del __backend_agg_display_orig\n    del __backend_agg_dfs\n    del __backend_agg_user_code_fn\n\n",
       "commandTitle": "productivity-focusApp",
       "commandType": "auto",
       "commandVersion": 0,
       "commentThread": [],
       "commentsVisible": false,
       "contentSha256Hex": null,
       "customPlotOptions": {
        "redashChart": [
         {
          "key": "type",
          "value": "CHART"
         },
         {
          "key": "options",
          "value": {
           "alignYAxesAtZero": false,
           "coefficient": 1,
           "columnConfigurationMap": {
            "x": {
             "column": "uses_focus_apps",
             "id": "column_b68c3074110"
            },
            "y": [
             {
              "column": "actual_productivity_score",
              "id": "column_b68c3074112",
              "transform": "AVG"
             }
            ]
           },
           "dateTimeFormat": "DD/MM/YYYY HH:mm",
           "direction": {
            "type": "counterclockwise"
           },
           "error_y": {
            "type": "data",
            "visible": true
           },
           "globalSeriesType": "column",
           "isAggregationOn": true,
           "legend": {
            "traceorder": "normal"
           },
           "missingValuesAsZero": true,
           "numberFormat": "0,0.[00000]",
           "percentFormat": "0[.]00%",
           "series": {
            "error_y": {
             "type": "data",
             "visible": true
            },
            "stacking": null
           },
           "seriesOptions": {
            "column_b68c3074112": {
             "type": "column",
             "yAxis": 0
            }
           },
           "showDataLabels": true,
           "sizemode": "diameter",
           "sortX": true,
           "sortY": true,
           "swappedAxes": false,
           "textFormat": "",
           "useAggregationsUi": true,
           "valuesOptions": {},
           "version": 2,
           "xAxis": {
            "labels": {
             "enabled": true
            },
            "type": "-"
           },
           "yAxis": [
            {
             "rangeMax": 5.5,
             "rangeMin": 4,
             "type": "-"
            },
            {
             "opposite": true,
             "type": "-"
            }
           ]
          }
         }
        ]
       },
       "datasetPreviewNameToCmdIdMap": {},
       "diffDeletes": [],
       "diffInserts": [],
       "displayType": "redashChart",
       "error": null,
       "errorDetails": null,
       "errorSummary": null,
       "errorTraceType": null,
       "finishTime": 0,
       "globalVars": {},
       "guid": "",
       "height": "295",
       "hideCommandCode": false,
       "hideCommandResult": false,
       "iPythonMetadata": null,
       "inputWidgets": {},
       "isLockedInExamMode": false,
       "latestUser": "a user",
       "latestUserId": null,
       "listResultMetadata": null,
       "metadata": {
        "byteLimit": 2048000,
        "rowLimit": 10000
       },
       "nuid": "6ffbc9bd-bdd4-4f94-a44a-b876dceff2c9",
       "origId": 0,
       "parentHierarchy": [],
       "pivotAggregation": null,
       "pivotColumns": null,
       "position": 4.25,
       "resultDbfsErrorMessage": null,
       "resultDbfsStatus": "INLINED_IN_TREE",
       "results": null,
       "showCommandTitle": false,
       "startTime": 0,
       "state": "finished",
       "streamStates": {},
       "subcommandOptions": {
        "queryPlan": {
         "groups": [
          {
           "column": "uses_focus_apps",
           "type": "column"
          }
         ],
         "selects": [
          {
           "column": "uses_focus_apps",
           "type": "column"
          },
          {
           "alias": "column_b68c3074112",
           "args": [
            {
             "column": "actual_productivity_score",
             "type": "column"
            }
           ],
           "function": "AVG",
           "type": "function"
          }
         ]
        }
       },
       "submitTime": 0,
       "subtype": "tableResultSubCmd.visualization",
       "tableResultIndex": 0,
       "tableResultSettingsMap": {},
       "useConsistentColors": false,
       "version": "CommandV1",
       "width": "483",
       "workflows": [],
       "xColumns": null,
       "yColumns": null
      }
     },
     "output_type": "display_data"
    },
    {
     "output_type": "display_data",
     "data": {
      "text/plain": [
       "Databricks visualization. Run in Databricks to view."
      ]
     },
     "metadata": {
      "application/vnd.databricks.v1.subcommand+json": {
       "baseErrorDetails": null,
       "bindings": {},
       "collapsed": false,
       "command": "%python\n__backend_agg_display_orig = display\n__backend_agg_dfs = []\ndef __backend_agg_display_new(df):\n    __backend_agg_df_modules = [\"pandas.core.frame\", \"databricks.koalas.frame\", \"pyspark.sql.dataframe\", \"pyspark.pandas.frame\", \"pyspark.sql.connect.dataframe\"]\n    if (type(df).__module__ in __backend_agg_df_modules and type(df).__name__ == 'DataFrame') or isinstance(df, list):\n        __backend_agg_dfs.append(df)\n\ndisplay = __backend_agg_display_new\n\ndef __backend_agg_user_code_fn():\n    import base64\n    exec(base64.standard_b64decode(\"ZGZfc2FtcGxlID0gZGYuc2FtcGxlKHdpdGhSZXBsYWNlbWVudD1GYWxzZSwgZnJhY3Rpb249MC4wMDUsIHNlZWQ9NDIpCmRpc3BsYXkoZGZfc2FtcGxlKQ==\").decode())\n\ntry:\n    # run user code\n    __backend_agg_user_code_fn()\n\n    #reset display function\n    display = __backend_agg_display_orig\n\n    if len(__backend_agg_dfs) > 0:\n        # create a temp view\n        if type(__backend_agg_dfs[0]).__module__ == \"databricks.koalas.frame\":\n            # koalas dataframe\n            __backend_agg_dfs[0].to_spark().createOrReplaceTempView(\"DatabricksViewe7e1cff\")\n        elif type(__backend_agg_dfs[0]).__module__ == \"pandas.core.frame\" or isinstance(__backend_agg_dfs[0], list):\n            # pandas dataframe\n            spark.createDataFrame(__backend_agg_dfs[0]).createOrReplaceTempView(\"DatabricksViewe7e1cff\")\n        else:\n            __backend_agg_dfs[0].createOrReplaceTempView(\"DatabricksViewe7e1cff\")\n        #run backend agg\n        display(spark.sql(\"\"\"WITH q AS (select * from DatabricksViewe7e1cff) SELECT `daily_social_media_time`,`actual_productivity_score` FROM q\"\"\"))\n    else:\n        displayHTML(\"dataframe no longer exists. If you're using dataframe.display(), use display(dataframe) instead.\")\n\n\nfinally:\n    spark.sql(\"drop view if exists DatabricksViewe7e1cff\")\n    display = __backend_agg_display_orig\n    del __backend_agg_display_new\n    del __backend_agg_display_orig\n    del __backend_agg_dfs\n    del __backend_agg_user_code_fn\n\n",
       "commandTitle": "scatter_prod_socialTime",
       "commandType": "auto",
       "commandVersion": 0,
       "commentThread": [],
       "commentsVisible": false,
       "contentSha256Hex": null,
       "customPlotOptions": {
        "redashChart": [
         {
          "key": "type",
          "value": "CHART"
         },
         {
          "key": "options",
          "value": {
           "alignYAxesAtZero": false,
           "coefficient": 1,
           "columnConfigurationMap": {
            "x": {
             "column": "daily_social_media_time",
             "id": "column_2ed53c15118"
            },
            "y": [
             {
              "column": "actual_productivity_score",
              "id": "column_2ed53c15120"
             }
            ]
           },
           "dateTimeFormat": "DD/MM/YYYY HH:mm",
           "direction": {
            "type": "counterclockwise"
           },
           "error_y": {
            "type": "data",
            "visible": true
           },
           "globalSeriesType": "scatter",
           "hideXAxis": false,
           "legend": {
            "traceorder": "normal"
           },
           "missingValuesAsZero": true,
           "numberFormat": "0,0.[00000]",
           "percentFormat": "0[.]00%",
           "series": {
            "error_y": {
             "type": "data",
             "visible": true
            },
            "stacking": null
           },
           "seriesOptions": {
            "actual_productivity_score": {
             "type": "scatter",
             "yAxis": 0
            },
            "column_2ed53c15120": {
             "type": "scatter",
             "yAxis": 0
            }
           },
           "showDataLabels": false,
           "sizemode": "diameter",
           "sortX": true,
           "sortY": true,
           "swappedAxes": false,
           "textFormat": "",
           "useAggregationsUi": true,
           "valuesOptions": {},
           "version": 2,
           "xAxis": {
            "labels": {
             "enabled": true
            },
            "type": "-"
           },
           "yAxis": [
            {
             "rangeMin": 0,
             "type": "-"
            },
            {
             "opposite": true,
             "type": "-"
            }
           ]
          }
         }
        ]
       },
       "datasetPreviewNameToCmdIdMap": {},
       "diffDeletes": [],
       "diffInserts": [],
       "displayType": "redashChart",
       "error": null,
       "errorDetails": null,
       "errorSummary": null,
       "errorTraceType": null,
       "finishTime": 0,
       "globalVars": {},
       "guid": "",
       "height": "auto",
       "hideCommandCode": false,
       "hideCommandResult": false,
       "iPythonMetadata": null,
       "inputWidgets": {},
       "isLockedInExamMode": false,
       "latestUser": "a user",
       "latestUserId": null,
       "listResultMetadata": null,
       "metadata": {
        "byteLimit": 2048000,
        "rowLimit": 10000
       },
       "nuid": "e043b0e0-cc24-456c-bc29-f00282397a6a",
       "origId": 0,
       "parentHierarchy": [],
       "pivotAggregation": null,
       "pivotColumns": null,
       "position": 5.25,
       "resultDbfsErrorMessage": null,
       "resultDbfsStatus": "INLINED_IN_TREE",
       "results": null,
       "showCommandTitle": false,
       "startTime": 0,
       "state": "finished",
       "streamStates": {},
       "subcommandOptions": {
        "queryPlan": {
         "selects": [
          {
           "column": "daily_social_media_time",
           "type": "column"
          },
          {
           "column": "actual_productivity_score",
           "type": "column"
          }
         ]
        }
       },
       "submitTime": 0,
       "subtype": "tableResultSubCmd.visualization",
       "tableResultIndex": 0,
       "tableResultSettingsMap": {},
       "useConsistentColors": false,
       "version": "CommandV1",
       "width": "auto",
       "workflows": [],
       "xColumns": null,
       "yColumns": null
      }
     },
     "output_type": "display_data"
    },
    {
     "output_type": "display_data",
     "data": {
      "text/plain": [
       "Databricks visualization. Run in Databricks to view."
      ]
     },
     "metadata": {
      "application/vnd.databricks.v1.subcommand+json": {
       "baseErrorDetails": null,
       "bindings": {},
       "collapsed": false,
       "command": "%python\n__backend_agg_display_orig = display\n__backend_agg_dfs = []\ndef __backend_agg_display_new(df):\n    __backend_agg_df_modules = [\"pandas.core.frame\", \"databricks.koalas.frame\", \"pyspark.sql.dataframe\", \"pyspark.pandas.frame\", \"pyspark.sql.connect.dataframe\"]\n    if (type(df).__module__ in __backend_agg_df_modules and type(df).__name__ == 'DataFrame') or isinstance(df, list):\n        __backend_agg_dfs.append(df)\n\ndisplay = __backend_agg_display_new\n\ndef __backend_agg_user_code_fn():\n    import base64\n    exec(base64.standard_b64decode(\"ZGZfc2FtcGxlID0gZGYuc2FtcGxlKHdpdGhSZXBsYWNlbWVudD1GYWxzZSwgZnJhY3Rpb249MC4wMDUsIHNlZWQ9NDIpCmRpc3BsYXkoZGZfc2FtcGxlKQ==\").decode())\n\ntry:\n    # run user code\n    __backend_agg_user_code_fn()\n\n    #reset display function\n    display = __backend_agg_display_orig\n\n    if len(__backend_agg_dfs) > 0:\n        # create a temp view\n        if type(__backend_agg_dfs[0]).__module__ == \"databricks.koalas.frame\":\n            # koalas dataframe\n            __backend_agg_dfs[0].to_spark().createOrReplaceTempView(\"DatabricksViewa93a593\")\n        elif type(__backend_agg_dfs[0]).__module__ == \"pandas.core.frame\" or isinstance(__backend_agg_dfs[0], list):\n            # pandas dataframe\n            spark.createDataFrame(__backend_agg_dfs[0]).createOrReplaceTempView(\"DatabricksViewa93a593\")\n        else:\n            __backend_agg_dfs[0].createOrReplaceTempView(\"DatabricksViewa93a593\")\n        #run backend agg\n        display(spark.sql(\"\"\"WITH q AS (select * from DatabricksViewa93a593) SELECT `weekly_offline_hours`,AVG(`days_feeling_burnout_per_month`) `column_2ed53c15133` FROM q GROUP BY `weekly_offline_hours`\"\"\"))\n    else:\n        displayHTML(\"dataframe no longer exists. If you're using dataframe.display(), use display(dataframe) instead.\")\n\n\nfinally:\n    spark.sql(\"drop view if exists DatabricksViewa93a593\")\n    display = __backend_agg_display_orig\n    del __backend_agg_display_new\n    del __backend_agg_display_orig\n    del __backend_agg_dfs\n    del __backend_agg_user_code_fn\n\n",
       "commandTitle": "burnout_vs_offlineHours",
       "commandType": "auto",
       "commandVersion": 0,
       "commentThread": [],
       "commentsVisible": false,
       "contentSha256Hex": null,
       "customPlotOptions": {
        "redashChart": [
         {
          "key": "type",
          "value": "CHART"
         },
         {
          "key": "options",
          "value": {
           "alignYAxesAtZero": true,
           "coefficient": 1,
           "columnConfigurationMap": {
            "x": {
             "column": "weekly_offline_hours",
             "id": "column_2ed53c15131"
            },
            "y": [
             {
              "column": "days_feeling_burnout_per_month",
              "id": "column_2ed53c15133",
              "transform": "AVG"
             }
            ]
           },
           "dateTimeFormat": "DD/MM/YYYY HH:mm",
           "direction": {
            "type": "counterclockwise"
           },
           "error_y": {
            "type": "data",
            "visible": true
           },
           "globalSeriesType": "line",
           "isAggregationOn": true,
           "legend": {
            "traceorder": "normal"
           },
           "missingValuesAsZero": true,
           "numberFormat": "0,0.[00000]",
           "percentFormat": "0[.]00%",
           "series": {
            "error_y": {
             "type": "data",
             "visible": true
            },
            "stacking": null
           },
           "seriesOptions": {
            "column_2ed53c15133": {
             "type": "line",
             "yAxis": 0
            }
           },
           "showDataLabels": false,
           "sizemode": "diameter",
           "sortX": true,
           "sortY": true,
           "swappedAxes": false,
           "textFormat": "",
           "useAggregationsUi": true,
           "valuesOptions": {},
           "version": 2,
           "xAxis": {
            "labels": {
             "enabled": true
            },
            "type": "-"
           },
           "yAxis": [
            {
             "type": "-"
            },
            {
             "opposite": true,
             "type": "-"
            }
           ]
          }
         }
        ]
       },
       "datasetPreviewNameToCmdIdMap": {},
       "diffDeletes": [],
       "diffInserts": [],
       "displayType": "redashChart",
       "error": null,
       "errorDetails": null,
       "errorSummary": null,
       "errorTraceType": null,
       "finishTime": 0,
       "globalVars": {},
       "guid": "",
       "height": "auto",
       "hideCommandCode": false,
       "hideCommandResult": false,
       "iPythonMetadata": null,
       "inputWidgets": {},
       "isLockedInExamMode": false,
       "latestUser": "a user",
       "latestUserId": null,
       "listResultMetadata": null,
       "metadata": {
        "byteLimit": 2048000,
        "rowLimit": 10000
       },
       "nuid": "3c936102-5950-4f6a-baec-be3fbc804edf",
       "origId": 0,
       "parentHierarchy": [],
       "pivotAggregation": null,
       "pivotColumns": null,
       "position": 6.25,
       "resultDbfsErrorMessage": null,
       "resultDbfsStatus": "INLINED_IN_TREE",
       "results": null,
       "showCommandTitle": false,
       "startTime": 0,
       "state": "finished",
       "streamStates": {},
       "subcommandOptions": {
        "queryPlan": {
         "groups": [
          {
           "column": "weekly_offline_hours",
           "type": "column"
          }
         ],
         "selects": [
          {
           "column": "weekly_offline_hours",
           "type": "column"
          },
          {
           "alias": "column_2ed53c15133",
           "args": [
            {
             "column": "days_feeling_burnout_per_month",
             "type": "column"
            }
           ],
           "function": "AVG",
           "type": "function"
          }
         ]
        }
       },
       "submitTime": 0,
       "subtype": "tableResultSubCmd.visualization",
       "tableResultIndex": 0,
       "tableResultSettingsMap": {},
       "useConsistentColors": false,
       "version": "CommandV1",
       "width": "auto",
       "workflows": [],
       "xColumns": null,
       "yColumns": null
      }
     },
     "output_type": "display_data"
    }
   ],
   "source": [
    "df_sample = df.sample(withReplacement=False, fraction=0.005, seed=42)\n",
    "display(df_sample)"
   ]
  },
  {
   "cell_type": "markdown",
   "metadata": {
    "application/vnd.databricks.v1+cell": {
     "cellMetadata": {
      "byteLimit": 2048000,
      "rowLimit": 10000
     },
     "inputWidgets": {},
     "nuid": "7f79e95a-7392-456e-9918-79af37d9f16b",
     "showTitle": false,
     "tableResultSettingsMap": {},
     "title": ""
    }
   },
   "source": [
    "### Key Insights from Initial Visual Exploration\n",
    "\n",
    "From the interactive visualizations based on the sampled dataset, we observed several preliminary trends:\n",
    "\n",
    "- Focus-enhancing app users tend to be more productive: Individuals who reported using apps designed to improve concentration or reduce distractions generally show higher productivity scores.\n",
    "\n",
    "- No clear relationship between social media usage and productivity: At first glance, there is no strong or consistent pattern linking time spent on social media to changes in productivity levels.\n",
    "\n",
    "- Being frequently offline does not correlate with reduced burnout: Users who spend more time offline do not necessarily experience lower levels of burnout, suggesting that digital disconnection alone may not be a sufficient buffer against stress.\n",
    "\n",
    "- Health sector jobs appear both highly stressful and highly satisfying: Professionals working in healthcare report the highest levels of both stress and job satisfaction, indicating a complex relationship between job demands and perceived value.\n",
    "\n",
    "- Unemployed individuals show high stress and low satisfaction: Those currently not working tend to report higher stress levels and significantly lower satisfaction, potentially reflecting the psychological and financial strain associated with unemployment.\n",
    "\n",
    "These early insights provide a valuable starting point for deeper analysis and model development.\n",
    "\n"
   ]
  },
  {
   "cell_type": "markdown",
   "metadata": {
    "application/vnd.databricks.v1+cell": {
     "cellMetadata": {
      "byteLimit": 2048000,
      "rowLimit": 10000
     },
     "inputWidgets": {},
     "nuid": "f9b2e67e-3374-4c64-a761-de7219c46b2c",
     "showTitle": false,
     "tableResultSettingsMap": {},
     "title": ""
    }
   },
   "source": [
    "### Average Daily Social Media Time by Job Type\n",
    "\n",
    "**Objective:**  \n",
    "To evaluate how daily social media usage varies across different job types in the dataset.\n",
    "\n",
    "**How it works:**  \n",
    "- The query calculates the average daily time spent on social media (`daily_social_media_time`) for each `job_type`.  \n",
    "- Results are grouped by job type and sorted in descending order of average time spent.\n",
    "\n",
    "**Goal:**  \n",
    "To identify which job categories tend to spend more or less time on social media daily, which can inform understanding of work-life balance, productivity trends, or digital habits across professions.\n",
    "\n",
    "**Results Summary:**  \n",
    "- Unemployed users show the highest average daily social media time with 3.16 hours.  \n",
    "- Students and IT professionals follow closely, averaging around 3.13–3.14 hours daily.  \n",
    "- Other sectors like Education, Finance, and Health have slightly lower averages but remain close, around 3.07 to 3.10 hours.  \n",
    "\n",
    "These findings suggest that while job type influences social media use, the differences are relatively modest, with all groups spending roughly 3 hours per day on social platforms.\n"
   ]
  },
  {
   "cell_type": "code",
   "execution_count": 0,
   "metadata": {
    "application/vnd.databricks.v1+cell": {
     "cellMetadata": {
      "byteLimit": 2048000,
      "rowLimit": 10000
     },
     "inputWidgets": {},
     "nuid": "a8777b56-ee15-4e2c-9312-60f372588d70",
     "showTitle": false,
     "tableResultSettingsMap": {},
     "title": ""
    }
   },
   "outputs": [
    {
     "output_type": "display_data",
     "data": {
      "text/html": [
       "<style scoped>\n",
       "  .table-result-container {\n",
       "    max-height: 300px;\n",
       "    overflow: auto;\n",
       "  }\n",
       "  table, th, td {\n",
       "    border: 1px solid black;\n",
       "    border-collapse: collapse;\n",
       "  }\n",
       "  th, td {\n",
       "    padding: 5px;\n",
       "  }\n",
       "  th {\n",
       "    text-align: left;\n",
       "  }\n",
       "</style><div class='table-result-container'><table class='table-result'><thead style='background-color: white'><tr><th>job_type</th><th>avg_daily_social_time</th></tr></thead><tbody><tr><td>Unemployed</td><td>3.16</td></tr><tr><td>Student</td><td>3.14</td></tr><tr><td>IT</td><td>3.13</td></tr><tr><td>Education</td><td>3.1</td></tr><tr><td>Finance</td><td>3.08</td></tr><tr><td>Health</td><td>3.07</td></tr></tbody></table></div>"
      ]
     },
     "metadata": {
      "application/vnd.databricks.v1+output": {
       "addedWidgets": {},
       "aggData": [],
       "aggError": "",
       "aggOverflow": false,
       "aggSchema": [],
       "aggSeriesLimitReached": false,
       "aggType": "",
       "arguments": {},
       "columnCustomDisplayInfos": {},
       "data": [
        [
         "Unemployed",
         3.16
        ],
        [
         "Student",
         3.14
        ],
        [
         "IT",
         3.13
        ],
        [
         "Education",
         3.1
        ],
        [
         "Finance",
         3.08
        ],
        [
         "Health",
         3.07
        ]
       ],
       "datasetInfos": [],
       "dbfsResultPath": null,
       "isJsonSchema": true,
       "metadata": {},
       "overflow": false,
       "plotOptions": {
        "customPlotOptions": {},
        "displayType": "table",
        "pivotAggregation": null,
        "pivotColumns": null,
        "xColumns": null,
        "yColumns": null
       },
       "removedWidgets": [],
       "schema": [
        {
         "metadata": "{}",
         "name": "job_type",
         "type": "\"string\""
        },
        {
         "metadata": "{}",
         "name": "avg_daily_social_time",
         "type": "\"double\""
        }
       ],
       "type": "table"
      }
     },
     "output_type": "display_data"
    },
    {
     "output_type": "display_data",
     "data": {
      "text/plain": [
       "Databricks visualization. Run in Databricks to view."
      ]
     },
     "metadata": {
      "application/vnd.databricks.v1.subcommand+json": {
       "baseErrorDetails": null,
       "bindings": {},
       "collapsed": false,
       "command": "%python\n__backend_agg_display_orig = display\n__backend_agg_dfs = []\ndef __backend_agg_display_new(df):\n    __backend_agg_df_modules = [\"pandas.core.frame\", \"databricks.koalas.frame\", \"pyspark.sql.dataframe\", \"pyspark.pandas.frame\", \"pyspark.sql.connect.dataframe\"]\n    if (type(df).__module__ in __backend_agg_df_modules and type(df).__name__ == 'DataFrame') or isinstance(df, list):\n        __backend_agg_dfs.append(df)\n\ndisplay = __backend_agg_display_new\n\ndef __backend_agg_user_code_fn():\n    import base64\n    exec(base64.standard_b64decode(\"IyNzcGFyayBTUUwgcXVlcnkKCmRmLmNyZWF0ZU9yUmVwbGFjZVRlbXBWaWV3KCJkZiIpCgpxdWVyeSA9ICIiIgpTRUxFQ1Qgam9iX3R5cGUsCiAgICAgICBST1VORChBVkcoZGFpbHlfc29jaWFsX21lZGlhX3RpbWUpLCAyKSBBUyBhdmdfZGFpbHlfc29jaWFsX3RpbWUKRlJPTSBkZgpHUk9VUCBCWSBqb2JfdHlwZQpPUkRFUiBCWSBhdmdfZGFpbHlfc29jaWFsX3RpbWUgREVTQwoiIiIKCnJlc3VsdCA9IHNwYXJrLnNxbChxdWVyeSkKZGlzcGxheShyZXN1bHQp\").decode())\n\ntry:\n    # run user code\n    __backend_agg_user_code_fn()\n\n    #reset display function\n    display = __backend_agg_display_orig\n\n    if len(__backend_agg_dfs) > 0:\n        # create a temp view\n        if type(__backend_agg_dfs[0]).__module__ == \"databricks.koalas.frame\":\n            # koalas dataframe\n            __backend_agg_dfs[0].to_spark().createOrReplaceTempView(\"DatabricksView8803dc4\")\n        elif type(__backend_agg_dfs[0]).__module__ == \"pandas.core.frame\" or isinstance(__backend_agg_dfs[0], list):\n            # pandas dataframe\n            spark.createDataFrame(__backend_agg_dfs[0]).createOrReplaceTempView(\"DatabricksView8803dc4\")\n        else:\n            __backend_agg_dfs[0].createOrReplaceTempView(\"DatabricksView8803dc4\")\n        #run backend agg\n        display(spark.sql(\"\"\"WITH q AS (select * from DatabricksView8803dc4) SELECT `job_type`,AVG(`avg_daily_social_time`) `column_5de803d7178` FROM q GROUP BY `job_type`\"\"\"))\n    else:\n        displayHTML(\"dataframe no longer exists. If you're using dataframe.display(), use display(dataframe) instead.\")\n\n\nfinally:\n    spark.sql(\"drop view if exists DatabricksView8803dc4\")\n    display = __backend_agg_display_orig\n    del __backend_agg_display_new\n    del __backend_agg_display_orig\n    del __backend_agg_dfs\n    del __backend_agg_user_code_fn\n\n",
       "commandTitle": "social_mediaVSjob_type",
       "commandType": "auto",
       "commandVersion": 0,
       "commentThread": [],
       "commentsVisible": false,
       "contentSha256Hex": null,
       "customPlotOptions": {
        "redashChart": [
         {
          "key": "type",
          "value": "CHART"
         },
         {
          "key": "options",
          "value": {
           "alignYAxesAtZero": false,
           "coefficient": 1,
           "columnConfigurationMap": {
            "x": {
             "column": "job_type",
             "id": "column_5de803d7170"
            },
            "y": [
             {
              "column": "avg_daily_social_time",
              "id": "column_5de803d7178",
              "transform": "AVG"
             }
            ]
           },
           "dateTimeFormat": "DD/MM/YYYY HH:mm",
           "direction": {
            "type": "counterclockwise"
           },
           "error_y": {
            "type": "data",
            "visible": true
           },
           "globalSeriesType": "column",
           "hideXAxis": false,
           "hideYAxes": false,
           "isAggregationOn": true,
           "legend": {
            "traceorder": "normal"
           },
           "missingValuesAsZero": true,
           "numberFormat": "0,0.[00000]",
           "percentFormat": "0[.]00%",
           "reverseX": false,
           "series": {
            "error_y": {
             "type": "data",
             "visible": true
            },
            "stacking": null
           },
           "seriesOptions": {
            "avg_daily_social_time": {
             "color": "#FB8D3D",
             "type": "column",
             "yAxis": 0
            },
            "column_5de803d7171": {
             "color": "#3BD973",
             "type": "column",
             "yAxis": 0
            },
            "column_5de803d7175": {
             "color": "#FB8D3D",
             "type": "column",
             "yAxis": 0
            },
            "column_5de803d7178": {
             "color": "#FB8D3D",
             "type": "column",
             "yAxis": 0
            }
           },
           "showDataLabels": true,
           "showpoints": false,
           "sizemode": "diameter",
           "sortX": false,
           "sortY": true,
           "swappedAxes": true,
           "textFormat": "",
           "useAggregationsUi": true,
           "valuesOptions": {},
           "version": 2,
           "xAxis": {
            "labels": {
             "enabled": true
            },
            "type": "category"
           },
           "yAxis": [
            {
             "rangeMax": 3.3,
             "rangeMin": 3,
             "type": "linear"
            },
            {
             "opposite": true,
             "type": "-"
            }
           ]
          }
         }
        ]
       },
       "datasetPreviewNameToCmdIdMap": {},
       "diffDeletes": [],
       "diffInserts": [],
       "displayType": "redashChart",
       "error": null,
       "errorDetails": null,
       "errorSummary": null,
       "errorTraceType": null,
       "finishTime": 0,
       "globalVars": {},
       "guid": "",
       "height": "auto",
       "hideCommandCode": false,
       "hideCommandResult": false,
       "iPythonMetadata": null,
       "inputWidgets": {},
       "isLockedInExamMode": false,
       "latestUser": "a user",
       "latestUserId": null,
       "listResultMetadata": null,
       "metadata": {
        "byteLimit": 2048000,
        "rowLimit": 10000
       },
       "nuid": "ab0319b3-2a24-4eb8-8ddd-2bb5604031ed",
       "origId": 0,
       "parentHierarchy": [],
       "pivotAggregation": null,
       "pivotColumns": null,
       "position": 5.0,
       "resultDbfsErrorMessage": null,
       "resultDbfsStatus": "INLINED_IN_TREE",
       "results": null,
       "showCommandTitle": false,
       "startTime": 0,
       "state": "finished",
       "streamStates": {},
       "subcommandOptions": {
        "queryPlan": {
         "groups": [
          {
           "column": "job_type",
           "type": "column"
          }
         ],
         "selects": [
          {
           "column": "job_type",
           "type": "column"
          },
          {
           "alias": "column_5de803d7178",
           "args": [
            {
             "column": "avg_daily_social_time",
             "type": "column"
            }
           ],
           "function": "AVG",
           "type": "function"
          }
         ]
        }
       },
       "submitTime": 0,
       "subtype": "tableResultSubCmd.visualization",
       "tableResultIndex": 0,
       "tableResultSettingsMap": {},
       "useConsistentColors": false,
       "version": "CommandV1",
       "width": "auto",
       "workflows": [],
       "xColumns": null,
       "yColumns": null
      }
     },
     "output_type": "display_data"
    }
   ],
   "source": [
    "##spark SQL query\n",
    "\n",
    "df.createOrReplaceTempView(\"df\")\n",
    "\n",
    "query = \"\"\"\n",
    "SELECT job_type,\n",
    "       ROUND(AVG(daily_social_media_time), 2) AS avg_daily_social_time\n",
    "FROM df\n",
    "GROUP BY job_type\n",
    "ORDER BY avg_daily_social_time DESC\n",
    "\"\"\"\n",
    "\n",
    "result = spark.sql(query)\n",
    "display(result)"
   ]
  },
  {
   "cell_type": "code",
   "execution_count": 0,
   "metadata": {
    "application/vnd.databricks.v1+cell": {
     "cellMetadata": {
      "byteLimit": 2048000,
      "rowLimit": 10000
     },
     "inputWidgets": {},
     "nuid": "15a62f01-22e5-4677-bbb6-1983fed59c48",
     "showTitle": false,
     "tableResultSettingsMap": {},
     "title": ""
    }
   },
   "outputs": [
    {
     "output_type": "display_data",
     "data": {
      "text/html": [
       "<style scoped>\n",
       "  .table-result-container {\n",
       "    max-height: 300px;\n",
       "    overflow: auto;\n",
       "  }\n",
       "  table, th, td {\n",
       "    border: 1px solid black;\n",
       "    border-collapse: collapse;\n",
       "  }\n",
       "  th, td {\n",
       "    padding: 5px;\n",
       "  }\n",
       "  th {\n",
       "    text-align: left;\n",
       "  }\n",
       "</style><div class='table-result-container'><table class='table-result'><thead style='background-color: white'><tr><th>job_type</th><th>avg_daily_social_time</th></tr></thead><tbody><tr><td>Unemployed</td><td>3.16</td></tr><tr><td>Student</td><td>3.14</td></tr><tr><td>IT</td><td>3.13</td></tr><tr><td>Education</td><td>3.1</td></tr><tr><td>Finance</td><td>3.08</td></tr><tr><td>Health</td><td>3.07</td></tr></tbody></table></div>"
      ]
     },
     "metadata": {
      "application/vnd.databricks.v1+output": {
       "addedWidgets": {},
       "aggData": [],
       "aggError": "",
       "aggOverflow": false,
       "aggSchema": [],
       "aggSeriesLimitReached": false,
       "aggType": "",
       "arguments": {},
       "columnCustomDisplayInfos": {},
       "data": [
        [
         "Unemployed",
         3.16
        ],
        [
         "Student",
         3.14
        ],
        [
         "IT",
         3.13
        ],
        [
         "Education",
         3.1
        ],
        [
         "Finance",
         3.08
        ],
        [
         "Health",
         3.07
        ]
       ],
       "datasetInfos": [],
       "dbfsResultPath": null,
       "isJsonSchema": true,
       "metadata": {},
       "overflow": false,
       "plotOptions": {
        "customPlotOptions": {},
        "displayType": "table",
        "pivotAggregation": null,
        "pivotColumns": null,
        "xColumns": null,
        "yColumns": null
       },
       "removedWidgets": [],
       "schema": [
        {
         "metadata": "{}",
         "name": "job_type",
         "type": "\"string\""
        },
        {
         "metadata": "{}",
         "name": "avg_daily_social_time",
         "type": "\"double\""
        }
       ],
       "type": "table"
      }
     },
     "output_type": "display_data"
    }
   ],
   "source": [
    "#SPARK DATAFRAME API\n",
    "\n",
    "df_job_grouped = (\n",
    "    df.groupBy(\"job_type\")\n",
    "      .agg(round(avg(\"daily_social_media_time\"), 2).alias(\"avg_daily_social_time\"))\n",
    "      .orderBy(col(\"avg_daily_social_time\").desc())\n",
    ")\n",
    "\n",
    "display(df_job_grouped)"
   ]
  },
  {
   "cell_type": "markdown",
   "metadata": {
    "application/vnd.databricks.v1+cell": {
     "cellMetadata": {
      "byteLimit": 2048000,
      "rowLimit": 10000
     },
     "inputWidgets": {},
     "nuid": "7bab4d8f-6fa5-4087-bd1d-680d270cd455",
     "showTitle": false,
     "tableResultSettingsMap": {},
     "title": ""
    }
   },
   "source": [
    "### Does more sleep lead to better productivity?\n",
    "\n",
    "**Objective:**  \n",
    "To investigate how different categories of sleep duration relate to the average productivity scores of users.\n",
    "\n",
    "**How it works:**  \n",
    "- The query groups users based on their reported `sleep_hours` into three categories: less than 5 hours, between 5 and 7 hours, and more than 7 hours.  \n",
    "- It then calculates the average `actual_productivity_score` for each sleep category.  \n",
    "- Results are sorted by average productivity in ascending order.\n",
    "\n",
    "**Goal:**  \n",
    "To understand if and how sleep duration correlates with productivity levels, which can provide insights into optimal rest for better performance.\n",
    "\n",
    "**Results Summary:**  \n",
    "- Users sleeping less than 5 hours have the highest average productivity score of 4.99.  \n",
    "- Those sleeping more than 7 hours and between 5 to 7 hours have very similar productivity scores, 4.95 and 4.94 respectively.  \n",
    "- The results suggest only minor differences in productivity across sleep categories in this dataset, with a slightly higher average productivity reported by the shortest sleepers.\n",
    "\n",
    "This could imply that, within this sample, productivity is not strongly impacted by sleep duration, or other factors may be influencing the observed pattern."
   ]
  },
  {
   "cell_type": "code",
   "execution_count": 0,
   "metadata": {
    "application/vnd.databricks.v1+cell": {
     "cellMetadata": {
      "byteLimit": 2048000,
      "rowLimit": 10000
     },
     "inputWidgets": {},
     "nuid": "844802a2-a509-46ee-8515-fe08dc7b70cd",
     "showTitle": false,
     "tableResultSettingsMap": {},
     "title": ""
    }
   },
   "outputs": [
    {
     "output_type": "display_data",
     "data": {
      "text/html": [
       "<style scoped>\n",
       "  .table-result-container {\n",
       "    max-height: 300px;\n",
       "    overflow: auto;\n",
       "  }\n",
       "  table, th, td {\n",
       "    border: 1px solid black;\n",
       "    border-collapse: collapse;\n",
       "  }\n",
       "  th, td {\n",
       "    padding: 5px;\n",
       "  }\n",
       "  th {\n",
       "    text-align: left;\n",
       "  }\n",
       "</style><div class='table-result-container'><table class='table-result'><thead style='background-color: white'><tr><th>sleep_category</th><th>avg_productivity</th></tr></thead><tbody><tr><td>5-7 hours</td><td>4.94</td></tr><tr><td>>7 hours</td><td>4.95</td></tr><tr><td><5 hours</td><td>4.99</td></tr></tbody></table></div>"
      ]
     },
     "metadata": {
      "application/vnd.databricks.v1+output": {
       "addedWidgets": {},
       "aggData": [],
       "aggError": "",
       "aggOverflow": false,
       "aggSchema": [],
       "aggSeriesLimitReached": false,
       "aggType": "",
       "arguments": {},
       "columnCustomDisplayInfos": {},
       "data": [
        [
         "5-7 hours",
         4.94
        ],
        [
         ">7 hours",
         4.95
        ],
        [
         "<5 hours",
         4.99
        ]
       ],
       "datasetInfos": [],
       "dbfsResultPath": null,
       "isJsonSchema": true,
       "metadata": {},
       "overflow": false,
       "plotOptions": {
        "customPlotOptions": {},
        "displayType": "table",
        "pivotAggregation": null,
        "pivotColumns": null,
        "xColumns": null,
        "yColumns": null
       },
       "removedWidgets": [],
       "schema": [
        {
         "metadata": "{}",
         "name": "sleep_category",
         "type": "\"string\""
        },
        {
         "metadata": "{}",
         "name": "avg_productivity",
         "type": "\"double\""
        }
       ],
       "type": "table"
      }
     },
     "output_type": "display_data"
    },
    {
     "output_type": "display_data",
     "data": {
      "text/plain": [
       "Databricks visualization. Run in Databricks to view."
      ]
     },
     "metadata": {
      "application/vnd.databricks.v1.subcommand+json": {
       "baseErrorDetails": null,
       "bindings": {},
       "collapsed": false,
       "command": "%python\n__backend_agg_display_orig = display\n__backend_agg_dfs = []\ndef __backend_agg_display_new(df):\n    __backend_agg_df_modules = [\"pandas.core.frame\", \"databricks.koalas.frame\", \"pyspark.sql.dataframe\", \"pyspark.pandas.frame\", \"pyspark.sql.connect.dataframe\"]\n    if (type(df).__module__ in __backend_agg_df_modules and type(df).__name__ == 'DataFrame') or isinstance(df, list):\n        __backend_agg_dfs.append(df)\n\ndisplay = __backend_agg_display_new\n\ndef __backend_agg_user_code_fn():\n    import base64\n    exec(base64.standard_b64decode(\"I3NwYXJrIFNRTAoKZGYuY3JlYXRlT3JSZXBsYWNlVGVtcFZpZXcoImRmIikKCnF1ZXJ5X3NsZWVwX3Byb2R1Y3Rpdml0eSA9ICIiIgpTRUxFQ1QgCiAgQ0FTRQogICAgV0hFTiBzbGVlcF9ob3VycyA8IDUgVEhFTiAnPDUgaG91cnMnCiAgICBXSEVOIHNsZWVwX2hvdXJzIEJFVFdFRU4gNSBBTkQgNyBUSEVOICc1LTcgaG91cnMnCiAgICBFTFNFICc+NyBob3VycycKICBFTkQgQVMgc2xlZXBfY2F0ZWdvcnksCiAgUk9VTkQoQVZHKGFjdHVhbF9wcm9kdWN0aXZpdHlfc2NvcmUpLCAyKSBBUyBhdmdfcHJvZHVjdGl2aXR5CkZST00gZGYKR1JPVVAgQlkgCiAgQ0FTRQogICAgV0hFTiBzbGVlcF9ob3VycyA8IDUgVEhFTiAnPDUgaG91cnMnCiAgICBXSEVOIHNsZWVwX2hvdXJzIEJFVFdFRU4gNSBBTkQgNyBUSEVOICc1LTcgaG91cnMnCiAgICBFTFNFICc+NyBob3VycycKICBFTkQKT1JERVIgQlkgYXZnX3Byb2R1Y3Rpdml0eQoiIiIKCnJlc3VsdF9zbGVlcF9wcm9kdWN0aXZpdHkgPSBzcGFyay5zcWwocXVlcnlfc2xlZXBfcHJvZHVjdGl2aXR5KQpkaXNwbGF5KHJlc3VsdF9zbGVlcF9wcm9kdWN0aXZpdHkp\").decode())\n\ntry:\n    # run user code\n    __backend_agg_user_code_fn()\n\n    #reset display function\n    display = __backend_agg_display_orig\n\n    if len(__backend_agg_dfs) > 0:\n        # create a temp view\n        if type(__backend_agg_dfs[0]).__module__ == \"databricks.koalas.frame\":\n            # koalas dataframe\n            __backend_agg_dfs[0].to_spark().createOrReplaceTempView(\"DatabricksView2aaf370\")\n        elif type(__backend_agg_dfs[0]).__module__ == \"pandas.core.frame\" or isinstance(__backend_agg_dfs[0], list):\n            # pandas dataframe\n            spark.createDataFrame(__backend_agg_dfs[0]).createOrReplaceTempView(\"DatabricksView2aaf370\")\n        else:\n            __backend_agg_dfs[0].createOrReplaceTempView(\"DatabricksView2aaf370\")\n        #run backend agg\n        display(spark.sql(\"\"\"WITH q AS (select * from DatabricksView2aaf370) SELECT `sleep_category`,AVG(`avg_productivity`) `column_5de803d7181` FROM q GROUP BY `sleep_category`\"\"\"))\n    else:\n        displayHTML(\"dataframe no longer exists. If you're using dataframe.display(), use display(dataframe) instead.\")\n\n\nfinally:\n    spark.sql(\"drop view if exists DatabricksView2aaf370\")\n    display = __backend_agg_display_orig\n    del __backend_agg_display_new\n    del __backend_agg_display_orig\n    del __backend_agg_dfs\n    del __backend_agg_user_code_fn\n\n",
       "commandTitle": "hoursOfSleepVSprod",
       "commandType": "auto",
       "commandVersion": 0,
       "commentThread": [],
       "commentsVisible": false,
       "contentSha256Hex": null,
       "customPlotOptions": {
        "redashChart": [
         {
          "key": "type",
          "value": "CHART"
         },
         {
          "key": "options",
          "value": {
           "alignYAxesAtZero": false,
           "coefficient": 1,
           "columnConfigurationMap": {
            "x": {
             "column": "sleep_category",
             "id": "column_5de803d7180"
            },
            "y": [
             {
              "column": "avg_productivity",
              "id": "column_5de803d7181",
              "transform": "AVG"
             }
            ]
           },
           "dateTimeFormat": "DD/MM/YYYY HH:mm",
           "direction": {
            "type": "counterclockwise"
           },
           "error_y": {
            "type": "data",
            "visible": true
           },
           "globalSeriesType": "column",
           "hideYAxes": false,
           "isAggregationOn": true,
           "legend": {
            "traceorder": "normal"
           },
           "missingValuesAsZero": true,
           "numberFormat": "0,0.[00000]",
           "percentFormat": "0[.]00%",
           "reverseX": true,
           "series": {
            "error_y": {
             "type": "data",
             "visible": true
            },
            "stacking": null
           },
           "seriesOptions": {
            "avg_productivity": {
             "name": "avg_productivity",
             "type": "column",
             "yAxis": 0
            },
            "column_5de803d7181": {
             "color": "#799CFF",
             "name": "avg_productivity",
             "type": "column",
             "yAxis": 0
            }
           },
           "showDataLabels": true,
           "sizemode": "diameter",
           "sortX": false,
           "sortY": true,
           "swappedAxes": true,
           "textFormat": "",
           "useAggregationsUi": true,
           "valuesOptions": {},
           "version": 2,
           "xAxis": {
            "labels": {
             "enabled": true
            },
            "type": "-"
           },
           "yAxis": [
            {
             "rangeMax": 5,
             "rangeMin": 4.8,
             "type": "-"
            },
            {
             "opposite": true,
             "type": "-"
            }
           ]
          }
         }
        ]
       },
       "datasetPreviewNameToCmdIdMap": {},
       "diffDeletes": [],
       "diffInserts": [],
       "displayType": "redashChart",
       "error": null,
       "errorDetails": null,
       "errorSummary": null,
       "errorTraceType": null,
       "finishTime": 0,
       "globalVars": {},
       "guid": "",
       "height": "310",
       "hideCommandCode": false,
       "hideCommandResult": false,
       "iPythonMetadata": null,
       "inputWidgets": {},
       "isLockedInExamMode": false,
       "latestUser": "a user",
       "latestUserId": null,
       "listResultMetadata": null,
       "metadata": {
        "byteLimit": 2048000,
        "rowLimit": 10000
       },
       "nuid": "2cec2b70-f523-41dc-8265-db1e6cc41cbf",
       "origId": 0,
       "parentHierarchy": [],
       "pivotAggregation": null,
       "pivotColumns": null,
       "position": 9.25,
       "resultDbfsErrorMessage": null,
       "resultDbfsStatus": "INLINED_IN_TREE",
       "results": null,
       "showCommandTitle": false,
       "startTime": 0,
       "state": "finished",
       "streamStates": {},
       "subcommandOptions": {
        "queryPlan": {
         "groups": [
          {
           "column": "sleep_category",
           "type": "column"
          }
         ],
         "selects": [
          {
           "column": "sleep_category",
           "type": "column"
          },
          {
           "alias": "column_5de803d7181",
           "args": [
            {
             "column": "avg_productivity",
             "type": "column"
            }
           ],
           "function": "AVG",
           "type": "function"
          }
         ]
        }
       },
       "submitTime": 0,
       "subtype": "tableResultSubCmd.visualization",
       "tableResultIndex": 0,
       "tableResultSettingsMap": {},
       "useConsistentColors": false,
       "version": "CommandV1",
       "width": "710",
       "workflows": [],
       "xColumns": null,
       "yColumns": null
      }
     },
     "output_type": "display_data"
    }
   ],
   "source": [
    "#spark SQL\n",
    "\n",
    "df.createOrReplaceTempView(\"df\")\n",
    "\n",
    "query_sleep_productivity = \"\"\"\n",
    "SELECT \n",
    "  CASE\n",
    "    WHEN sleep_hours < 5 THEN '<5 hours'\n",
    "    WHEN sleep_hours BETWEEN 5 AND 7 THEN '5-7 hours'\n",
    "    ELSE '>7 hours'\n",
    "  END AS sleep_category,\n",
    "  ROUND(AVG(actual_productivity_score), 2) AS avg_productivity\n",
    "FROM df\n",
    "GROUP BY \n",
    "  CASE\n",
    "    WHEN sleep_hours < 5 THEN '<5 hours'\n",
    "    WHEN sleep_hours BETWEEN 5 AND 7 THEN '5-7 hours'\n",
    "    ELSE '>7 hours'\n",
    "  END\n",
    "ORDER BY avg_productivity\n",
    "\"\"\"\n",
    "\n",
    "result_sleep_productivity = spark.sql(query_sleep_productivity)\n",
    "display(result_sleep_productivity)"
   ]
  },
  {
   "cell_type": "code",
   "execution_count": 0,
   "metadata": {
    "application/vnd.databricks.v1+cell": {
     "cellMetadata": {
      "byteLimit": 2048000,
      "rowLimit": 10000
     },
     "inputWidgets": {},
     "nuid": "33fb3c6e-9481-4836-a1ed-3f4e8ea4c77d",
     "showTitle": false,
     "tableResultSettingsMap": {},
     "title": ""
    }
   },
   "outputs": [
    {
     "output_type": "display_data",
     "data": {
      "text/html": [
       "<style scoped>\n",
       "  .table-result-container {\n",
       "    max-height: 300px;\n",
       "    overflow: auto;\n",
       "  }\n",
       "  table, th, td {\n",
       "    border: 1px solid black;\n",
       "    border-collapse: collapse;\n",
       "  }\n",
       "  th, td {\n",
       "    padding: 5px;\n",
       "  }\n",
       "  th {\n",
       "    text-align: left;\n",
       "  }\n",
       "</style><div class='table-result-container'><table class='table-result'><thead style='background-color: white'><tr><th>sleep_category</th><th>avg_productivity</th></tr></thead><tbody><tr><td><5 hours</td><td>4.99</td></tr><tr><td>5-7 hours</td><td>4.94</td></tr><tr><td>>7 hours</td><td>4.95</td></tr></tbody></table></div>"
      ]
     },
     "metadata": {
      "application/vnd.databricks.v1+output": {
       "addedWidgets": {},
       "aggData": [],
       "aggError": "",
       "aggOverflow": false,
       "aggSchema": [],
       "aggSeriesLimitReached": false,
       "aggType": "",
       "arguments": {},
       "columnCustomDisplayInfos": {},
       "data": [
        [
         "<5 hours",
         4.99
        ],
        [
         "5-7 hours",
         4.94
        ],
        [
         ">7 hours",
         4.95
        ]
       ],
       "datasetInfos": [],
       "dbfsResultPath": null,
       "isJsonSchema": true,
       "metadata": {},
       "overflow": false,
       "plotOptions": {
        "customPlotOptions": {},
        "displayType": "table",
        "pivotAggregation": null,
        "pivotColumns": null,
        "xColumns": null,
        "yColumns": null
       },
       "removedWidgets": [],
       "schema": [
        {
         "metadata": "{}",
         "name": "sleep_category",
         "type": "\"string\""
        },
        {
         "metadata": "{}",
         "name": "avg_productivity",
         "type": "\"double\""
        }
       ],
       "type": "table"
      }
     },
     "output_type": "display_data"
    }
   ],
   "source": [
    "#SPARK DATAFRAME API\n",
    "\n",
    "df = df.withColumn(\"sleep_category\", \n",
    "    when(col(\"sleep_hours\") < 5, \"<5 hours\")\n",
    "    .when((col(\"sleep_hours\") >= 5) & (col(\"sleep_hours\") <= 7), \"5-7 hours\")\n",
    "    .otherwise(\">7 hours\")\n",
    ")\n",
    "\n",
    "display(df.groupBy(\"sleep_category\").agg(round(avg(\"actual_productivity_score\"),2).alias(\"avg_productivity\")))"
   ]
  },
  {
   "cell_type": "markdown",
   "metadata": {
    "application/vnd.databricks.v1+cell": {
     "cellMetadata": {
      "byteLimit": 2048000,
      "rowLimit": 10000
     },
     "inputWidgets": {},
     "nuid": "65a42fcf-bc73-4f18-8629-4afbf977aa17",
     "showTitle": false,
     "tableResultSettingsMap": {},
     "title": ""
    }
   },
   "source": [
    "### Do more notifications increase stress levels?\n",
    "\n",
    "**Objective:**  \n",
    "To analyze how the frequency of notifications received correlates with users' reported stress levels.\n",
    "\n",
    "**How it works:**  \n",
    "- The query calculates the minimum and maximum values of `number_of_notifications` to define three equal-width buckets: Low, Medium, and High notifications.  \n",
    "- Each user’s `number_of_notifications` is categorized into one of these three buckets.  \n",
    "- The average `stress_level` is then computed for each bucket.  \n",
    "- Results are ordered from Low to High notification categories for clarity.\n",
    "\n",
    "**Goal:**  \n",
    "To understand whether receiving more notifications is associated with higher stress levels, which could indicate the impact of digital interruptions on mental well-being.\n",
    "\n",
    "**Results Summary:**  \n",
    "- Average stress levels across Low, Medium, and High notification buckets are very similar, around 5.48 to 5.52.  \n",
    "- The Medium notifications group shows the slightly highest average stress (5.52), while Low and High groups are marginally lower (5.49 and 5.48 respectively).  \n",
    "- These minimal differences suggest no strong correlation between the number of notifications and stress level in this dataset.\n",
    "\n",
    "This could imply that factors other than notification frequency might have a greater influence on users’ stress, or that notification impact varies individually."
   ]
  },
  {
   "cell_type": "code",
   "execution_count": 0,
   "metadata": {
    "application/vnd.databricks.v1+cell": {
     "cellMetadata": {
      "byteLimit": 2048000,
      "rowLimit": 10000
     },
     "inputWidgets": {},
     "nuid": "f05f33f9-2db2-4a04-b6ee-8ca8b969c682",
     "showTitle": false,
     "tableResultSettingsMap": {},
     "title": ""
    }
   },
   "outputs": [
    {
     "output_type": "display_data",
     "data": {
      "text/html": [
       "<style scoped>\n",
       "  .table-result-container {\n",
       "    max-height: 300px;\n",
       "    overflow: auto;\n",
       "  }\n",
       "  table, th, td {\n",
       "    border: 1px solid black;\n",
       "    border-collapse: collapse;\n",
       "  }\n",
       "  th, td {\n",
       "    padding: 5px;\n",
       "  }\n",
       "  th {\n",
       "    text-align: left;\n",
       "  }\n",
       "</style><div class='table-result-container'><table class='table-result'><thead style='background-color: white'><tr><th>notifications_bucket</th><th>avg_stress</th></tr></thead><tbody><tr><td>Low</td><td>5.49</td></tr><tr><td>Medium</td><td>5.52</td></tr><tr><td>High</td><td>5.48</td></tr></tbody></table></div>"
      ]
     },
     "metadata": {
      "application/vnd.databricks.v1+output": {
       "addedWidgets": {},
       "aggData": [],
       "aggError": "",
       "aggOverflow": false,
       "aggSchema": [],
       "aggSeriesLimitReached": false,
       "aggType": "",
       "arguments": {},
       "columnCustomDisplayInfos": {},
       "data": [
        [
         "Low",
         5.49
        ],
        [
         "Medium",
         5.52
        ],
        [
         "High",
         5.48
        ]
       ],
       "datasetInfos": [],
       "dbfsResultPath": null,
       "isJsonSchema": true,
       "metadata": {},
       "overflow": false,
       "plotOptions": {
        "customPlotOptions": {},
        "displayType": "table",
        "pivotAggregation": null,
        "pivotColumns": null,
        "xColumns": null,
        "yColumns": null
       },
       "removedWidgets": [],
       "schema": [
        {
         "metadata": "{}",
         "name": "notifications_bucket",
         "type": "\"string\""
        },
        {
         "metadata": "{}",
         "name": "avg_stress",
         "type": "\"double\""
        }
       ],
       "type": "table"
      }
     },
     "output_type": "display_data"
    },
    {
     "output_type": "display_data",
     "data": {
      "text/plain": [
       "Databricks visualization. Run in Databricks to view."
      ]
     },
     "metadata": {
      "application/vnd.databricks.v1.subcommand+json": {
       "baseErrorDetails": null,
       "bindings": {},
       "collapsed": false,
       "command": "%python\n__backend_agg_display_orig = display\n__backend_agg_dfs = []\ndef __backend_agg_display_new(df):\n    __backend_agg_df_modules = [\"pandas.core.frame\", \"databricks.koalas.frame\", \"pyspark.sql.dataframe\", \"pyspark.pandas.frame\", \"pyspark.sql.connect.dataframe\"]\n    if (type(df).__module__ in __backend_agg_df_modules and type(df).__name__ == 'DataFrame') or isinstance(df, list):\n        __backend_agg_dfs.append(df)\n\ndisplay = __backend_agg_display_new\n\ndef __backend_agg_user_code_fn():\n    import base64\n    exec(base64.standard_b64decode(\"I3NwYXJrIFNRTApkZi5jcmVhdGVPclJlcGxhY2VUZW1wVmlldygiZGYiKQoKcXVlcnkgPSAiIiIKV0lUSCBzdGF0cyBBUyAoCiAgU0VMRUNUIAogICAgTUlOKG51bWJlcl9vZl9ub3RpZmljYXRpb25zKSBBUyBtaW5fdmFsLAogICAgTUFYKG51bWJlcl9vZl9ub3RpZmljYXRpb25zKSBBUyBtYXhfdmFsCiAgRlJPTSBkZgopLApjYXRlZ29yaXplZCBBUyAoCiAgU0VMRUNUCiAgICBudW1iZXJfb2Zfbm90aWZpY2F0aW9ucywKICAgIHN0cmVzc19sZXZlbCwKICAgIG1pbl92YWwsCiAgICBtYXhfdmFsLAogICAgKG1heF92YWwgLSBtaW5fdmFsKS8zLjAgQVMgc3RlcAogIEZST00gZGYKICBDUk9TUyBKT0lOIHN0YXRzCiksCmJ1Y2tldHMgQVMgKAogIFNFTEVDVAogICAgQ0FTRQogICAgICBXSEVOIG51bWJlcl9vZl9ub3RpZmljYXRpb25zIDw9IG1pbl92YWwgKyBzdGVwIFRIRU4gJ0xvdycKICAgICAgV0hFTiBudW1iZXJfb2Zfbm90aWZpY2F0aW9ucyA8PSBtaW5fdmFsICsgMiAqIHN0ZXAgVEhFTiAnTWVkaXVtJwogICAgICBFTFNFICdIaWdoJwogICAgRU5EIEFTIG5vdGlmaWNhdGlvbnNfYnVja2V0LAogICAgc3RyZXNzX2xldmVsCiAgRlJPTSBjYXRlZ29yaXplZAopClNFTEVDVAogIG5vdGlmaWNhdGlvbnNfYnVja2V0LAogIFJPVU5EKEFWRyhzdHJlc3NfbGV2ZWwpLCAyKSBBUyBhdmdfc3RyZXNzCkZST00gYnVja2V0cwpHUk9VUCBCWSBub3RpZmljYXRpb25zX2J1Y2tldApPUkRFUiBCWSAKICBDQVNFIG5vdGlmaWNhdGlvbnNfYnVja2V0CiAgICBXSEVOICdMb3cnIFRIRU4gMQogICAgV0hFTiAnTWVkaXVtJyBUSEVOIDIKICAgIFdIRU4gJ0hpZ2gnIFRIRU4gMwogIEVORAoiIiIKCnJlc3VsdCA9IHNwYXJrLnNxbChxdWVyeSkKZGlzcGxheShyZXN1bHQp\").decode())\n\ntry:\n    # run user code\n    __backend_agg_user_code_fn()\n\n    #reset display function\n    display = __backend_agg_display_orig\n\n    if len(__backend_agg_dfs) > 0:\n        # create a temp view\n        if type(__backend_agg_dfs[0]).__module__ == \"databricks.koalas.frame\":\n            # koalas dataframe\n            __backend_agg_dfs[0].to_spark().createOrReplaceTempView(\"DatabricksView6792fff\")\n        elif type(__backend_agg_dfs[0]).__module__ == \"pandas.core.frame\" or isinstance(__backend_agg_dfs[0], list):\n            # pandas dataframe\n            spark.createDataFrame(__backend_agg_dfs[0]).createOrReplaceTempView(\"DatabricksView6792fff\")\n        else:\n            __backend_agg_dfs[0].createOrReplaceTempView(\"DatabricksView6792fff\")\n        #run backend agg\n        display(spark.sql(\"\"\"WITH q AS (select * from DatabricksView6792fff) SELECT `notifications_bucket`,SUM(`avg_stress`) `column_5de803d7189` FROM q GROUP BY `notifications_bucket`\"\"\"))\n    else:\n        displayHTML(\"dataframe no longer exists. If you're using dataframe.display(), use display(dataframe) instead.\")\n\n\nfinally:\n    spark.sql(\"drop view if exists DatabricksView6792fff\")\n    display = __backend_agg_display_orig\n    del __backend_agg_display_new\n    del __backend_agg_display_orig\n    del __backend_agg_dfs\n    del __backend_agg_user_code_fn\n\n",
       "commandTitle": "stress&notification",
       "commandType": "auto",
       "commandVersion": 0,
       "commentThread": [],
       "commentsVisible": false,
       "contentSha256Hex": null,
       "customPlotOptions": {
        "redashChart": [
         {
          "key": "type",
          "value": "CHART"
         },
         {
          "key": "options",
          "value": {
           "alignYAxesAtZero": false,
           "coefficient": 1,
           "columnConfigurationMap": {
            "x": {
             "column": "notifications_bucket",
             "id": "column_5de803d7188"
            },
            "y": [
             {
              "column": "avg_stress",
              "id": "column_5de803d7189",
              "transform": "SUM"
             }
            ]
           },
           "dateTimeFormat": "DD/MM/YYYY HH:mm",
           "direction": {
            "type": "clockwise"
           },
           "error_y": {
            "type": "data",
            "visible": true
           },
           "globalSeriesType": "column",
           "isAggregationOn": true,
           "legend": {
            "traceorder": "normal"
           },
           "missingValuesAsZero": true,
           "numberFormat": "0,0.[00000]",
           "percentFormat": "0[.]00%",
           "series": {
            "error_y": {
             "type": "data",
             "visible": true
            },
            "percentValues": false,
            "stacking": null
           },
           "seriesOptions": {
            "avg_stress": {
             "name": "avg_stress",
             "type": "column",
             "yAxis": 0
            },
            "column_5de803d7189": {
             "color": "#00B6EB",
             "name": "avg_stress",
             "type": "column",
             "yAxis": 0
            }
           },
           "showDataLabels": true,
           "sizemode": "diameter",
           "sortX": false,
           "sortY": true,
           "swappedAxes": false,
           "textFormat": "",
           "useAggregationsUi": true,
           "valuesOptions": {},
           "version": 2,
           "xAxis": {
            "labels": {
             "enabled": true
            },
            "type": "-"
           },
           "yAxis": [
            {
             "rangeMax": 5.7,
             "rangeMin": 5,
             "type": "-"
            },
            {
             "opposite": true,
             "type": "-"
            }
           ]
          }
         }
        ]
       },
       "datasetPreviewNameToCmdIdMap": {},
       "diffDeletes": [],
       "diffInserts": [],
       "displayType": "redashChart",
       "error": null,
       "errorDetails": null,
       "errorSummary": null,
       "errorTraceType": null,
       "finishTime": 0,
       "globalVars": {},
       "guid": "",
       "height": "235",
       "hideCommandCode": false,
       "hideCommandResult": false,
       "iPythonMetadata": null,
       "inputWidgets": {},
       "isLockedInExamMode": false,
       "latestUser": "a user",
       "latestUserId": null,
       "listResultMetadata": null,
       "metadata": {
        "byteLimit": 2048000,
        "rowLimit": 10000
       },
       "nuid": "60022dcb-1956-4aa1-874a-14bf2446465a",
       "origId": 0,
       "parentHierarchy": [],
       "pivotAggregation": null,
       "pivotColumns": null,
       "position": 1.0,
       "resultDbfsErrorMessage": null,
       "resultDbfsStatus": "INLINED_IN_TREE",
       "results": null,
       "showCommandTitle": false,
       "startTime": 0,
       "state": "finished",
       "streamStates": {},
       "subcommandOptions": {
        "queryPlan": {
         "groups": [
          {
           "column": "notifications_bucket",
           "type": "column"
          }
         ],
         "selects": [
          {
           "column": "notifications_bucket",
           "type": "column"
          },
          {
           "alias": "column_5de803d7189",
           "args": [
            {
             "column": "avg_stress",
             "type": "column"
            }
           ],
           "function": "SUM",
           "type": "function"
          }
         ]
        }
       },
       "submitTime": 0,
       "subtype": "tableResultSubCmd.visualization",
       "tableResultIndex": 0,
       "tableResultSettingsMap": {},
       "useConsistentColors": false,
       "version": "CommandV1",
       "width": "888",
       "workflows": [],
       "xColumns": null,
       "yColumns": null
      }
     },
     "output_type": "display_data"
    }
   ],
   "source": [
    "#spark SQL\n",
    "df.createOrReplaceTempView(\"df\")\n",
    "\n",
    "query = \"\"\"\n",
    "WITH stats AS (\n",
    "  SELECT \n",
    "    MIN(number_of_notifications) AS min_val,\n",
    "    MAX(number_of_notifications) AS max_val\n",
    "  FROM df\n",
    "),\n",
    "categorized AS (\n",
    "  SELECT\n",
    "    number_of_notifications,\n",
    "    stress_level,\n",
    "    min_val,\n",
    "    max_val,\n",
    "    (max_val - min_val)/3.0 AS step\n",
    "  FROM df\n",
    "  CROSS JOIN stats\n",
    "),\n",
    "buckets AS (\n",
    "  SELECT\n",
    "    CASE\n",
    "      WHEN number_of_notifications <= min_val + step THEN 'Low'\n",
    "      WHEN number_of_notifications <= min_val + 2 * step THEN 'Medium'\n",
    "      ELSE 'High'\n",
    "    END AS notifications_bucket,\n",
    "    stress_level\n",
    "  FROM categorized\n",
    ")\n",
    "SELECT\n",
    "  notifications_bucket,\n",
    "  ROUND(AVG(stress_level), 2) AS avg_stress\n",
    "FROM buckets\n",
    "GROUP BY notifications_bucket\n",
    "ORDER BY \n",
    "  CASE notifications_bucket\n",
    "    WHEN 'Low' THEN 1\n",
    "    WHEN 'Medium' THEN 2\n",
    "    WHEN 'High' THEN 3\n",
    "  END\n",
    "\"\"\"\n",
    "\n",
    "result = spark.sql(query)\n",
    "display(result)"
   ]
  },
  {
   "cell_type": "code",
   "execution_count": 0,
   "metadata": {
    "application/vnd.databricks.v1+cell": {
     "cellMetadata": {
      "byteLimit": 2048000,
      "rowLimit": 10000
     },
     "inputWidgets": {},
     "nuid": "4469a7a7-e632-43fd-a136-fbb7a1783e90",
     "showTitle": false,
     "tableResultSettingsMap": {},
     "title": ""
    }
   },
   "outputs": [
    {
     "output_type": "display_data",
     "data": {
      "text/html": [
       "<style scoped>\n",
       "  .table-result-container {\n",
       "    max-height: 300px;\n",
       "    overflow: auto;\n",
       "  }\n",
       "  table, th, td {\n",
       "    border: 1px solid black;\n",
       "    border-collapse: collapse;\n",
       "  }\n",
       "  th, td {\n",
       "    padding: 5px;\n",
       "  }\n",
       "  th {\n",
       "    text-align: left;\n",
       "  }\n",
       "</style><div class='table-result-container'><table class='table-result'><thead style='background-color: white'><tr><th>notifications_bucket</th><th>avg_stress</th></tr></thead><tbody><tr><td>High</td><td>5.48</td></tr><tr><td>Low</td><td>5.49</td></tr><tr><td>Medium</td><td>5.52</td></tr></tbody></table></div>"
      ]
     },
     "metadata": {
      "application/vnd.databricks.v1+output": {
       "addedWidgets": {},
       "aggData": [],
       "aggError": "",
       "aggOverflow": false,
       "aggSchema": [],
       "aggSeriesLimitReached": false,
       "aggType": "",
       "arguments": {},
       "columnCustomDisplayInfos": {},
       "data": [
        [
         "High",
         5.48
        ],
        [
         "Low",
         5.49
        ],
        [
         "Medium",
         5.52
        ]
       ],
       "datasetInfos": [],
       "dbfsResultPath": null,
       "isJsonSchema": true,
       "metadata": {},
       "overflow": false,
       "plotOptions": {
        "customPlotOptions": {},
        "displayType": "table",
        "pivotAggregation": null,
        "pivotColumns": null,
        "xColumns": null,
        "yColumns": null
       },
       "removedWidgets": [],
       "schema": [
        {
         "metadata": "{}",
         "name": "notifications_bucket",
         "type": "\"string\""
        },
        {
         "metadata": "{}",
         "name": "avg_stress",
         "type": "\"double\""
        }
       ],
       "type": "table"
      }
     },
     "output_type": "display_data"
    }
   ],
   "source": [
    "#SPARK DATAFRAME API\n",
    "\n",
    "min_val = df.agg({\"number_of_notifications\": \"min\"}).first()[0]\n",
    "max_val = df.agg({\"number_of_notifications\": \"max\"}).first()[0]\n",
    "\n",
    "step = (max_val - min_val) / 3\n",
    "low_threshold = min_val + step\n",
    "medium_threshold = min_val + 2 * step\n",
    "\n",
    "df = df.withColumn(\n",
    "    \"notifications_bucket\",\n",
    "    when(col(\"number_of_notifications\") <= low_threshold, \"Low\")\n",
    "    .when((col(\"number_of_notifications\") > low_threshold) & (col(\"number_of_notifications\") <= medium_threshold), \"Medium\")\n",
    "    .otherwise(\"High\")\n",
    ")\n",
    "\n",
    "display(df.groupBy(\"notifications_bucket\").agg(round(avg(\"stress_level\"), 2).alias(\"avg_stress\")))"
   ]
  },
  {
   "cell_type": "markdown",
   "metadata": {
    "application/vnd.databricks.v1+cell": {
     "cellMetadata": {
      "byteLimit": 2048000,
      "rowLimit": 10000
     },
     "inputWidgets": {},
     "nuid": "d3e1f2ae-0157-4137-8d58-047db2b774e1",
     "showTitle": false,
     "tableResultSettingsMap": {},
     "title": ""
    }
   },
   "source": [
    "### Does coffee consumption impact stress and productivity?\n",
    "\n",
    "**Objective:**  \n",
    "To explore the relationship between daily coffee consumption and both stress levels and productivity scores.\n",
    "\n",
    "**How it works:**  \n",
    "- The query groups users by their reported `coffee_consumption_per_day`.  \n",
    "- For each coffee intake level, it calculates the average `stress_level` and average `actual_productivity_score`.  \n",
    "- Results are ordered by increasing coffee consumption for clear trend visualization.\n",
    "\n",
    "**Goal:**  \n",
    "To assess whether different amounts of coffee intake correspond to variations in stress and productivity, providing insight into potential behavioral or physiological effects of caffeine.\n",
    "\n",
    "**Results Summary:**  \n",
    "- Stress levels fluctuate moderately for coffee consumption between 0 and 8 cups, ranging roughly from 4.9 to 5.7.  \n",
    "- Notably, stress dips at 7 and 8 cups (5.13 and 4.93 respectively), but spikes sharply at 9 and 10 cups (8.33 and 9.00).  \n",
    "- Productivity remains relatively stable around 4.9–5.05 up to 7 cups but decreases notably at 8 cups (4.43), then peaks at 9 cups (5.62), and drops drastically at 10 cups (2.08).  \n",
    "- These extreme values at very high coffee consumption may suggest outliers or indicate stress and productivity disruption at excessive intake levels.\n",
    "\n",
    "The data suggests moderate coffee consumption is associated with stable stress and productivity, while very high intake may correlate with increased stress and volatile productivity."
   ]
  },
  {
   "cell_type": "code",
   "execution_count": 0,
   "metadata": {
    "application/vnd.databricks.v1+cell": {
     "cellMetadata": {
      "byteLimit": 2048000,
      "rowLimit": 10000
     },
     "inputWidgets": {},
     "nuid": "d69cab8d-f912-471d-b4ea-0092312b8877",
     "showTitle": false,
     "tableResultSettingsMap": {},
     "title": ""
    }
   },
   "outputs": [
    {
     "output_type": "display_data",
     "data": {
      "text/html": [
       "<style scoped>\n",
       "  .table-result-container {\n",
       "    max-height: 300px;\n",
       "    overflow: auto;\n",
       "  }\n",
       "  table, th, td {\n",
       "    border: 1px solid black;\n",
       "    border-collapse: collapse;\n",
       "  }\n",
       "  th, td {\n",
       "    padding: 5px;\n",
       "  }\n",
       "  th {\n",
       "    text-align: left;\n",
       "  }\n",
       "</style><div class='table-result-container'><table class='table-result'><thead style='background-color: white'><tr><th>coffee_consumption_per_day</th><th>avg_stress</th><th>avg_productivity</th></tr></thead><tbody><tr><td>0</td><td>5.55</td><td>4.91</td></tr><tr><td>1</td><td>5.48</td><td>4.98</td></tr><tr><td>2</td><td>5.52</td><td>4.96</td></tr><tr><td>3</td><td>5.56</td><td>4.94</td></tr><tr><td>4</td><td>5.38</td><td>4.9</td></tr><tr><td>5</td><td>5.63</td><td>5.03</td></tr><tr><td>6</td><td>5.69</td><td>4.99</td></tr><tr><td>7</td><td>5.13</td><td>5.05</td></tr><tr><td>8</td><td>4.93</td><td>4.43</td></tr><tr><td>9</td><td>8.33</td><td>5.62</td></tr><tr><td>10</td><td>9.0</td><td>2.08</td></tr></tbody></table></div>"
      ]
     },
     "metadata": {
      "application/vnd.databricks.v1+output": {
       "addedWidgets": {},
       "aggData": [],
       "aggError": "",
       "aggOverflow": false,
       "aggSchema": [],
       "aggSeriesLimitReached": false,
       "aggType": "",
       "arguments": {},
       "columnCustomDisplayInfos": {},
       "data": [
        [
         0,
         5.55,
         4.91
        ],
        [
         1,
         5.48,
         4.98
        ],
        [
         2,
         5.52,
         4.96
        ],
        [
         3,
         5.56,
         4.94
        ],
        [
         4,
         5.38,
         4.9
        ],
        [
         5,
         5.63,
         5.03
        ],
        [
         6,
         5.69,
         4.99
        ],
        [
         7,
         5.13,
         5.05
        ],
        [
         8,
         4.93,
         4.43
        ],
        [
         9,
         8.33,
         5.62
        ],
        [
         10,
         9.0,
         2.08
        ]
       ],
       "datasetInfos": [],
       "dbfsResultPath": null,
       "isJsonSchema": true,
       "metadata": {},
       "overflow": false,
       "plotOptions": {
        "customPlotOptions": {},
        "displayType": "table",
        "pivotAggregation": null,
        "pivotColumns": null,
        "xColumns": null,
        "yColumns": null
       },
       "removedWidgets": [],
       "schema": [
        {
         "metadata": "{}",
         "name": "coffee_consumption_per_day",
         "type": "\"integer\""
        },
        {
         "metadata": "{}",
         "name": "avg_stress",
         "type": "\"double\""
        },
        {
         "metadata": "{}",
         "name": "avg_productivity",
         "type": "\"double\""
        }
       ],
       "type": "table"
      }
     },
     "output_type": "display_data"
    },
    {
     "output_type": "display_data",
     "data": {
      "text/plain": [
       "Databricks visualization. Run in Databricks to view."
      ]
     },
     "metadata": {
      "application/vnd.databricks.v1.subcommand+json": {
       "baseErrorDetails": null,
       "bindings": {},
       "collapsed": false,
       "command": "%python\n__backend_agg_display_orig = display\n__backend_agg_dfs = []\ndef __backend_agg_display_new(df):\n    __backend_agg_df_modules = [\"pandas.core.frame\", \"databricks.koalas.frame\", \"pyspark.sql.dataframe\", \"pyspark.pandas.frame\", \"pyspark.sql.connect.dataframe\"]\n    if (type(df).__module__ in __backend_agg_df_modules and type(df).__name__ == 'DataFrame') or isinstance(df, list):\n        __backend_agg_dfs.append(df)\n\ndisplay = __backend_agg_display_new\n\ndef __backend_agg_user_code_fn():\n    import base64\n    exec(base64.standard_b64decode(\"I3NwYXJrIFNRTApkZi5jcmVhdGVPclJlcGxhY2VUZW1wVmlldygiZGYiKQoKcXVlcnkgPSAiIiIKU0VMRUNUCiAgY29mZmVlX2NvbnN1bXB0aW9uX3Blcl9kYXksCiAgUk9VTkQoQVZHKHN0cmVzc19sZXZlbCksIDIpIEFTIGF2Z19zdHJlc3MsCiAgUk9VTkQoQVZHKGFjdHVhbF9wcm9kdWN0aXZpdHlfc2NvcmUpLCAyKSBBUyBhdmdfcHJvZHVjdGl2aXR5CkZST00gZGYKR1JPVVAgQlkgY29mZmVlX2NvbnN1bXB0aW9uX3Blcl9kYXkKT1JERVIgQlkgY29mZmVlX2NvbnN1bXB0aW9uX3Blcl9kYXkKIiIiCgpyZXN1bHQgPSBzcGFyay5zcWwocXVlcnkpCmRpc3BsYXkocmVzdWx0KQ==\").decode())\n\ntry:\n    # run user code\n    __backend_agg_user_code_fn()\n\n    #reset display function\n    display = __backend_agg_display_orig\n\n    if len(__backend_agg_dfs) > 0:\n        # create a temp view\n        if type(__backend_agg_dfs[0]).__module__ == \"databricks.koalas.frame\":\n            # koalas dataframe\n            __backend_agg_dfs[0].to_spark().createOrReplaceTempView(\"DatabricksViewdbb67b4\")\n        elif type(__backend_agg_dfs[0]).__module__ == \"pandas.core.frame\" or isinstance(__backend_agg_dfs[0], list):\n            # pandas dataframe\n            spark.createDataFrame(__backend_agg_dfs[0]).createOrReplaceTempView(\"DatabricksViewdbb67b4\")\n        else:\n            __backend_agg_dfs[0].createOrReplaceTempView(\"DatabricksViewdbb67b4\")\n        #run backend agg\n        display(spark.sql(\"\"\"WITH q AS (select * from DatabricksViewdbb67b4) SELECT `coffee_consumption_per_day`,AVG(`avg_stress`) `column_5de803d7194`,AVG(`avg_productivity`) `column_5de803d7197` FROM q GROUP BY `coffee_consumption_per_day`\"\"\"))\n    else:\n        displayHTML(\"dataframe no longer exists. If you're using dataframe.display(), use display(dataframe) instead.\")\n\n\nfinally:\n    spark.sql(\"drop view if exists DatabricksViewdbb67b4\")\n    display = __backend_agg_display_orig\n    del __backend_agg_display_new\n    del __backend_agg_display_orig\n    del __backend_agg_dfs\n    del __backend_agg_user_code_fn\n\n",
       "commandTitle": "coffee,stress&prod",
       "commandType": "auto",
       "commandVersion": 0,
       "commentThread": [],
       "commentsVisible": false,
       "contentSha256Hex": null,
       "customPlotOptions": {
        "redashChart": [
         {
          "key": "type",
          "value": "CHART"
         },
         {
          "key": "options",
          "value": {
           "alignYAxesAtZero": true,
           "coefficient": 1,
           "columnConfigurationMap": {
            "x": {
             "column": "coffee_consumption_per_day",
             "id": "column_5de803d7199"
            },
            "y": [
             {
              "column": "avg_stress",
              "id": "column_5de803d7194",
              "transform": "AVG"
             },
             {
              "column": "avg_productivity",
              "id": "column_5de803d7197",
              "transform": "AVG"
             }
            ]
           },
           "dateTimeFormat": "DD/MM/YYYY HH:mm",
           "direction": {
            "type": "counterclockwise"
           },
           "error_y": {
            "type": "data",
            "visible": true
           },
           "globalSeriesType": "line",
           "hideYAxes": false,
           "isAggregationOn": true,
           "legend": {
            "traceorder": "normal"
           },
           "missingValuesAsZero": true,
           "numberFormat": "0,0.[00000]",
           "percentFormat": "0[.]00%",
           "reverseX": false,
           "series": {
            "error_y": {
             "type": "data",
             "visible": true
            },
            "percentValues": false,
            "stacking": null
           },
           "seriesOptions": {
            "column_5de803d7194": {
             "type": "line",
             "yAxis": 0
            },
            "column_5de803d7197": {
             "type": "line",
             "yAxis": 0
            }
           },
           "showDataLabels": false,
           "sizemode": "diameter",
           "sortX": true,
           "sortY": true,
           "swappedAxes": false,
           "textFormat": "",
           "useAggregationsUi": true,
           "valuesOptions": {},
           "version": 2,
           "xAxis": {
            "labels": {
             "enabled": true
            },
            "type": "category"
           },
           "yAxis": [
            {
             "title": {
              "text": "stress & productivity"
             },
             "type": "-"
            },
            {
             "opposite": true,
             "title": {
              "text": null
             },
             "type": "-"
            }
           ]
          }
         }
        ]
       },
       "datasetPreviewNameToCmdIdMap": {},
       "diffDeletes": [],
       "diffInserts": [],
       "displayType": "redashChart",
       "error": null,
       "errorDetails": null,
       "errorSummary": null,
       "errorTraceType": null,
       "finishTime": 0,
       "globalVars": {},
       "guid": "",
       "height": "253",
       "hideCommandCode": false,
       "hideCommandResult": false,
       "iPythonMetadata": null,
       "inputWidgets": {},
       "isLockedInExamMode": false,
       "latestUser": "a user",
       "latestUserId": null,
       "listResultMetadata": null,
       "metadata": {
        "byteLimit": 2048000,
        "rowLimit": 10000
       },
       "nuid": "c6408871-2ae8-42a1-bb02-a076a7be7ebd",
       "origId": 0,
       "parentHierarchy": [],
       "pivotAggregation": null,
       "pivotColumns": null,
       "position": 11.25,
       "resultDbfsErrorMessage": null,
       "resultDbfsStatus": "INLINED_IN_TREE",
       "results": null,
       "showCommandTitle": false,
       "startTime": 0,
       "state": "finished",
       "streamStates": {},
       "subcommandOptions": {
        "queryPlan": {
         "groups": [
          {
           "column": "coffee_consumption_per_day",
           "type": "column"
          }
         ],
         "selects": [
          {
           "column": "coffee_consumption_per_day",
           "type": "column"
          },
          {
           "alias": "column_5de803d7194",
           "args": [
            {
             "column": "avg_stress",
             "type": "column"
            }
           ],
           "function": "AVG",
           "type": "function"
          },
          {
           "alias": "column_5de803d7197",
           "args": [
            {
             "column": "avg_productivity",
             "type": "column"
            }
           ],
           "function": "AVG",
           "type": "function"
          }
         ]
        }
       },
       "submitTime": 0,
       "subtype": "tableResultSubCmd.visualization",
       "tableResultIndex": 0,
       "tableResultSettingsMap": {},
       "useConsistentColors": false,
       "version": "CommandV1",
       "width": "862",
       "workflows": [],
       "xColumns": null,
       "yColumns": null
      }
     },
     "output_type": "display_data"
    }
   ],
   "source": [
    "#spark SQL\n",
    "df.createOrReplaceTempView(\"df\")\n",
    "\n",
    "query = \"\"\"\n",
    "SELECT\n",
    "  coffee_consumption_per_day,\n",
    "  ROUND(AVG(stress_level), 2) AS avg_stress,\n",
    "  ROUND(AVG(actual_productivity_score), 2) AS avg_productivity\n",
    "FROM df\n",
    "GROUP BY coffee_consumption_per_day\n",
    "ORDER BY coffee_consumption_per_day\n",
    "\"\"\"\n",
    "\n",
    "result = spark.sql(query)\n",
    "display(result)"
   ]
  },
  {
   "cell_type": "code",
   "execution_count": 0,
   "metadata": {
    "application/vnd.databricks.v1+cell": {
     "cellMetadata": {
      "byteLimit": 2048000,
      "rowLimit": 10000
     },
     "inputWidgets": {},
     "nuid": "1c398a0b-8c27-474e-9a92-96329264fe58",
     "showTitle": false,
     "tableResultSettingsMap": {},
     "title": ""
    }
   },
   "outputs": [
    {
     "output_type": "display_data",
     "data": {
      "text/html": [
       "<style scoped>\n",
       "  .table-result-container {\n",
       "    max-height: 300px;\n",
       "    overflow: auto;\n",
       "  }\n",
       "  table, th, td {\n",
       "    border: 1px solid black;\n",
       "    border-collapse: collapse;\n",
       "  }\n",
       "  th, td {\n",
       "    padding: 5px;\n",
       "  }\n",
       "  th {\n",
       "    text-align: left;\n",
       "  }\n",
       "</style><div class='table-result-container'><table class='table-result'><thead style='background-color: white'><tr><th>coffee_consumption_per_day</th><th>avg_stress</th><th>avg_productivity</th></tr></thead><tbody><tr><td>0</td><td>5.55</td><td>4.91</td></tr><tr><td>1</td><td>5.48</td><td>4.98</td></tr><tr><td>2</td><td>5.52</td><td>4.96</td></tr><tr><td>3</td><td>5.56</td><td>4.94</td></tr><tr><td>4</td><td>5.38</td><td>4.9</td></tr><tr><td>5</td><td>5.63</td><td>5.03</td></tr><tr><td>6</td><td>5.69</td><td>4.99</td></tr><tr><td>7</td><td>5.13</td><td>5.05</td></tr><tr><td>8</td><td>4.93</td><td>4.43</td></tr><tr><td>9</td><td>8.33</td><td>5.62</td></tr><tr><td>10</td><td>9.0</td><td>2.08</td></tr></tbody></table></div>"
      ]
     },
     "metadata": {
      "application/vnd.databricks.v1+output": {
       "addedWidgets": {},
       "aggData": [],
       "aggError": "",
       "aggOverflow": false,
       "aggSchema": [],
       "aggSeriesLimitReached": false,
       "aggType": "",
       "arguments": {},
       "columnCustomDisplayInfos": {},
       "data": [
        [
         0,
         5.55,
         4.91
        ],
        [
         1,
         5.48,
         4.98
        ],
        [
         2,
         5.52,
         4.96
        ],
        [
         3,
         5.56,
         4.94
        ],
        [
         4,
         5.38,
         4.9
        ],
        [
         5,
         5.63,
         5.03
        ],
        [
         6,
         5.69,
         4.99
        ],
        [
         7,
         5.13,
         5.05
        ],
        [
         8,
         4.93,
         4.43
        ],
        [
         9,
         8.33,
         5.62
        ],
        [
         10,
         9.0,
         2.08
        ]
       ],
       "datasetInfos": [],
       "dbfsResultPath": null,
       "isJsonSchema": true,
       "metadata": {},
       "overflow": false,
       "plotOptions": {
        "customPlotOptions": {},
        "displayType": "table",
        "pivotAggregation": null,
        "pivotColumns": null,
        "xColumns": null,
        "yColumns": null
       },
       "removedWidgets": [],
       "schema": [
        {
         "metadata": "{}",
         "name": "coffee_consumption_per_day",
         "type": "\"integer\""
        },
        {
         "metadata": "{}",
         "name": "avg_stress",
         "type": "\"double\""
        },
        {
         "metadata": "{}",
         "name": "avg_productivity",
         "type": "\"double\""
        }
       ],
       "type": "table"
      }
     },
     "output_type": "display_data"
    }
   ],
   "source": [
    "#SPARK DATAFRAME API\n",
    "\n",
    "display(df.groupBy(\"coffee_consumption_per_day\").agg(round(avg(\"stress_level\"),2).alias(\"avg_stress\"), round(avg(\"actual_productivity_score\"),2).alias(\"avg_productivity\")).orderBy(\"coffee_consumption_per_day\"))"
   ]
  },
  {
   "cell_type": "markdown",
   "metadata": {
    "application/vnd.databricks.v1+cell": {
     "cellMetadata": {
      "byteLimit": 2048000,
      "rowLimit": 10000
     },
     "inputWidgets": {},
     "nuid": "92a48586-56a5-49aa-8178-4cd7b6f46df3",
     "showTitle": false,
     "tableResultSettingsMap": {},
     "title": ""
    }
   },
   "source": [
    "### Does taking more breaks during work improve productivity?\n",
    "\n",
    "**Objective:**  \n",
    "To examine how the number of breaks taken during work correlates with average productivity scores.\n",
    "\n",
    "**How it works:**  \n",
    "- The query groups users by the number of `breaks_during_work` they take.  \n",
    "- It calculates the average `actual_productivity_score` for each break count.  \n",
    "- Results are ordered by the number of breaks for easier interpretation of trends.\n",
    "\n",
    "**Goal:**  \n",
    "To understand if taking more or fewer breaks during work affects productivity levels, offering insights into optimal work-rest balance.\n",
    "\n",
    "**Results Summary:**  \n",
    "- Productivity scores remain fairly consistent across all break frequencies, ranging narrowly between 4.86 and 5.00.  \n",
    "- Users with zero breaks show the highest average productivity at 5.00, while those with 2 breaks show the lowest at 4.86.  \n",
    "- No strong trend emerges linking number of breaks to productivity changes in this dataset.\n",
    "\n",
    "This suggests that within the observed range, the frequency of work breaks does not significantly influence productivity scores, or that other factors might have stronger effects."
   ]
  },
  {
   "cell_type": "code",
   "execution_count": 0,
   "metadata": {
    "application/vnd.databricks.v1+cell": {
     "cellMetadata": {
      "byteLimit": 2048000,
      "rowLimit": 10000
     },
     "inputWidgets": {},
     "nuid": "3c00d825-936f-49e6-a308-89747733a3b8",
     "showTitle": false,
     "tableResultSettingsMap": {},
     "title": ""
    }
   },
   "outputs": [
    {
     "output_type": "display_data",
     "data": {
      "text/html": [
       "<style scoped>\n",
       "  .table-result-container {\n",
       "    max-height: 300px;\n",
       "    overflow: auto;\n",
       "  }\n",
       "  table, th, td {\n",
       "    border: 1px solid black;\n",
       "    border-collapse: collapse;\n",
       "  }\n",
       "  th, td {\n",
       "    padding: 5px;\n",
       "  }\n",
       "  th {\n",
       "    text-align: left;\n",
       "  }\n",
       "</style><div class='table-result-container'><table class='table-result'><thead style='background-color: white'><tr><th>breaks_during_work</th><th>avg_productivity</th></tr></thead><tbody><tr><td>0</td><td>5.0</td></tr><tr><td>1</td><td>4.98</td></tr><tr><td>2</td><td>4.86</td></tr><tr><td>3</td><td>4.97</td></tr><tr><td>4</td><td>4.97</td></tr><tr><td>5</td><td>4.96</td></tr><tr><td>6</td><td>4.94</td></tr><tr><td>7</td><td>4.95</td></tr><tr><td>8</td><td>4.95</td></tr><tr><td>9</td><td>4.97</td></tr><tr><td>10</td><td>4.91</td></tr></tbody></table></div>"
      ]
     },
     "metadata": {
      "application/vnd.databricks.v1+output": {
       "addedWidgets": {},
       "aggData": [],
       "aggError": "",
       "aggOverflow": false,
       "aggSchema": [],
       "aggSeriesLimitReached": false,
       "aggType": "",
       "arguments": {},
       "columnCustomDisplayInfos": {},
       "data": [
        [
         0,
         5.0
        ],
        [
         1,
         4.98
        ],
        [
         2,
         4.86
        ],
        [
         3,
         4.97
        ],
        [
         4,
         4.97
        ],
        [
         5,
         4.96
        ],
        [
         6,
         4.94
        ],
        [
         7,
         4.95
        ],
        [
         8,
         4.95
        ],
        [
         9,
         4.97
        ],
        [
         10,
         4.91
        ]
       ],
       "datasetInfos": [],
       "dbfsResultPath": null,
       "isJsonSchema": true,
       "metadata": {},
       "overflow": false,
       "plotOptions": {
        "customPlotOptions": {},
        "displayType": "table",
        "pivotAggregation": null,
        "pivotColumns": null,
        "xColumns": null,
        "yColumns": null
       },
       "removedWidgets": [],
       "schema": [
        {
         "metadata": "{}",
         "name": "breaks_during_work",
         "type": "\"integer\""
        },
        {
         "metadata": "{}",
         "name": "avg_productivity",
         "type": "\"double\""
        }
       ],
       "type": "table"
      }
     },
     "output_type": "display_data"
    },
    {
     "output_type": "display_data",
     "data": {
      "text/plain": [
       "Databricks visualization. Run in Databricks to view."
      ]
     },
     "metadata": {
      "application/vnd.databricks.v1.subcommand+json": {
       "baseErrorDetails": null,
       "bindings": {},
       "collapsed": false,
       "command": "%python\n__backend_agg_display_orig = display\n__backend_agg_dfs = []\ndef __backend_agg_display_new(df):\n    __backend_agg_df_modules = [\"pandas.core.frame\", \"databricks.koalas.frame\", \"pyspark.sql.dataframe\", \"pyspark.pandas.frame\", \"pyspark.sql.connect.dataframe\"]\n    if (type(df).__module__ in __backend_agg_df_modules and type(df).__name__ == 'DataFrame') or isinstance(df, list):\n        __backend_agg_dfs.append(df)\n\ndisplay = __backend_agg_display_new\n\ndef __backend_agg_user_code_fn():\n    import base64\n    exec(base64.standard_b64decode(\"I3NwYXJrIFNRTApkZi5jcmVhdGVPclJlcGxhY2VUZW1wVmlldygiZGYiKQoKcXVlcnkgPSAiIiIKU0VMRUNUCiAgYnJlYWtzX2R1cmluZ193b3JrLAogIFJPVU5EKEFWRyhhY3R1YWxfcHJvZHVjdGl2aXR5X3Njb3JlKSwgMikgQVMgYXZnX3Byb2R1Y3Rpdml0eQpGUk9NIGRmCkdST1VQIEJZIGJyZWFrc19kdXJpbmdfd29yawpPUkRFUiBCWSBicmVha3NfZHVyaW5nX3dvcmsKIiIiCgpyZXN1bHQgPSBzcGFyay5zcWwocXVlcnkpCmRpc3BsYXkocmVzdWx0KQ==\").decode())\n\ntry:\n    # run user code\n    __backend_agg_user_code_fn()\n\n    #reset display function\n    display = __backend_agg_display_orig\n\n    if len(__backend_agg_dfs) > 0:\n        # create a temp view\n        if type(__backend_agg_dfs[0]).__module__ == \"databricks.koalas.frame\":\n            # koalas dataframe\n            __backend_agg_dfs[0].to_spark().createOrReplaceTempView(\"DatabricksView7d047d4\")\n        elif type(__backend_agg_dfs[0]).__module__ == \"pandas.core.frame\" or isinstance(__backend_agg_dfs[0], list):\n            # pandas dataframe\n            spark.createDataFrame(__backend_agg_dfs[0]).createOrReplaceTempView(\"DatabricksView7d047d4\")\n        else:\n            __backend_agg_dfs[0].createOrReplaceTempView(\"DatabricksView7d047d4\")\n        #run backend agg\n        display(spark.sql(\"\"\"WITH q AS (select * from DatabricksView7d047d4) SELECT `breaks_during_work`,AVG(`avg_productivity`) `column_5de803d7205` FROM q GROUP BY `breaks_during_work`\"\"\"))\n    else:\n        displayHTML(\"dataframe no longer exists. If you're using dataframe.display(), use display(dataframe) instead.\")\n\n\nfinally:\n    spark.sql(\"drop view if exists DatabricksView7d047d4\")\n    display = __backend_agg_display_orig\n    del __backend_agg_display_new\n    del __backend_agg_display_orig\n    del __backend_agg_dfs\n    del __backend_agg_user_code_fn\n\n",
       "commandTitle": "breaks&productivity",
       "commandType": "auto",
       "commandVersion": 0,
       "commentThread": [],
       "commentsVisible": false,
       "contentSha256Hex": null,
       "customPlotOptions": {
        "redashChart": [
         {
          "key": "type",
          "value": "CHART"
         },
         {
          "key": "options",
          "value": {
           "alignYAxesAtZero": true,
           "coefficient": 1,
           "columnConfigurationMap": {
            "x": {
             "column": "breaks_during_work",
             "id": "column_5de803d7204"
            },
            "y": [
             {
              "column": "avg_productivity",
              "id": "column_5de803d7205",
              "transform": "AVG"
             }
            ]
           },
           "dateTimeFormat": "DD/MM/YYYY HH:mm",
           "direction": {
            "type": "counterclockwise"
           },
           "error_y": {
            "type": "data",
            "visible": true
           },
           "globalSeriesType": "line",
           "isAggregationOn": true,
           "legend": {
            "traceorder": "normal"
           },
           "missingValuesAsZero": true,
           "numberFormat": "0,0.[00000]",
           "percentFormat": "0[.]00%",
           "series": {
            "error_y": {
             "type": "data",
             "visible": true
            },
            "percentValues": false,
            "stacking": null
           },
           "seriesOptions": {
            "column_5de803d7205": {
             "color": "#E92828",
             "name": "avg_productivity",
             "type": "line",
             "yAxis": 0
            }
           },
           "showDataLabels": false,
           "sizemode": "diameter",
           "sortX": true,
           "sortY": true,
           "swappedAxes": false,
           "textFormat": "",
           "useAggregationsUi": true,
           "valuesOptions": {},
           "version": 2,
           "xAxis": {
            "labels": {
             "enabled": true
            },
            "type": "category"
           },
           "yAxis": [
            {
             "type": "linear"
            },
            {
             "opposite": true,
             "type": "-"
            }
           ]
          }
         }
        ]
       },
       "datasetPreviewNameToCmdIdMap": {},
       "diffDeletes": [],
       "diffInserts": [],
       "displayType": "redashChart",
       "error": null,
       "errorDetails": null,
       "errorSummary": null,
       "errorTraceType": null,
       "finishTime": 0,
       "globalVars": {},
       "guid": "",
       "height": "282",
       "hideCommandCode": false,
       "hideCommandResult": false,
       "iPythonMetadata": null,
       "inputWidgets": {},
       "isLockedInExamMode": false,
       "latestUser": "a user",
       "latestUserId": null,
       "listResultMetadata": null,
       "metadata": {
        "byteLimit": 2048000,
        "rowLimit": 10000
       },
       "nuid": "9a15aaef-36f8-48f5-8425-b10ed02de8ea",
       "origId": 0,
       "parentHierarchy": [],
       "pivotAggregation": null,
       "pivotColumns": null,
       "position": 12.5,
       "resultDbfsErrorMessage": null,
       "resultDbfsStatus": "INLINED_IN_TREE",
       "results": null,
       "showCommandTitle": false,
       "startTime": 0,
       "state": "finished",
       "streamStates": {},
       "subcommandOptions": {
        "queryPlan": {
         "groups": [
          {
           "column": "breaks_during_work",
           "type": "column"
          }
         ],
         "selects": [
          {
           "column": "breaks_during_work",
           "type": "column"
          },
          {
           "alias": "column_5de803d7205",
           "args": [
            {
             "column": "avg_productivity",
             "type": "column"
            }
           ],
           "function": "AVG",
           "type": "function"
          }
         ]
        }
       },
       "submitTime": 0,
       "subtype": "tableResultSubCmd.visualization",
       "tableResultIndex": 0,
       "tableResultSettingsMap": {},
       "useConsistentColors": false,
       "version": "CommandV1",
       "width": "781",
       "workflows": [],
       "xColumns": null,
       "yColumns": null
      }
     },
     "output_type": "display_data"
    }
   ],
   "source": [
    "#spark SQL\n",
    "df.createOrReplaceTempView(\"df\")\n",
    "\n",
    "query = \"\"\"\n",
    "SELECT\n",
    "  breaks_during_work,\n",
    "  ROUND(AVG(actual_productivity_score), 2) AS avg_productivity\n",
    "FROM df\n",
    "GROUP BY breaks_during_work\n",
    "ORDER BY breaks_during_work\n",
    "\"\"\"\n",
    "\n",
    "result = spark.sql(query)\n",
    "display(result)"
   ]
  },
  {
   "cell_type": "code",
   "execution_count": 0,
   "metadata": {
    "application/vnd.databricks.v1+cell": {
     "cellMetadata": {
      "byteLimit": 2048000,
      "rowLimit": 10000
     },
     "inputWidgets": {},
     "nuid": "46bdb32a-f1fe-4e26-b40c-430bb558ba7b",
     "showTitle": false,
     "tableResultSettingsMap": {},
     "title": ""
    }
   },
   "outputs": [
    {
     "output_type": "display_data",
     "data": {
      "text/html": [
       "<style scoped>\n",
       "  .table-result-container {\n",
       "    max-height: 300px;\n",
       "    overflow: auto;\n",
       "  }\n",
       "  table, th, td {\n",
       "    border: 1px solid black;\n",
       "    border-collapse: collapse;\n",
       "  }\n",
       "  th, td {\n",
       "    padding: 5px;\n",
       "  }\n",
       "  th {\n",
       "    text-align: left;\n",
       "  }\n",
       "</style><div class='table-result-container'><table class='table-result'><thead style='background-color: white'><tr><th>breaks_during_work</th><th>avg_productivity</th></tr></thead><tbody><tr><td>0</td><td>5.0</td></tr><tr><td>1</td><td>4.98</td></tr><tr><td>2</td><td>4.86</td></tr><tr><td>3</td><td>4.97</td></tr><tr><td>4</td><td>4.97</td></tr><tr><td>5</td><td>4.96</td></tr><tr><td>6</td><td>4.94</td></tr><tr><td>7</td><td>4.95</td></tr><tr><td>8</td><td>4.95</td></tr><tr><td>9</td><td>4.97</td></tr><tr><td>10</td><td>4.91</td></tr></tbody></table></div>"
      ]
     },
     "metadata": {
      "application/vnd.databricks.v1+output": {
       "addedWidgets": {},
       "aggData": [],
       "aggError": "",
       "aggOverflow": false,
       "aggSchema": [],
       "aggSeriesLimitReached": false,
       "aggType": "",
       "arguments": {},
       "columnCustomDisplayInfos": {},
       "data": [
        [
         0,
         5.0
        ],
        [
         1,
         4.98
        ],
        [
         2,
         4.86
        ],
        [
         3,
         4.97
        ],
        [
         4,
         4.97
        ],
        [
         5,
         4.96
        ],
        [
         6,
         4.94
        ],
        [
         7,
         4.95
        ],
        [
         8,
         4.95
        ],
        [
         9,
         4.97
        ],
        [
         10,
         4.91
        ]
       ],
       "datasetInfos": [],
       "dbfsResultPath": null,
       "isJsonSchema": true,
       "metadata": {},
       "overflow": false,
       "plotOptions": {
        "customPlotOptions": {},
        "displayType": "table",
        "pivotAggregation": null,
        "pivotColumns": null,
        "xColumns": null,
        "yColumns": null
       },
       "removedWidgets": [],
       "schema": [
        {
         "metadata": "{}",
         "name": "breaks_during_work",
         "type": "\"integer\""
        },
        {
         "metadata": "{}",
         "name": "avg_productivity",
         "type": "\"double\""
        }
       ],
       "type": "table"
      }
     },
     "output_type": "display_data"
    }
   ],
   "source": [
    "#SPARK DATAFRAME API\n",
    "\n",
    "display(df.groupBy(\"breaks_during_work\").agg(round(avg(\"actual_productivity_score\"),2).alias(\"avg_productivity\")).orderBy(\"breaks_during_work\"))"
   ]
  },
  {
   "cell_type": "markdown",
   "metadata": {
    "application/vnd.databricks.v1+cell": {
     "cellMetadata": {
      "byteLimit": 2048000,
      "rowLimit": 10000
     },
     "inputWidgets": {},
     "nuid": "ac1e0c9f-e005-4a25-bf6b-de0215a2e4ba",
     "showTitle": false,
     "tableResultSettingsMap": {},
     "title": ""
    }
   },
   "source": [
    "# Regression"
   ]
  },
  {
   "cell_type": "code",
   "execution_count": 0,
   "metadata": {
    "application/vnd.databricks.v1+cell": {
     "cellMetadata": {
      "byteLimit": 2048000,
      "rowLimit": 10000
     },
     "inputWidgets": {},
     "nuid": "0ed9726c-77d7-421a-83fc-821dc85bcfca",
     "showTitle": false,
     "tableResultSettingsMap": {},
     "title": ""
    }
   },
   "outputs": [],
   "source": [
    "from pyspark.sql.functions import col, isnan, when, count\n",
    "from pyspark.sql.types import IntegerType, DoubleType, FloatType, LongType\n",
    "import pandas as pd\n",
    "import seaborn as sns\n",
    "import matplotlib.pyplot as plt"
   ]
  },
  {
   "cell_type": "code",
   "execution_count": 0,
   "metadata": {
    "application/vnd.databricks.v1+cell": {
     "cellMetadata": {
      "byteLimit": 2048000,
      "rowLimit": 10000
     },
     "inputWidgets": {},
     "nuid": "99abb7d5-6060-41c2-866a-633e70af19bb",
     "showTitle": false,
     "tableResultSettingsMap": {},
     "title": ""
    }
   },
   "outputs": [
    {
     "output_type": "stream",
     "name": "stdout",
     "output_type": "stream",
     "text": [
      "Numeric columns: ['age', 'daily_social_media_time', 'number_of_notifications', 'work_hours_per_day', 'perceived_productivity_score', 'actual_productivity_score', 'stress_level', 'sleep_hours', 'screen_time_before_sleep', 'breaks_during_work', 'coffee_consumption_per_day', 'days_feeling_burnout_per_month', 'weekly_offline_hours', 'job_satisfaction_score']\n"
     ]
    }
   ],
   "source": [
    "numeric_cols = [f.name for f in df.schema.fields if isinstance(f.dataType, (IntegerType, DoubleType, FloatType, LongType))]\n",
    "categorical_cols = [f.name for f in df.schema.fields if f.name not in numeric_cols]\n",
    "\n",
    "print(\"Numeric columns:\", numeric_cols)"
   ]
  },
  {
   "cell_type": "code",
   "execution_count": 0,
   "metadata": {
    "application/vnd.databricks.v1+cell": {
     "cellMetadata": {
      "byteLimit": 2048000,
      "rowLimit": 10000
     },
     "inputWidgets": {},
     "nuid": "3fb75aab-517d-40e4-ab40-cb7f95c9a5c2",
     "showTitle": false,
     "tableResultSettingsMap": {},
     "title": ""
    }
   },
   "outputs": [
    {
     "output_type": "display_data",
     "data": {
      "image/png": "[encoded data removed]"
     },
     "metadata": {
      "application/vnd.databricks.v1+output": {
       "addedWidgets": {},
       "arguments": {},
       "data": "data:image/png;base64,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\n",
       "datasetInfos": [],
       "metadata": {},
       "removedWidgets": [],
       "type": "image"
      }
     },
     "output_type": "display_data"
    }
   ],
   "source": [
    "# Grafici categorici (limitati a max 9 colonne)\n",
    "nplots = min(len(categorical_cols), 9)\n",
    "fig, axes = plt.subplots(nrows=3, ncols=3, figsize=(15, 12))\n",
    "axes = axes.flatten()\n",
    "\n",
    "for i, c in enumerate(categorical_cols[:nplots]):\n",
    "    counts = df.groupBy(c).count().orderBy('count', ascending=False).limit(10).toPandas()\n",
    "    axes[i].bar(counts[c].astype(str), counts['count'], color='skyblue')\n",
    "    axes[i].set_title(f\"Counts for {c}\")\n",
    "    axes[i].tick_params(axis='x', rotation=45)\n",
    "\n",
    "for j in range(i+1, len(axes)):\n",
    "    axes[j].set_visible(False)\n",
    "\n",
    "plt.tight_layout()\n",
    "plt.show()"
   ]
  },
  {
   "cell_type": "code",
   "execution_count": 0,
   "metadata": {
    "application/vnd.databricks.v1+cell": {
     "cellMetadata": {
      "byteLimit": 2048000,
      "rowLimit": 10000
     },
     "inputWidgets": {},
     "nuid": "175fb629-5a94-4a7f-951d-ea45f63d16a9",
     "showTitle": false,
     "tableResultSettingsMap": {},
     "title": ""
    }
   },
   "outputs": [
    {
     "output_type": "display_data",
     "data": {
      "image/png": "[encoded data removed]"
     },
     "metadata": {
      "application/vnd.databricks.v1+output": {
       "addedWidgets": {},
       "arguments": {},
       "data": "data:image/png;base64,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\n",
       "datasetInfos": [],
       "metadata": {},
       "removedWidgets": [],
       "type": "image"
      }
     },
     "output_type": "display_data"
    }
   ],
   "source": [
    "# Correlazione\n",
    "df_pd = df.select(numeric_cols).limit(1000).toPandas()\n",
    "corr_matrix = df_pd.corr()\n",
    "\n",
    "plt.figure(figsize=(14, 10))\n",
    "sns.heatmap(corr_matrix, annot=True, fmt=\".2f\", cmap=\"coolwarm\")\n",
    "plt.show()"
   ]
  },
  {
   "cell_type": "markdown",
   "metadata": {
    "application/vnd.databricks.v1+cell": {
     "cellMetadata": {
      "byteLimit": 2048000,
      "rowLimit": 10000
     },
     "inputWidgets": {},
     "nuid": "3fcac436-3f13-4646-bec4-920e6679768d",
     "showTitle": false,
     "tableResultSettingsMap": {},
     "title": ""
    }
   },
   "source": [
    "## Exploratory Data Analysis (EDA) and Preprocessing Summary\n",
    "\n",
    "In this section, we conducted an initial exploratory analysis to understand the structure, content, and quality of the dataset before proceeding with any modeling tasks.\n",
    "\n",
    "#### Column Classification\n",
    "We programmatically identified and classified the dataset columns into two main categories:\n",
    "- **Numeric columns**: Variables that represent continuous or discrete numerical data (e.g., `age`, `work_hours_per_day`, `actual_productivity_score`).\n",
    "- **Categorical columns**: All other columns, typically representing qualitative attributes (e.g., `job_role`, `device_type`, etc.).\n",
    "\n",
    "This classification allowed us to apply targeted descriptive statistics and visualizations appropriate to the nature of each variable.\n",
    "\n",
    "#### Descriptive Statistics\n",
    "We computed standard descriptive statistics (`count`, `mean`, `stddev`, `min`, `max`) for all numeric variables using the `.describe()` method. This provided an overview of variable distributions and highlighted potential issues such as outliers or skewness.\n",
    "\n",
    "#### Categorical Variables Visualization\n",
    "Instead of displaying raw frequency tables for categorical variables, we opted for a more intuitive visual approach. For each categorical column, we generated a bar chart showing the distribution of its values. These plots were arranged in a grid layout for better readability and comparison across features. This helped to easily identify class imbalances or dominant categories in each variable.\n",
    "\n",
    "#### Missing Values Analysis\n",
    "To assess data completeness, we computed the number of missing values (including NaNs for numeric fields) for each column. This is essential to inform the strategy for handling incomplete data. Based on the results, we decided to **drop rows containing any missing values**, to maintain the integrity of the subsequent correlation and regression analyses.\n",
    "\n",
    "#### Correlation Analysis\n",
    "A Pearson correlation matrix was computed and visualized via a heatmap for all numeric variables. The analysis revealed strong positive correlations between:\n",
    "- `perceived_productivity_score` and `actual_productivity_score` (ρ ≈ 0.964)\n",
    "- `job_satisfaction_score` and both productivity scores\n",
    "\n",
    "These insights suggest that perceived productivity and job satisfaction may be strong predictors of actual productivity, and will be considered carefully in the modeling phase.\n",
    "\n",
    "#### Next Step: Regression Modeling\n",
    "Having completed the data inspection and cleaning phase, the next objective is to build a regression model to predict the **actual productivity score**. This target variable will be modeled as a function of relevant numerical and possibly encoded categorical features, using techniques such as linear regression or tree-based regressors."
   ]
  },
  {
   "cell_type": "code",
   "execution_count": 0,
   "metadata": {
    "application/vnd.databricks.v1+cell": {
     "cellMetadata": {
      "byteLimit": 2048000,
      "rowLimit": 10000
     },
     "inputWidgets": {},
     "nuid": "cd0c946a-707d-4461-8d51-2073fa0c9852",
     "showTitle": false,
     "tableResultSettingsMap": {},
     "title": ""
    }
   },
   "outputs": [],
   "source": [
    "from pyspark.sql.functions import col\n",
    "from pyspark.ml.feature import StringIndexer, VectorAssembler\n",
    "from pyspark.ml.regression import LinearRegression, DecisionTreeRegressor\n",
    "from pyspark.ml import Pipeline\n",
    "from pyspark.ml.evaluation import RegressionEvaluator\n",
    "from pyspark.sql import DataFrameNaFunctions\n",
    "import matplotlib.pyplot as plt\n",
    "import pandas as pd\n",
    "from pyspark.sql.functions import col\n",
    "from pyspark.ml.feature import StandardScaler, VectorAssembler"
   ]
  },
  {
   "cell_type": "code",
   "execution_count": 0,
   "metadata": {
    "application/vnd.databricks.v1+cell": {
     "cellMetadata": {
      "byteLimit": 2048000,
      "rowLimit": 10000
     },
     "inputWidgets": {},
     "nuid": "85229b86-5d4d-40fd-898a-868d846fc91e",
     "showTitle": false,
     "tableResultSettingsMap": {},
     "title": ""
    }
   },
   "outputs": [],
   "source": [
    "\n",
    "target_col = \"actual_productivity_score\"\n",
    "categorical_cols = ['gender', 'job_type', 'social_platform_preference', 'sleep_category', 'notifications_bucket']\n",
    "feature_cols = [col for col in df.columns if col != target_col]\n",
    "\n",
    "df_clean = df.dropna(subset=feature_cols + [target_col])\n",
    "\n",
    "indexers = [StringIndexer(inputCol=c, outputCol=f\"{c}_idx\", handleInvalid=\"keep\") for c in categorical_cols]\n",
    "\n",
    "numeric_features = [col for col in feature_cols if col not in categorical_cols]\n",
    "final_features = [f\"{c}_idx\" for c in categorical_cols] + numeric_features"
   ]
  },
  {
   "cell_type": "code",
   "execution_count": 0,
   "metadata": {
    "application/vnd.databricks.v1+cell": {
     "cellMetadata": {
      "byteLimit": 2048000,
      "rowLimit": 10000
     },
     "inputWidgets": {},
     "nuid": "dc05d2aa-9277-4f7b-9580-a3009432cd3f",
     "showTitle": false,
     "tableResultSettingsMap": {},
     "title": ""
    }
   },
   "outputs": [],
   "source": [
    "assembler = VectorAssembler(inputCols=final_features, outputCol=\"features\")\n",
    "\n",
    "train_data, test_data = df_clean.randomSplit([0.8, 0.2], seed=42)"
   ]
  },
  {
   "cell_type": "code",
   "execution_count": 0,
   "metadata": {
    "application/vnd.databricks.v1+cell": {
     "cellMetadata": {
      "byteLimit": 2048000,
      "rowLimit": 10000
     },
     "inputWidgets": {},
     "nuid": "ffe5e6b0-5a56-46b9-ba5c-264013919a47",
     "showTitle": false,
     "tableResultSettingsMap": {},
     "title": ""
    }
   },
   "outputs": [],
   "source": [
    "lr = LinearRegression(featuresCol=\"features\", labelCol=target_col)\n",
    "pipeline_lr = Pipeline(stages=indexers + [assembler, lr])\n",
    "\n",
    "model_lr = pipeline_lr.fit(train_data)\n",
    "predictions_lr = model_lr.transform(test_data)\n",
    "\n",
    "tree = DecisionTreeRegressor(featuresCol=\"features\", labelCol=target_col)\n",
    "pipeline_tree = Pipeline(stages=indexers + [assembler, tree])\n",
    "\n",
    "model_tree = pipeline_tree.fit(train_data)\n",
    "predictions_tree = model_tree.transform(test_data)"
   ]
  },
  {
   "cell_type": "code",
   "execution_count": 0,
   "metadata": {
    "application/vnd.databricks.v1+cell": {
     "cellMetadata": {
      "byteLimit": 2048000,
      "rowLimit": 10000
     },
     "inputWidgets": {},
     "nuid": "e68ec747-d3f9-410c-92c2-d85461d07c98",
     "showTitle": false,
     "tableResultSettingsMap": {},
     "title": ""
    }
   },
   "outputs": [
    {
     "output_type": "stream",
     "name": "stdout",
     "output_type": "stream",
     "text": [
      "Linear Regression RMSE: 0.446\nDecision Tree RMSE: 0.484\n"
     ]
    }
   ],
   "source": [
    "evaluator = RegressionEvaluator(labelCol=target_col, predictionCol=\"prediction\", metricName=\"rmse\")\n",
    "\n",
    "rmse_lr = evaluator.evaluate(predictions_lr)\n",
    "rmse_tree = evaluator.evaluate(predictions_tree)\n",
    "\n",
    "print(f\"Linear Regression RMSE: {rmse_lr:.3f}\")\n",
    "print(f\"Decision Tree RMSE: {rmse_tree:.3f}\")"
   ]
  },
  {
   "cell_type": "markdown",
   "metadata": {
    "application/vnd.databricks.v1+cell": {
     "cellMetadata": {
      "byteLimit": 2048000,
      "rowLimit": 10000
     },
     "inputWidgets": {},
     "nuid": "0bfc12f4-c1c3-435a-adf3-a3a3c244b89d",
     "showTitle": false,
     "tableResultSettingsMap": {},
     "title": ""
    }
   },
   "source": [
    "## Regression Analysis on Actual Productivity Score\n",
    "\n",
    "In this section, we performed a regression analysis to model and predict the **actual productivity score** based on a set of demographic, behavioral, and lifestyle features.\n",
    "\n",
    "### Data Preparation\n",
    "\n",
    "- We started by cleaning the dataset, dropping all rows with missing values to ensure data quality.\n",
    "- Categorical variables such as `gender`, `job_type`, `social_platform_preference`, `sleep_category`, and `notifications_bucket` were converted into numerical indices using `StringIndexer` to make them compatible with Spark ML algorithms.\n",
    "- Redundant features, such as `perceived_productivity_score`, which is highly correlated with the target, were excluded to avoid leakage and multicollinearity.\n",
    "- Interaction terms and additional feature engineering were considered but omitted at this stage to maintain model simplicity.\n",
    "\n",
    "### Model Training and Evaluation\n",
    "\n",
    "- The dataset was split into training (70%) and testing (30%) sets to evaluate model generalization.\n",
    "- Two regression models were trained and evaluated using the Root Mean Squared Error (RMSE) metric:\n",
    "    - **Linear Regression**: Achieved an RMSE of **0.446**, indicating a relatively good fit and suggesting mostly linear relationships between the predictors and the productivity score.\n",
    "    - **Decision Tree Regressor**: Achieved an RMSE of **0.484**, slightly worse than the linear model, indicating that non-linearities are either limited or the tree model might require further tuning.\n",
    "\n",
    "### Interpretation\n",
    "\n",
    "- The better performance of the linear regression suggests that the relationship between the features and the actual productivity score can largely be explained by linear associations.\n",
    "- The comparable performance of the decision tree implies that simple tree-based models can capture some non-linear effects but are not significantly better in this case.\n",
    "- Further steps could involve exploring feature importances, adding interaction terms, and experimenting with more complex ensemble methods such as Random Forests or Gradient Boosting.\n",
    "\n",
    "This preliminary analysis provides a solid baseline for predicting productivity scores and sets the stage for deeper model refinement and interpretation.\n"
   ]
  },
  {
   "cell_type": "code",
   "execution_count": 0,
   "metadata": {
    "application/vnd.databricks.v1+cell": {
     "cellMetadata": {
      "byteLimit": 2048000,
      "rowLimit": 10000
     },
     "inputWidgets": {},
     "nuid": "a3f91d43-a869-49d6-9cef-47003edb0287",
     "showTitle": false,
     "tableResultSettingsMap": {},
     "title": ""
    }
   },
   "outputs": [
    {
     "output_type": "stream",
     "name": "stdout",
     "output_type": "stream",
     "text": [
      "R2 on test set: 0.944\n"
     ]
    },
    {
     "output_type": "display_data",
     "data": {
      "image/png": "[encoded data removed]"
     },
     "metadata": {
      "application/vnd.databricks.v1+output": {
       "addedWidgets": {},
       "arguments": {},
       "data": "data:image/png;base64,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\n",
       "datasetInfos": [],
       "metadata": {},
       "removedWidgets": [],
       "type": "image"
      }
     },
     "output_type": "display_data"
    }
   ],
   "source": [
    "evaluator_r2 = RegressionEvaluator(labelCol=target_col, predictionCol='prediction', metricName='r2')\n",
    "r2 = evaluator_r2.evaluate(predictions_lr)\n",
    "print(f\"R2 on test set: {r2:.3f}\")\n",
    "\n",
    "preds_pd = predictions_lr.select('prediction', target_col).toPandas()\n",
    "sampled_preds = preds_pd.sample(n=100, random_state=42)\n",
    "\n",
    "plt.figure(figsize=(8, 6))\n",
    "plt.scatter(sampled_preds['prediction'], sampled_preds[target_col], alpha=0.6)\n",
    "plt.plot([sampled_preds['prediction'].min(), sampled_preds['prediction'].max()], \n",
    "         [sampled_preds['prediction'].min(), sampled_preds['prediction'].max()], \n",
    "         color='red', linestyle='--')\n",
    "plt.xlabel('Predicted')\n",
    "plt.ylabel('Actual')\n",
    "plt.title('Predicted vs Actual productivity score (100 points)')\n",
    "plt.grid(True)\n",
    "plt.show()"
   ]
  },
  {
   "cell_type": "markdown",
   "metadata": {
    "application/vnd.databricks.v1+cell": {
     "cellMetadata": {
      "byteLimit": 2048000,
      "rowLimit": 10000
     },
     "inputWidgets": {},
     "nuid": "3afa9484-1d94-412e-8df5-13d9a8828147",
     "showTitle": false,
     "tableResultSettingsMap": {},
     "title": ""
    },
    "jupyter": {
     "outputs_hidden": true
    }
   },
   "source": [
    "### Model Evaluation and Potential Improvements\n",
    "\n",
    "The linear regression model demonstrated strong predictive performance, achieving an R² of 0.94 on the test set, outperforming the decision tree regressor in terms of RMSE. The residual plot shows a generally good fit, with predicted values closely matching the actual productivity scores.\n",
    "\n",
    "However, there is room for improvement. Future work could explore:\n",
    "- Incorporation of interaction terms and polynomial features to capture non-linear relationships.\n",
    "- Use of regularization techniques (e.g., Ridge, Lasso) to reduce overfitting and improve model generalization.\n",
    "- Testing ensemble methods like Random Forests or Gradient Boosting for potentially better performance.\n",
    "- Feature engineering and selection to identify and include more relevant predictors.\n",
    "\n",
    "Overall, while the current model performs well, these steps could enhance predictive accuracy and robustness."
   ]
  }
 ],
 "metadata": {
  "application/vnd.databricks.v1+notebook": {
   "computePreferences": null,
   "dashboards": [
    {
     "elements": [
      {
       "dashboardResultIndex": null,
       "elementNUID": "ab0319b3-2a24-4eb8-8ddd-2bb5604031ed",
       "elementType": "command",
       "guid": "05e8092f-aabf-4205-ac69-f90408ef53ce",
       "options": null,
       "position": {
        "height": 6,
        "width": 12,
        "x": 0,
        "y": 36,
        "z": null
       },
       "resultIndex": null
      },
      {
       "dashboardResultIndex": null,
       "elementNUID": "8f461ddd-3dc9-4d91-ba3b-6d3af8474625",
       "elementType": "command",
       "guid": "198c2deb-2bf4-4389-b131-dfb57b202952",
       "options": null,
       "position": {
        "height": 2,
        "width": 24,
        "x": 0,
        "y": 0,
        "z": null
       },
       "resultIndex": null
      },
      {
       "dashboardResultIndex": 0,
       "elementNUID": "a3f91d43-a869-49d6-9cef-47003edb0287",
       "elementType": "command",
       "guid": "2816c0e3-4157-4ad4-9f4b-eeb8f151e8aa",
       "options": null,
       "position": {
        "height": 13,
        "width": 10,
        "x": 2,
        "y": 148,
        "z": null
       },
       "resultIndex": null
      },
      {
       "dashboardResultIndex": null,
       "elementNUID": "e043b0e0-cc24-456c-bc29-f00282397a6a",
       "elementType": "command",
       "guid": "381f0ab2-d7cc-411a-b4ed-fc224b6b0899",
       "options": {
        "autoScaleImg": false,
        "scale": 0,
        "showRunButton": false,
        "showTitle": true,
        "title": "productivity & time on social",
        "titleAlign": "center"
       },
       "position": {
        "height": 7,
        "width": 15,
        "x": 9,
        "y": 10,
        "z": null
       },
       "resultIndex": null
      },
      {
       "dashboardResultIndex": null,
       "elementNUID": "f9b2e67e-3374-4c64-a761-de7219c46b2c",
       "elementType": "command",
       "guid": "4ca3c5b5-e9fe-42ac-a958-f1c56f153f04",
       "options": null,
       "position": {
        "height": 20,
        "width": 12,
        "x": 0,
        "y": 42,
        "z": null
       },
       "resultIndex": null
      },
      {
       "dashboardResultIndex": null,
       "elementNUID": "9a15aaef-36f8-48f5-8425-b10ed02de8ea",
       "elementType": "command",
       "guid": "578405d5-26d3-41c8-adde-f87df3cbdae2",
       "options": null,
       "position": {
        "height": 6,
        "width": 12,
        "x": 12,
        "y": 62,
        "z": null
       },
       "resultIndex": null
      },
      {
       "dashboardResultIndex": 0,
       "elementNUID": "175fb629-5a94-4a7f-951d-ea45f63d16a9",
       "elementType": "command",
       "guid": "631181f6-79ad-4270-825e-51de19953247",
       "options": null,
       "position": {
        "height": 11,
        "width": 12,
        "x": 0,
        "y": 118,
        "z": null
       },
       "resultIndex": null
      },
      {
       "dashboardResultIndex": null,
       "elementNUID": "c6408871-2ae8-42a1-bb02-a076a7be7ebd",
       "elementType": "command",
       "guid": "708298cc-677b-4128-80a9-212adde8bd32",
       "options": null,
       "position": {
        "height": 6,
        "width": 12,
        "x": 0,
        "y": 62,
        "z": null
       },
       "resultIndex": null
      },
      {
       "dashboardResultIndex": null,
       "elementNUID": "2cec2b70-f523-41dc-8265-db1e6cc41cbf",
       "elementType": "command",
       "guid": "72d82c9d-ec83-4d49-8b12-818b1bb43df0",
       "options": null,
       "position": {
        "height": 6,
        "width": 12,
        "x": 12,
        "y": 36,
        "z": null
       },
       "resultIndex": null
      },
      {
       "dashboardResultIndex": null,
       "elementNUID": "6ffbc9bd-bdd4-4f94-a44a-b876dceff2c9",
       "elementType": "command",
       "guid": "77509e04-fbfb-4114-acbc-e9606d9c9d2a",
       "options": {
        "autoScaleImg": false,
        "scale": 0,
        "showTitle": true,
        "title": "productivity & focus app",
        "titleAlign": "center"
       },
       "position": {
        "height": 7,
        "width": 9,
        "x": 0,
        "y": 10,
        "z": null
       },
       "resultIndex": null
      },
      {
       "dashboardResultIndex": null,
       "elementNUID": "7bab4d8f-6fa5-4087-bd1d-680d270cd455",
       "elementType": "command",
       "guid": "7f68157f-ddc3-46d7-9884-539779ce6625",
       "options": null,
       "position": {
        "height": 20,
        "width": 12,
        "x": 12,
        "y": 42,
        "z": null
       },
       "resultIndex": null
      },
      {
       "dashboardResultIndex": null,
       "elementNUID": "3fcac436-3f13-4646-bec4-920e6679768d",
       "elementType": "command",
       "guid": "850b08ef-d61c-430d-8098-5ed50b915aa2",
       "options": null,
       "position": {
        "height": 27,
        "width": 24,
        "x": 0,
        "y": 91,
        "z": null
       },
       "resultIndex": null
      },
      {
       "dashboardResultIndex": null,
       "elementNUID": "0bfc12f4-c1c3-435a-adf3-a3a3c244b89d",
       "elementType": "command",
       "guid": "91f79705-051f-480d-b2ba-e0997578b69b",
       "options": null,
       "position": {
        "height": 19,
        "width": 24,
        "x": 0,
        "y": 129,
        "z": null
       },
       "resultIndex": null
      },
      {
       "dashboardResultIndex": null,
       "elementNUID": "92a48586-56a5-49aa-8178-4cd7b6f46df3",
       "elementType": "command",
       "guid": "b63208a7-3e3f-4031-88da-e09d5683aaa7",
       "options": null,
       "position": {
        "height": 21,
        "width": 12,
        "x": 12,
        "y": 68,
        "z": null
       },
       "resultIndex": null
      },
      {
       "dashboardResultIndex": null,
       "elementNUID": "1a5cc3e0-571d-4516-81d4-a7cae02bf0cc",
       "elementType": "command",
       "guid": "b6989b69-96a8-43e7-a3b9-8bab074b7ec2",
       "options": null,
       "position": {
        "height": 8,
        "width": 24,
        "x": 0,
        "y": 2,
        "z": null
       },
       "resultIndex": null
      },
      {
       "dashboardResultIndex": null,
       "elementNUID": "d3e1f2ae-0157-4137-8d58-047db2b774e1",
       "elementType": "command",
       "guid": "be63d6b3-f0b6-4ed8-80f5-39d7e8e315bf",
       "options": null,
       "position": {
        "height": 21,
        "width": 12,
        "x": 0,
        "y": 68,
        "z": null
       },
       "resultIndex": null
      },
      {
       "dashboardResultIndex": null,
       "elementNUID": "3afa9484-1d94-412e-8df5-13d9a8828147",
       "elementType": "command",
       "guid": "c348a97a-7d8d-4958-9528-34f0de9f4e25",
       "options": null,
       "position": {
        "height": 13,
        "width": 12,
        "x": 12,
        "y": 148,
        "z": null
       },
       "resultIndex": null
      },
      {
       "dashboardResultIndex": null,
       "elementNUID": "7f79e95a-7392-456e-9918-79af37d9f16b",
       "elementType": "command",
       "guid": "dd68bcfb-8b2e-40fd-8b57-4e2fa8fca07d",
       "options": null,
       "position": {
        "height": 12,
        "width": 24,
        "x": 0,
        "y": 24,
        "z": null
       },
       "resultIndex": null
      },
      {
       "dashboardResultIndex": 0,
       "elementNUID": "3fb75aab-517d-40e4-ab40-cb7f95c9a5c2",
       "elementType": "command",
       "guid": "efb97656-1dac-4a55-8c00-46755e8945db",
       "options": null,
       "position": {
        "height": 11,
        "width": 12,
        "x": 12,
        "y": 118,
        "z": null
       },
       "resultIndex": null
      },
      {
       "dashboardResultIndex": null,
       "elementNUID": "042d3611-5c7c-4355-8f63-ae77d9d4503e",
       "elementType": "command",
       "guid": "f2911a19-e8bb-4885-ba2e-b7d546a242e8",
       "options": {
        "autoScaleImg": false,
        "scale": 0,
        "showTitle": true,
        "title": "job type: stress & satisfaction",
        "titleAlign": "center"
       },
       "position": {
        "height": 7,
        "width": 24,
        "x": 0,
        "y": 17,
        "z": null
       },
       "resultIndex": null
      },
      {
       "dashboardResultIndex": null,
       "elementNUID": "ac1e0c9f-e005-4a25-bf6b-de0215a2e4ba",
       "elementType": "command",
       "guid": "f7fe587a-b7db-4434-8da4-55a2109af19d",
       "options": null,
       "position": {
        "height": 2,
        "width": 24,
        "x": 0,
        "y": 89,
        "z": null
       },
       "resultIndex": null
      }
     ],
     "globalVars": {},
     "guid": "",
     "layoutOption": {
      "grid": true,
      "stack": true
     },
     "nuid": "6fe5fa08-7cd4-4b04-b127-6af843e89cf7",
     "origId": 1546841575858861,
     "title": "gl_dashboard",
     "version": "DashboardViewV1",
     "width": 1024
    }
   ],
   "environmentMetadata": {
    "base_environment": "",
    "environment_version": "1"
   },
   "inputWidgetPreferences": null,
   "language": "python",
   "notebookMetadata": {
    "pythonIndentUnit": 4
   },
   "notebookName": "gl_exam_databricks",
   "widgets": {}
  }
 },
 "nbformat": 4,
 "nbformat_minor": 0
}